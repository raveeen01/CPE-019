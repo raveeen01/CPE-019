{
  "nbformat": 4,
  "nbformat_minor": 0,
  "metadata": {
    "colab": {
      "provenance": []
    },
    "kernelspec": {
      "name": "python3",
      "display_name": "Python 3"
    },
    "language_info": {
      "name": "python"
    }
  },
  "cells": [
    {
      "cell_type": "markdown",
      "source": [
        "Technological Institute of the Philippines | Quezon City - Computer Engineering\n",
        "--- | ---\n",
        "Course Code: | CPE 019\n",
        "Code Title: | Emerging Technologies in CpE 2\n",
        "2nd Semester | AY 2023-2024\n",
        "<hr> | <hr>\n",
        "**Assignment 8.1:**| Saving Models\n",
        "<hr> | <hr>\n",
        "**Name**         | Escalicas, Peter Allen\n",
        "**Section** | CPE32S3\n",
        "**Date Performed**: |April 13, 2024\n",
        "**Date Submitted**: |April 19, 2024\n",
        "**Instructor**: | Engr. Roman Richard\n",
        "<hr> | <hr>"
      ],
      "metadata": {
        "id": "gdHEEhdwWsfQ"
      }
    },
    {
      "cell_type": "markdown",
      "source": [
        "**DATASET LINK** = https://archive.ics.uci.edu/dataset/95/spect+heart\n",
        "\n",
        "<br>\n",
        "\n",
        "**DATASETS DESCRIPTION** - The dataset describes diagnosing of cardiac Single Proton Emission Computed Tomography (SPECT) images. Each of the patients is classified into two categories: normal and abnormal.\n",
        "<br>\n",
        "\n",
        "\n",
        "**PROBLEM BEING ADDRESSED** - The SPECT dataset provides a way to train and evaluate machine learning models for automated analysis of SPECT images, potentially assisting medical professionals in diagnosing heart conditions."
      ],
      "metadata": {
        "id": "t1xb5LXQW4OE"
      }
    },
    {
      "cell_type": "code",
      "execution_count": 1,
      "metadata": {
        "colab": {
          "base_uri": "https://localhost:8080/",
          "height": 0
        },
        "id": "wDnhz6eLsp41",
        "outputId": "e9a06b8f-014b-4511-bdd4-1581a583da77"
      },
      "outputs": [
        {
          "output_type": "stream",
          "name": "stdout",
          "text": [
            "Collecting ucimlrepo\n",
            "  Downloading ucimlrepo-0.0.6-py3-none-any.whl (8.0 kB)\n",
            "Installing collected packages: ucimlrepo\n",
            "Successfully installed ucimlrepo-0.0.6\n"
          ]
        }
      ],
      "source": [
        "pip install ucimlrepo"
      ]
    },
    {
      "cell_type": "markdown",
      "source": [
        "# Importing of Libraries and Pre-Processing"
      ],
      "metadata": {
        "id": "PwPlJ_x9u9VG"
      }
    },
    {
      "cell_type": "code",
      "source": [
        "#importing the libraries\n",
        "\n",
        "import numpy as np\n",
        "import pandas as pd\n",
        "import math\n",
        "import tensorflow as tf\n",
        "import matplotlib.pyplot as plt\n",
        "from keras.optimizers import Adam\n",
        "from tensorflow.keras.optimizers import Adam\n",
        "from tensorflow.keras.optimizers.legacy import Adam\n",
        "from keras.optimizers import Adam, SGD\n",
        "from keras.callbacks import LearningRateScheduler\n",
        "from keras.callbacks import ModelCheckpoint\n",
        "from sklearn.preprocessing import LabelEncoder\n",
        "from sklearn.model_selection import train_test_split\n",
        "from tensorflow.keras.models import Sequential, model_from_json\n",
        "from tensorflow.keras.layers import Dense\n",
        "from tensorflow.keras.layers import Dropout\n",
        "from sklearn.preprocessing import StandardScaler"
      ],
      "metadata": {
        "id": "WBI6OgDysqvl"
      },
      "execution_count": 100,
      "outputs": []
    },
    {
      "cell_type": "code",
      "source": [
        "from ucimlrepo import fetch_ucirepo\n",
        "\n",
        "# fetch dataset\n",
        "spect_heart = fetch_ucirepo(id=95)\n",
        "\n",
        "# data (as pandas dataframes)\n",
        "X = spect_heart.data.features\n",
        "y = spect_heart.data.targets\n",
        "\n",
        "# Info for X data\n",
        "X.info()\n",
        "\n",
        "# Info for y data\n",
        "y.info()"
      ],
      "metadata": {
        "colab": {
          "base_uri": "https://localhost:8080/",
          "height": 0
        },
        "id": "E-XIaD5fsrHw",
        "outputId": "8ef017b8-a324-4ba9-9429-ab86e710233e"
      },
      "execution_count": 3,
      "outputs": [
        {
          "output_type": "stream",
          "name": "stdout",
          "text": [
            "<class 'pandas.core.frame.DataFrame'>\n",
            "RangeIndex: 267 entries, 0 to 266\n",
            "Data columns (total 22 columns):\n",
            " #   Column  Non-Null Count  Dtype\n",
            "---  ------  --------------  -----\n",
            " 0   F1      267 non-null    int64\n",
            " 1   F2      267 non-null    int64\n",
            " 2   F3      267 non-null    int64\n",
            " 3   F4      267 non-null    int64\n",
            " 4   F5      267 non-null    int64\n",
            " 5   F6      267 non-null    int64\n",
            " 6   F7      267 non-null    int64\n",
            " 7   F8      267 non-null    int64\n",
            " 8   F9      267 non-null    int64\n",
            " 9   F10     267 non-null    int64\n",
            " 10  F11     267 non-null    int64\n",
            " 11  F12     267 non-null    int64\n",
            " 12  F13     267 non-null    int64\n",
            " 13  F14     267 non-null    int64\n",
            " 14  F15     267 non-null    int64\n",
            " 15  F16     267 non-null    int64\n",
            " 16  F17     267 non-null    int64\n",
            " 17  F18     267 non-null    int64\n",
            " 18  F19     267 non-null    int64\n",
            " 19  F20     267 non-null    int64\n",
            " 20  F21     267 non-null    int64\n",
            " 21  F22     267 non-null    int64\n",
            "dtypes: int64(22)\n",
            "memory usage: 46.0 KB\n",
            "<class 'pandas.core.frame.DataFrame'>\n",
            "RangeIndex: 267 entries, 0 to 266\n",
            "Data columns (total 1 columns):\n",
            " #   Column             Non-Null Count  Dtype\n",
            "---  ------             --------------  -----\n",
            " 0   OVERALL_DIAGNOSIS  267 non-null    int64\n",
            "dtypes: int64(1)\n",
            "memory usage: 2.2 KB\n"
          ]
        }
      ]
    },
    {
      "cell_type": "markdown",
      "source": [
        "Observation:\n",
        "\n",
        "As we can see I imported the dataset and used the .info() command for each data. And we can see that for X data we have 22 features all of them has a datatype of int64 and for y data we have 1 target feature."
      ],
      "metadata": {
        "id": "suw60cETtxd3"
      }
    },
    {
      "cell_type": "code",
      "source": [
        "X.isnull().sum()"
      ],
      "metadata": {
        "colab": {
          "base_uri": "https://localhost:8080/",
          "height": 0
        },
        "id": "1k0-zcKVsrhS",
        "outputId": "b51cca8f-5db9-42f4-d0a1-debcc0039dcd"
      },
      "execution_count": 4,
      "outputs": [
        {
          "output_type": "execute_result",
          "data": {
            "text/plain": [
              "F1     0\n",
              "F2     0\n",
              "F3     0\n",
              "F4     0\n",
              "F5     0\n",
              "F6     0\n",
              "F7     0\n",
              "F8     0\n",
              "F9     0\n",
              "F10    0\n",
              "F11    0\n",
              "F12    0\n",
              "F13    0\n",
              "F14    0\n",
              "F15    0\n",
              "F16    0\n",
              "F17    0\n",
              "F18    0\n",
              "F19    0\n",
              "F20    0\n",
              "F21    0\n",
              "F22    0\n",
              "dtype: int64"
            ]
          },
          "metadata": {},
          "execution_count": 4
        }
      ]
    },
    {
      "cell_type": "markdown",
      "source": [
        "Observation:\n",
        "\n",
        "As we can see for our X data we have no null values in the dataset."
      ],
      "metadata": {
        "id": "R-1U6oYVukX3"
      }
    },
    {
      "cell_type": "code",
      "source": [
        "X.head(10)"
      ],
      "metadata": {
        "colab": {
          "base_uri": "https://localhost:8080/",
          "height": 392
        },
        "id": "6cof-LkjupmN",
        "outputId": "a25b4ff2-fc65-4149-fb13-37a94ce12955"
      },
      "execution_count": 5,
      "outputs": [
        {
          "output_type": "execute_result",
          "data": {
            "text/plain": [
              "   F1  F2  F3  F4  F5  F6  F7  F8  F9  F10  ...  F13  F14  F15  F16  F17  F18  \\\n",
              "0   0   0   0   1   0   0   0   1   1    0  ...    1    1    0    0    0    0   \n",
              "1   0   0   1   1   0   0   0   1   1    0  ...    1    1    0    0    0    0   \n",
              "2   1   0   1   0   1   0   0   1   0    1  ...    1    0    0    0    0    0   \n",
              "3   0   0   0   0   0   0   0   0   0    0  ...    0    0    0    0    0    0   \n",
              "4   0   0   0   0   0   0   0   1   0    0  ...    1    0    1    1    0    0   \n",
              "5   0   0   0   1   0   0   0   0   1    0  ...    1    1    0    1    0    0   \n",
              "6   1   0   1   1   0   0   0   1   0    1  ...    1    0    0    0    0    0   \n",
              "7   0   0   1   0   0   0   0   1   0    0  ...    1    0    0    0    0    0   \n",
              "8   0   0   1   0   0   0   1   1   0    0  ...    1    0    1    0    0    0   \n",
              "9   0   1   0   0   0   0   1   1   0    0  ...    0    0    0    0    0    0   \n",
              "\n",
              "   F19  F20  F21  F22  \n",
              "0    0    0    0    0  \n",
              "1    0    0    0    1  \n",
              "2    0    0    0    0  \n",
              "3    0    1    1    1  \n",
              "4    0    0    0    0  \n",
              "5    0    1    0    1  \n",
              "6    0    0    1    1  \n",
              "7    0    0    0    1  \n",
              "8    0    0    1    1  \n",
              "9    0    0    0    0  \n",
              "\n",
              "[10 rows x 22 columns]"
            ],
            "text/html": [
              "\n",
              "  <div id=\"df-9d92875c-02d2-4a2e-9477-0207168f8ed2\" class=\"colab-df-container\">\n",
              "    <div>\n",
              "<style scoped>\n",
              "    .dataframe tbody tr th:only-of-type {\n",
              "        vertical-align: middle;\n",
              "    }\n",
              "\n",
              "    .dataframe tbody tr th {\n",
              "        vertical-align: top;\n",
              "    }\n",
              "\n",
              "    .dataframe thead th {\n",
              "        text-align: right;\n",
              "    }\n",
              "</style>\n",
              "<table border=\"1\" class=\"dataframe\">\n",
              "  <thead>\n",
              "    <tr style=\"text-align: right;\">\n",
              "      <th></th>\n",
              "      <th>F1</th>\n",
              "      <th>F2</th>\n",
              "      <th>F3</th>\n",
              "      <th>F4</th>\n",
              "      <th>F5</th>\n",
              "      <th>F6</th>\n",
              "      <th>F7</th>\n",
              "      <th>F8</th>\n",
              "      <th>F9</th>\n",
              "      <th>F10</th>\n",
              "      <th>...</th>\n",
              "      <th>F13</th>\n",
              "      <th>F14</th>\n",
              "      <th>F15</th>\n",
              "      <th>F16</th>\n",
              "      <th>F17</th>\n",
              "      <th>F18</th>\n",
              "      <th>F19</th>\n",
              "      <th>F20</th>\n",
              "      <th>F21</th>\n",
              "      <th>F22</th>\n",
              "    </tr>\n",
              "  </thead>\n",
              "  <tbody>\n",
              "    <tr>\n",
              "      <th>0</th>\n",
              "      <td>0</td>\n",
              "      <td>0</td>\n",
              "      <td>0</td>\n",
              "      <td>1</td>\n",
              "      <td>0</td>\n",
              "      <td>0</td>\n",
              "      <td>0</td>\n",
              "      <td>1</td>\n",
              "      <td>1</td>\n",
              "      <td>0</td>\n",
              "      <td>...</td>\n",
              "      <td>1</td>\n",
              "      <td>1</td>\n",
              "      <td>0</td>\n",
              "      <td>0</td>\n",
              "      <td>0</td>\n",
              "      <td>0</td>\n",
              "      <td>0</td>\n",
              "      <td>0</td>\n",
              "      <td>0</td>\n",
              "      <td>0</td>\n",
              "    </tr>\n",
              "    <tr>\n",
              "      <th>1</th>\n",
              "      <td>0</td>\n",
              "      <td>0</td>\n",
              "      <td>1</td>\n",
              "      <td>1</td>\n",
              "      <td>0</td>\n",
              "      <td>0</td>\n",
              "      <td>0</td>\n",
              "      <td>1</td>\n",
              "      <td>1</td>\n",
              "      <td>0</td>\n",
              "      <td>...</td>\n",
              "      <td>1</td>\n",
              "      <td>1</td>\n",
              "      <td>0</td>\n",
              "      <td>0</td>\n",
              "      <td>0</td>\n",
              "      <td>0</td>\n",
              "      <td>0</td>\n",
              "      <td>0</td>\n",
              "      <td>0</td>\n",
              "      <td>1</td>\n",
              "    </tr>\n",
              "    <tr>\n",
              "      <th>2</th>\n",
              "      <td>1</td>\n",
              "      <td>0</td>\n",
              "      <td>1</td>\n",
              "      <td>0</td>\n",
              "      <td>1</td>\n",
              "      <td>0</td>\n",
              "      <td>0</td>\n",
              "      <td>1</td>\n",
              "      <td>0</td>\n",
              "      <td>1</td>\n",
              "      <td>...</td>\n",
              "      <td>1</td>\n",
              "      <td>0</td>\n",
              "      <td>0</td>\n",
              "      <td>0</td>\n",
              "      <td>0</td>\n",
              "      <td>0</td>\n",
              "      <td>0</td>\n",
              "      <td>0</td>\n",
              "      <td>0</td>\n",
              "      <td>0</td>\n",
              "    </tr>\n",
              "    <tr>\n",
              "      <th>3</th>\n",
              "      <td>0</td>\n",
              "      <td>0</td>\n",
              "      <td>0</td>\n",
              "      <td>0</td>\n",
              "      <td>0</td>\n",
              "      <td>0</td>\n",
              "      <td>0</td>\n",
              "      <td>0</td>\n",
              "      <td>0</td>\n",
              "      <td>0</td>\n",
              "      <td>...</td>\n",
              "      <td>0</td>\n",
              "      <td>0</td>\n",
              "      <td>0</td>\n",
              "      <td>0</td>\n",
              "      <td>0</td>\n",
              "      <td>0</td>\n",
              "      <td>0</td>\n",
              "      <td>1</td>\n",
              "      <td>1</td>\n",
              "      <td>1</td>\n",
              "    </tr>\n",
              "    <tr>\n",
              "      <th>4</th>\n",
              "      <td>0</td>\n",
              "      <td>0</td>\n",
              "      <td>0</td>\n",
              "      <td>0</td>\n",
              "      <td>0</td>\n",
              "      <td>0</td>\n",
              "      <td>0</td>\n",
              "      <td>1</td>\n",
              "      <td>0</td>\n",
              "      <td>0</td>\n",
              "      <td>...</td>\n",
              "      <td>1</td>\n",
              "      <td>0</td>\n",
              "      <td>1</td>\n",
              "      <td>1</td>\n",
              "      <td>0</td>\n",
              "      <td>0</td>\n",
              "      <td>0</td>\n",
              "      <td>0</td>\n",
              "      <td>0</td>\n",
              "      <td>0</td>\n",
              "    </tr>\n",
              "    <tr>\n",
              "      <th>5</th>\n",
              "      <td>0</td>\n",
              "      <td>0</td>\n",
              "      <td>0</td>\n",
              "      <td>1</td>\n",
              "      <td>0</td>\n",
              "      <td>0</td>\n",
              "      <td>0</td>\n",
              "      <td>0</td>\n",
              "      <td>1</td>\n",
              "      <td>0</td>\n",
              "      <td>...</td>\n",
              "      <td>1</td>\n",
              "      <td>1</td>\n",
              "      <td>0</td>\n",
              "      <td>1</td>\n",
              "      <td>0</td>\n",
              "      <td>0</td>\n",
              "      <td>0</td>\n",
              "      <td>1</td>\n",
              "      <td>0</td>\n",
              "      <td>1</td>\n",
              "    </tr>\n",
              "    <tr>\n",
              "      <th>6</th>\n",
              "      <td>1</td>\n",
              "      <td>0</td>\n",
              "      <td>1</td>\n",
              "      <td>1</td>\n",
              "      <td>0</td>\n",
              "      <td>0</td>\n",
              "      <td>0</td>\n",
              "      <td>1</td>\n",
              "      <td>0</td>\n",
              "      <td>1</td>\n",
              "      <td>...</td>\n",
              "      <td>1</td>\n",
              "      <td>0</td>\n",
              "      <td>0</td>\n",
              "      <td>0</td>\n",
              "      <td>0</td>\n",
              "      <td>0</td>\n",
              "      <td>0</td>\n",
              "      <td>0</td>\n",
              "      <td>1</td>\n",
              "      <td>1</td>\n",
              "    </tr>\n",
              "    <tr>\n",
              "      <th>7</th>\n",
              "      <td>0</td>\n",
              "      <td>0</td>\n",
              "      <td>1</td>\n",
              "      <td>0</td>\n",
              "      <td>0</td>\n",
              "      <td>0</td>\n",
              "      <td>0</td>\n",
              "      <td>1</td>\n",
              "      <td>0</td>\n",
              "      <td>0</td>\n",
              "      <td>...</td>\n",
              "      <td>1</td>\n",
              "      <td>0</td>\n",
              "      <td>0</td>\n",
              "      <td>0</td>\n",
              "      <td>0</td>\n",
              "      <td>0</td>\n",
              "      <td>0</td>\n",
              "      <td>0</td>\n",
              "      <td>0</td>\n",
              "      <td>1</td>\n",
              "    </tr>\n",
              "    <tr>\n",
              "      <th>8</th>\n",
              "      <td>0</td>\n",
              "      <td>0</td>\n",
              "      <td>1</td>\n",
              "      <td>0</td>\n",
              "      <td>0</td>\n",
              "      <td>0</td>\n",
              "      <td>1</td>\n",
              "      <td>1</td>\n",
              "      <td>0</td>\n",
              "      <td>0</td>\n",
              "      <td>...</td>\n",
              "      <td>1</td>\n",
              "      <td>0</td>\n",
              "      <td>1</td>\n",
              "      <td>0</td>\n",
              "      <td>0</td>\n",
              "      <td>0</td>\n",
              "      <td>0</td>\n",
              "      <td>0</td>\n",
              "      <td>1</td>\n",
              "      <td>1</td>\n",
              "    </tr>\n",
              "    <tr>\n",
              "      <th>9</th>\n",
              "      <td>0</td>\n",
              "      <td>1</td>\n",
              "      <td>0</td>\n",
              "      <td>0</td>\n",
              "      <td>0</td>\n",
              "      <td>0</td>\n",
              "      <td>1</td>\n",
              "      <td>1</td>\n",
              "      <td>0</td>\n",
              "      <td>0</td>\n",
              "      <td>...</td>\n",
              "      <td>0</td>\n",
              "      <td>0</td>\n",
              "      <td>0</td>\n",
              "      <td>0</td>\n",
              "      <td>0</td>\n",
              "      <td>0</td>\n",
              "      <td>0</td>\n",
              "      <td>0</td>\n",
              "      <td>0</td>\n",
              "      <td>0</td>\n",
              "    </tr>\n",
              "  </tbody>\n",
              "</table>\n",
              "<p>10 rows × 22 columns</p>\n",
              "</div>\n",
              "    <div class=\"colab-df-buttons\">\n",
              "\n",
              "  <div class=\"colab-df-container\">\n",
              "    <button class=\"colab-df-convert\" onclick=\"convertToInteractive('df-9d92875c-02d2-4a2e-9477-0207168f8ed2')\"\n",
              "            title=\"Convert this dataframe to an interactive table.\"\n",
              "            style=\"display:none;\">\n",
              "\n",
              "  <svg xmlns=\"http://www.w3.org/2000/svg\" height=\"24px\" viewBox=\"0 -960 960 960\">\n",
              "    <path d=\"M120-120v-720h720v720H120Zm60-500h600v-160H180v160Zm220 220h160v-160H400v160Zm0 220h160v-160H400v160ZM180-400h160v-160H180v160Zm440 0h160v-160H620v160ZM180-180h160v-160H180v160Zm440 0h160v-160H620v160Z\"/>\n",
              "  </svg>\n",
              "    </button>\n",
              "\n",
              "  <style>\n",
              "    .colab-df-container {\n",
              "      display:flex;\n",
              "      gap: 12px;\n",
              "    }\n",
              "\n",
              "    .colab-df-convert {\n",
              "      background-color: #E8F0FE;\n",
              "      border: none;\n",
              "      border-radius: 50%;\n",
              "      cursor: pointer;\n",
              "      display: none;\n",
              "      fill: #1967D2;\n",
              "      height: 32px;\n",
              "      padding: 0 0 0 0;\n",
              "      width: 32px;\n",
              "    }\n",
              "\n",
              "    .colab-df-convert:hover {\n",
              "      background-color: #E2EBFA;\n",
              "      box-shadow: 0px 1px 2px rgba(60, 64, 67, 0.3), 0px 1px 3px 1px rgba(60, 64, 67, 0.15);\n",
              "      fill: #174EA6;\n",
              "    }\n",
              "\n",
              "    .colab-df-buttons div {\n",
              "      margin-bottom: 4px;\n",
              "    }\n",
              "\n",
              "    [theme=dark] .colab-df-convert {\n",
              "      background-color: #3B4455;\n",
              "      fill: #D2E3FC;\n",
              "    }\n",
              "\n",
              "    [theme=dark] .colab-df-convert:hover {\n",
              "      background-color: #434B5C;\n",
              "      box-shadow: 0px 1px 3px 1px rgba(0, 0, 0, 0.15);\n",
              "      filter: drop-shadow(0px 1px 2px rgba(0, 0, 0, 0.3));\n",
              "      fill: #FFFFFF;\n",
              "    }\n",
              "  </style>\n",
              "\n",
              "    <script>\n",
              "      const buttonEl =\n",
              "        document.querySelector('#df-9d92875c-02d2-4a2e-9477-0207168f8ed2 button.colab-df-convert');\n",
              "      buttonEl.style.display =\n",
              "        google.colab.kernel.accessAllowed ? 'block' : 'none';\n",
              "\n",
              "      async function convertToInteractive(key) {\n",
              "        const element = document.querySelector('#df-9d92875c-02d2-4a2e-9477-0207168f8ed2');\n",
              "        const dataTable =\n",
              "          await google.colab.kernel.invokeFunction('convertToInteractive',\n",
              "                                                    [key], {});\n",
              "        if (!dataTable) return;\n",
              "\n",
              "        const docLinkHtml = 'Like what you see? Visit the ' +\n",
              "          '<a target=\"_blank\" href=https://colab.research.google.com/notebooks/data_table.ipynb>data table notebook</a>'\n",
              "          + ' to learn more about interactive tables.';\n",
              "        element.innerHTML = '';\n",
              "        dataTable['output_type'] = 'display_data';\n",
              "        await google.colab.output.renderOutput(dataTable, element);\n",
              "        const docLink = document.createElement('div');\n",
              "        docLink.innerHTML = docLinkHtml;\n",
              "        element.appendChild(docLink);\n",
              "      }\n",
              "    </script>\n",
              "  </div>\n",
              "\n",
              "\n",
              "<div id=\"df-f2c32b7a-3637-4b0d-bdec-25e1ac7b3c89\">\n",
              "  <button class=\"colab-df-quickchart\" onclick=\"quickchart('df-f2c32b7a-3637-4b0d-bdec-25e1ac7b3c89')\"\n",
              "            title=\"Suggest charts\"\n",
              "            style=\"display:none;\">\n",
              "\n",
              "<svg xmlns=\"http://www.w3.org/2000/svg\" height=\"24px\"viewBox=\"0 0 24 24\"\n",
              "     width=\"24px\">\n",
              "    <g>\n",
              "        <path d=\"M19 3H5c-1.1 0-2 .9-2 2v14c0 1.1.9 2 2 2h14c1.1 0 2-.9 2-2V5c0-1.1-.9-2-2-2zM9 17H7v-7h2v7zm4 0h-2V7h2v10zm4 0h-2v-4h2v4z\"/>\n",
              "    </g>\n",
              "</svg>\n",
              "  </button>\n",
              "\n",
              "<style>\n",
              "  .colab-df-quickchart {\n",
              "      --bg-color: #E8F0FE;\n",
              "      --fill-color: #1967D2;\n",
              "      --hover-bg-color: #E2EBFA;\n",
              "      --hover-fill-color: #174EA6;\n",
              "      --disabled-fill-color: #AAA;\n",
              "      --disabled-bg-color: #DDD;\n",
              "  }\n",
              "\n",
              "  [theme=dark] .colab-df-quickchart {\n",
              "      --bg-color: #3B4455;\n",
              "      --fill-color: #D2E3FC;\n",
              "      --hover-bg-color: #434B5C;\n",
              "      --hover-fill-color: #FFFFFF;\n",
              "      --disabled-bg-color: #3B4455;\n",
              "      --disabled-fill-color: #666;\n",
              "  }\n",
              "\n",
              "  .colab-df-quickchart {\n",
              "    background-color: var(--bg-color);\n",
              "    border: none;\n",
              "    border-radius: 50%;\n",
              "    cursor: pointer;\n",
              "    display: none;\n",
              "    fill: var(--fill-color);\n",
              "    height: 32px;\n",
              "    padding: 0;\n",
              "    width: 32px;\n",
              "  }\n",
              "\n",
              "  .colab-df-quickchart:hover {\n",
              "    background-color: var(--hover-bg-color);\n",
              "    box-shadow: 0 1px 2px rgba(60, 64, 67, 0.3), 0 1px 3px 1px rgba(60, 64, 67, 0.15);\n",
              "    fill: var(--button-hover-fill-color);\n",
              "  }\n",
              "\n",
              "  .colab-df-quickchart-complete:disabled,\n",
              "  .colab-df-quickchart-complete:disabled:hover {\n",
              "    background-color: var(--disabled-bg-color);\n",
              "    fill: var(--disabled-fill-color);\n",
              "    box-shadow: none;\n",
              "  }\n",
              "\n",
              "  .colab-df-spinner {\n",
              "    border: 2px solid var(--fill-color);\n",
              "    border-color: transparent;\n",
              "    border-bottom-color: var(--fill-color);\n",
              "    animation:\n",
              "      spin 1s steps(1) infinite;\n",
              "  }\n",
              "\n",
              "  @keyframes spin {\n",
              "    0% {\n",
              "      border-color: transparent;\n",
              "      border-bottom-color: var(--fill-color);\n",
              "      border-left-color: var(--fill-color);\n",
              "    }\n",
              "    20% {\n",
              "      border-color: transparent;\n",
              "      border-left-color: var(--fill-color);\n",
              "      border-top-color: var(--fill-color);\n",
              "    }\n",
              "    30% {\n",
              "      border-color: transparent;\n",
              "      border-left-color: var(--fill-color);\n",
              "      border-top-color: var(--fill-color);\n",
              "      border-right-color: var(--fill-color);\n",
              "    }\n",
              "    40% {\n",
              "      border-color: transparent;\n",
              "      border-right-color: var(--fill-color);\n",
              "      border-top-color: var(--fill-color);\n",
              "    }\n",
              "    60% {\n",
              "      border-color: transparent;\n",
              "      border-right-color: var(--fill-color);\n",
              "    }\n",
              "    80% {\n",
              "      border-color: transparent;\n",
              "      border-right-color: var(--fill-color);\n",
              "      border-bottom-color: var(--fill-color);\n",
              "    }\n",
              "    90% {\n",
              "      border-color: transparent;\n",
              "      border-bottom-color: var(--fill-color);\n",
              "    }\n",
              "  }\n",
              "</style>\n",
              "\n",
              "  <script>\n",
              "    async function quickchart(key) {\n",
              "      const quickchartButtonEl =\n",
              "        document.querySelector('#' + key + ' button');\n",
              "      quickchartButtonEl.disabled = true;  // To prevent multiple clicks.\n",
              "      quickchartButtonEl.classList.add('colab-df-spinner');\n",
              "      try {\n",
              "        const charts = await google.colab.kernel.invokeFunction(\n",
              "            'suggestCharts', [key], {});\n",
              "      } catch (error) {\n",
              "        console.error('Error during call to suggestCharts:', error);\n",
              "      }\n",
              "      quickchartButtonEl.classList.remove('colab-df-spinner');\n",
              "      quickchartButtonEl.classList.add('colab-df-quickchart-complete');\n",
              "    }\n",
              "    (() => {\n",
              "      let quickchartButtonEl =\n",
              "        document.querySelector('#df-f2c32b7a-3637-4b0d-bdec-25e1ac7b3c89 button');\n",
              "      quickchartButtonEl.style.display =\n",
              "        google.colab.kernel.accessAllowed ? 'block' : 'none';\n",
              "    })();\n",
              "  </script>\n",
              "</div>\n",
              "    </div>\n",
              "  </div>\n"
            ],
            "application/vnd.google.colaboratory.intrinsic+json": {
              "type": "dataframe",
              "variable_name": "X"
            }
          },
          "metadata": {},
          "execution_count": 5
        }
      ]
    },
    {
      "cell_type": "markdown",
      "source": [
        "# Scaling and Splitting the Data"
      ],
      "metadata": {
        "id": "Qd35k48NvJVB"
      }
    },
    {
      "cell_type": "code",
      "source": [
        "# Split the data into training, validation, and test sets\n",
        "X_train, X_test, y_train, y_test = train_test_split(X, y, test_size=0.2, random_state=0)\n",
        "\n",
        "# Scaling the Features\n",
        "scaler = StandardScaler()\n",
        "X_train_scaled = scaler.fit_transform(X_train)\n",
        "X_test_scaled = scaler.transform(X_test)"
      ],
      "metadata": {
        "id": "kMFbG_rUvCm6"
      },
      "execution_count": 35,
      "outputs": []
    },
    {
      "cell_type": "code",
      "source": [
        "#shape of the data, inorder to know the input dimensions later in the code.\n",
        "\n",
        "print(X_train_scaled.shape)\n",
        "\n",
        "print(y_train.shape)"
      ],
      "metadata": {
        "colab": {
          "base_uri": "https://localhost:8080/",
          "height": 0
        },
        "id": "8eoPgxw_vP7l",
        "outputId": "f38683d1-467f-4bf3-9938-c7dec73ecda8"
      },
      "execution_count": 5,
      "outputs": [
        {
          "output_type": "stream",
          "name": "stdout",
          "text": [
            "(213, 22)\n",
            "(213, 1)\n"
          ]
        }
      ]
    },
    {
      "cell_type": "markdown",
      "source": [
        "# Task 1: Save a model in HDF5 format"
      ],
      "metadata": {
        "id": "83kvaKfbv2_2"
      }
    },
    {
      "cell_type": "code",
      "source": [
        "pip install h5py"
      ],
      "metadata": {
        "colab": {
          "base_uri": "https://localhost:8080/",
          "height": 0
        },
        "id": "0ZFee2jfwBPT",
        "outputId": "3aba1b71-3d53-4596-b375-2559907668c2"
      },
      "execution_count": 6,
      "outputs": [
        {
          "output_type": "stream",
          "name": "stdout",
          "text": [
            "Requirement already satisfied: h5py in /usr/local/lib/python3.10/dist-packages (3.9.0)\n",
            "Requirement already satisfied: numpy>=1.17.3 in /usr/local/lib/python3.10/dist-packages (from h5py) (1.25.2)\n"
          ]
        }
      ]
    },
    {
      "cell_type": "code",
      "source": [
        "from google.colab import drive\n",
        "drive.mount('/content/drive')"
      ],
      "metadata": {
        "colab": {
          "base_uri": "https://localhost:8080/",
          "height": 0
        },
        "id": "Iy06N2nfvzys",
        "outputId": "55622eb2-8b72-47ba-e2f5-bf77173577b8"
      },
      "execution_count": 8,
      "outputs": [
        {
          "output_type": "stream",
          "name": "stdout",
          "text": [
            "Drive already mounted at /content/drive; to attempt to forcibly remount, call drive.mount(\"/content/drive\", force_remount=True).\n"
          ]
        }
      ]
    },
    {
      "cell_type": "code",
      "source": [
        "#Creating the Model for task 2 to 6\n",
        "\n",
        "model = Sequential()\n",
        "model.add(Dense(16, input_dim=22, activation='relu'))\n",
        "model.add(Dense(8, activation='relu'))\n",
        "model.add(Dense(4, activation='relu'))\n",
        "model.add(Dense(1, activation='sigmoid'))\n",
        "\n",
        "model.compile(\n",
        "    loss='binary_crossentropy',\n",
        "    optimizer='Adam',\n",
        "    metrics=['accuracy']\n",
        ")\n",
        "model.fit(X_train_scaled, y_train, epochs=50, batch_size=25, verbose=1)"
      ],
      "metadata": {
        "colab": {
          "base_uri": "https://localhost:8080/",
          "height": 0
        },
        "id": "4_kBV536v0Wb",
        "outputId": "2261193e-b6f2-4d48-b38a-e46fa09b7368"
      },
      "execution_count": 9,
      "outputs": [
        {
          "output_type": "stream",
          "name": "stdout",
          "text": [
            "Epoch 1/50\n",
            "9/9 [==============================] - 3s 13ms/step - loss: 0.7747 - accuracy: 0.4131\n",
            "Epoch 2/50\n",
            "9/9 [==============================] - 0s 11ms/step - loss: 0.6907 - accuracy: 0.5352\n",
            "Epoch 3/50\n",
            "9/9 [==============================] - 0s 12ms/step - loss: 0.6247 - accuracy: 0.6291\n",
            "Epoch 4/50\n",
            "9/9 [==============================] - 0s 11ms/step - loss: 0.5710 - accuracy: 0.6620\n",
            "Epoch 5/50\n",
            "9/9 [==============================] - 0s 10ms/step - loss: 0.5263 - accuracy: 0.6948\n",
            "Epoch 6/50\n",
            "9/9 [==============================] - 0s 9ms/step - loss: 0.4888 - accuracy: 0.7418\n",
            "Epoch 7/50\n",
            "9/9 [==============================] - 0s 16ms/step - loss: 0.4585 - accuracy: 0.7793\n",
            "Epoch 8/50\n",
            "9/9 [==============================] - 0s 12ms/step - loss: 0.4336 - accuracy: 0.8169\n",
            "Epoch 9/50\n",
            "9/9 [==============================] - 0s 9ms/step - loss: 0.4133 - accuracy: 0.8216\n",
            "Epoch 10/50\n",
            "9/9 [==============================] - 0s 16ms/step - loss: 0.3960 - accuracy: 0.8263\n",
            "Epoch 11/50\n",
            "9/9 [==============================] - 0s 6ms/step - loss: 0.3797 - accuracy: 0.8310\n",
            "Epoch 12/50\n",
            "9/9 [==============================] - 0s 9ms/step - loss: 0.3682 - accuracy: 0.8357\n",
            "Epoch 13/50\n",
            "9/9 [==============================] - 0s 11ms/step - loss: 0.3582 - accuracy: 0.8357\n",
            "Epoch 14/50\n",
            "9/9 [==============================] - 0s 10ms/step - loss: 0.3491 - accuracy: 0.8404\n",
            "Epoch 15/50\n",
            "9/9 [==============================] - 0s 17ms/step - loss: 0.3418 - accuracy: 0.8357\n",
            "Epoch 16/50\n",
            "9/9 [==============================] - 0s 10ms/step - loss: 0.3360 - accuracy: 0.8404\n",
            "Epoch 17/50\n",
            "9/9 [==============================] - 0s 9ms/step - loss: 0.3302 - accuracy: 0.8404\n",
            "Epoch 18/50\n",
            "9/9 [==============================] - 0s 3ms/step - loss: 0.3251 - accuracy: 0.8404\n",
            "Epoch 19/50\n",
            "9/9 [==============================] - 0s 3ms/step - loss: 0.3209 - accuracy: 0.8451\n",
            "Epoch 20/50\n",
            "9/9 [==============================] - 0s 4ms/step - loss: 0.3164 - accuracy: 0.8451\n",
            "Epoch 21/50\n",
            "9/9 [==============================] - 0s 6ms/step - loss: 0.3131 - accuracy: 0.8451\n",
            "Epoch 22/50\n",
            "9/9 [==============================] - 0s 4ms/step - loss: 0.3080 - accuracy: 0.8498\n",
            "Epoch 23/50\n",
            "9/9 [==============================] - 0s 4ms/step - loss: 0.3042 - accuracy: 0.8498\n",
            "Epoch 24/50\n",
            "9/9 [==============================] - 0s 3ms/step - loss: 0.3002 - accuracy: 0.8545\n",
            "Epoch 25/50\n",
            "9/9 [==============================] - 0s 3ms/step - loss: 0.2961 - accuracy: 0.8592\n",
            "Epoch 26/50\n",
            "9/9 [==============================] - 0s 3ms/step - loss: 0.2926 - accuracy: 0.8592\n",
            "Epoch 27/50\n",
            "9/9 [==============================] - 0s 4ms/step - loss: 0.2895 - accuracy: 0.8592\n",
            "Epoch 28/50\n",
            "9/9 [==============================] - 0s 4ms/step - loss: 0.2856 - accuracy: 0.8638\n",
            "Epoch 29/50\n",
            "9/9 [==============================] - 0s 4ms/step - loss: 0.2833 - accuracy: 0.8685\n",
            "Epoch 30/50\n",
            "9/9 [==============================] - 0s 3ms/step - loss: 0.2800 - accuracy: 0.8779\n",
            "Epoch 31/50\n",
            "9/9 [==============================] - 0s 3ms/step - loss: 0.2773 - accuracy: 0.8779\n",
            "Epoch 32/50\n",
            "9/9 [==============================] - 0s 4ms/step - loss: 0.2746 - accuracy: 0.8779\n",
            "Epoch 33/50\n",
            "9/9 [==============================] - 0s 3ms/step - loss: 0.2727 - accuracy: 0.8779\n",
            "Epoch 34/50\n",
            "9/9 [==============================] - 0s 4ms/step - loss: 0.2688 - accuracy: 0.8873\n",
            "Epoch 35/50\n",
            "9/9 [==============================] - 0s 4ms/step - loss: 0.2670 - accuracy: 0.8873\n",
            "Epoch 36/50\n",
            "9/9 [==============================] - 0s 3ms/step - loss: 0.2646 - accuracy: 0.8920\n",
            "Epoch 37/50\n",
            "9/9 [==============================] - 0s 4ms/step - loss: 0.2622 - accuracy: 0.8967\n",
            "Epoch 38/50\n",
            "9/9 [==============================] - 0s 5ms/step - loss: 0.2604 - accuracy: 0.8967\n",
            "Epoch 39/50\n",
            "9/9 [==============================] - 0s 4ms/step - loss: 0.2576 - accuracy: 0.8967\n",
            "Epoch 40/50\n",
            "9/9 [==============================] - 0s 3ms/step - loss: 0.2555 - accuracy: 0.8967\n",
            "Epoch 41/50\n",
            "9/9 [==============================] - 0s 3ms/step - loss: 0.2531 - accuracy: 0.8967\n",
            "Epoch 42/50\n",
            "9/9 [==============================] - 0s 3ms/step - loss: 0.2513 - accuracy: 0.8967\n",
            "Epoch 43/50\n",
            "9/9 [==============================] - 0s 3ms/step - loss: 0.2488 - accuracy: 0.8967\n",
            "Epoch 44/50\n",
            "9/9 [==============================] - 0s 4ms/step - loss: 0.2470 - accuracy: 0.8967\n",
            "Epoch 45/50\n",
            "9/9 [==============================] - 0s 3ms/step - loss: 0.2446 - accuracy: 0.8967\n",
            "Epoch 46/50\n",
            "9/9 [==============================] - 0s 6ms/step - loss: 0.2429 - accuracy: 0.8873\n",
            "Epoch 47/50\n",
            "9/9 [==============================] - 0s 4ms/step - loss: 0.2399 - accuracy: 0.8967\n",
            "Epoch 48/50\n",
            "9/9 [==============================] - 0s 4ms/step - loss: 0.2391 - accuracy: 0.9061\n",
            "Epoch 49/50\n",
            "9/9 [==============================] - 0s 4ms/step - loss: 0.2364 - accuracy: 0.9061\n",
            "Epoch 50/50\n",
            "9/9 [==============================] - 0s 3ms/step - loss: 0.2342 - accuracy: 0.9061\n"
          ]
        },
        {
          "output_type": "execute_result",
          "data": {
            "text/plain": [
              "<keras.src.callbacks.History at 0x7edfd3065330>"
            ]
          },
          "metadata": {},
          "execution_count": 9
        }
      ]
    },
    {
      "cell_type": "code",
      "source": [
        "# Evaluate the model for task\n",
        "scores = model.evaluate(X_train_scaled, y_train, verbose=0)\n",
        "print(\"%s: %.2f%%\" % (model.metrics_names[1], scores[1]*100))\n",
        "\n",
        "\n",
        "# serialize weights to HDF5\n",
        "model.save_weights('/content/drive/MyDrive/Colab Notebooks/HOA8.1v2/model.h5')\n",
        "print(\"Saved model to Disk\")"
      ],
      "metadata": {
        "colab": {
          "base_uri": "https://localhost:8080/",
          "height": 0
        },
        "id": "hGeOX3jpv0lD",
        "outputId": "170b047a-c220-45ec-b655-079276cfeaa2"
      },
      "execution_count": 10,
      "outputs": [
        {
          "output_type": "stream",
          "name": "stdout",
          "text": [
            "accuracy: 90.61%\n",
            "Saved model to Disk\n"
          ]
        }
      ]
    },
    {
      "cell_type": "markdown",
      "source": [
        "Observation:\n",
        "\n",
        "As we can see for our task 1 when we save the weights it has a accuracy value of 90%"
      ],
      "metadata": {
        "id": "M6HSyDKKYCmM"
      }
    },
    {
      "cell_type": "markdown",
      "source": [
        "OUTPUT:\n",
        "\n",
        "![image.png](data:image/png;base64,iVBORw0KGgoAAAANSUhEUgAAAv0AAACwCAYAAACcn9GPAAAAAXNSR0IArs4c6QAAAARnQU1BAACxjwv8YQUAAAAJcEhZcwAADsMAAA7DAcdvqGQAAGW8SURBVHhe7Z0HfBVV2sYfRUEJBAiBBKQHqUJkAcEChtAUkSZgY1WU4lJ0FxULqzEq6qKyq4hKUb9dWWUVUFnEjUgRFMWIGHpJQIqQSAgQCAqKfuc5c+beuTe3ppGE9+9v5M6ZmdNm7s3zvuc9Z87p3Lnz7ygF1KpVC9dddx1iY2NNin9+++03bNq0CR999JFJEc4WvvzyS/PJk/Xp+8wnT9o2rWc+eXL55ZejZcuW2LJli0kpHPv37zefhLJJApLnjgVmDkHSMpPkg4Sk9zCxU4T+nPF+H4yfpT+WHCOnYfHAOP0xb80UDEleoT8XmMRkvDcKmH5TEsLKaXQudnevgKeGRoBdoPul5WZMsfPR9YxF6vOB+7PA5ftDlwss6DMes03SGafQ92wEpi2OR1oJt2nEy4sRn1ZUzzi/XxPRaksRPLMlAJ/nsZh+Rut67d+noF9j6/POhRPx3BvWZzLllT249uBFaJNUwaQIgm/+8Ic/4NtvvzV7wLnm3zPOwYMH8X//93949tlng25TpkwRwS8IQomzInkI+vTpgwU7TUJJM2u8Ln/KmjyTcCY4iaWDTmH1DEvwkxXJ05GKjrhhJPeUwOsep4yiIIK/OND9U4oEPykV9+xMswJJN/UpE4K/NNB80qPohxT8acBEtaUA/R7FnQnmoGLimBj82Pkw3uluEgQhREqNp18QQkE8/QXA4WkE8jy9rx7HMlweUqdHG7mpLg+u5QHbjMxOHaGvchzzyMtfunf5RYT2Sqr6xzWJQ96aVKt+dh38tJHwukFNzI6zbvRA398Rxqefz3McnhfU8nJ2jLT2rBECem97I8fRF07vome98pefzxPp5TH3OO7Rfrt8zzrZuDzRgdpPL398JTQcU8kkGPQ1Udi8JhYda6Wgzzhnjb0JVD6sUZctmejYyaq373o50j3y877H76H+QR95BYT3Z5D1jCs8rvHzPIV9z4i/70y+/smfX2jkf85Yz94HA/SB1/NiYZdvjTrk8B57jXj5bb8jP8++V3nNrY+c7I7oqK8rxG+DefZSHH3k/I466+b5zPh+zvL9zu1c4HqeeczXb6NuTyjPjMc1vmiKO/91M/DGk3hDV/Nm/O3P7YDUmXhwcrp1imJkcjbuQQ3x9gsBKbWefkEQigP1h607wyz6aG9jnz6OP6r8Q6lDIexj7j/SOlTDpE/Z0goTXx6hLyERnaKQZo4tUH+wtXeXeXXP8XFNgPL9wbwWL8Zi5zY3WeUUmLhoVf77Gap+rZTIWYCMyCg09W7j+8Agkxf/eA+C+mOuj01Baq6Vj/7jrQVE/msKwoiXJyJqqcmrzwJg4HtITpyN+WuAVl3sXBPQrSWweZUlBWaPs8835Tv6P2yMp9ld/jTVQsvz2uf5VORRhJjjlkgJ3P4p8UeQnuYl+MmyJEzXYlDpkwXB5Gmg8kmEMhzSXHXO7HSDqpVClTHErpe6Z5tbjlV9yQMmP3VuBnc9UHm1NM+mKg92XgFISOqNWCXarHIc9fL3nVGEfc/8fmesZ4ahMFZ+vtoUKt7P2QjEN8lAiquffWCeF45mUdBbdXC3U33T0EoZLzpd9Wdsd+vZ8Nv+QCMdkR3RShkg1nGg46Bgd8YP6rlI2RmHeD3SRKx2pinBz+85jRyrbnxmJmKa6zw/zxmPuH7n1G9D9CDrmgC/jQGfGV/32e/vXEPUjMzBAV5+51i8+ucobEs9ZuXlYNb+iohs+TNcTRGEEBDRLwjlmhXYm63+sN2/2PGHziKhSytgzXzHH3OLhLqxyNuy3OWJWrFqM/Ki67tEX57jGv6hpyeNeUWoP+ATzR8vlycsQPl+8RB2ZgvoGbPIWGrO2ZniNiziohCxM83dxllpljFgRLZPcToyXsmaOAyy/xDn83qGA8WHqsZAk5fDE8h+RctuVr8mdlNCajOWm3pTqLiEQKHKV3iIC3f5filE+5vWsu97Yclz3JvZGO8SnfSm2m3JP1LgD9ezsWwvMnVKYFbsz1SibyIWewl3f98ZEu498/+dCUGYh4HHc6bubayf+oeOo278rjpGl8Jpv4U7L/Z5YZidloG4eHO/+Azr7z2/5xHWvdR1835m/D1nzt+5FVi+JQ+xdRMC/jYGemZ83udgv3MU/Ak5+MeA6fjCJHmQXgEuP4UghMi5devWhWyylZXNH+eee4755MZX2tmI7YFLi7f+6IQsvsOEw9kef8DMcHjY5fv1gJUgHM53tiUEo8M/DHVw5GWPdtA7md0K3RItYZBpC1PV/rH0ltujI+8X3M+rckbyqI5KqIbpNS5I+0dOwyAlVhe8n4mOo4rnfo14WRktrro5R2eKGHt0JC3eev68hFw+CnjP/H1nihTHczYiHkVmTHhQpM9sAZk1H6nR8dpTPyI+1iHmGTbk6GO1hTs5mcZs5v4g/RbgmfF5n/3+zu3GodyG6EfBf9s72KaubxJd1crISdPTiMw+zzWvRhBCQTz9QrmgRtX8HkZfaWczFN8cYqfHilieqfyhDjrd9gwqRgzqiIjsvQFFn/YmBgmb8C7fLwX09PskIwd5TSwhQDgEH5ebg3SVG0cg7LCHhKSxbg8gRwOa9DZhI+HB2OHFixk+YzMbaTvj0DvJd5tnp2WqOoxAt5aZOhTBTSb2aq8/w6NC9JrqEQyFFmCez74tWHT79ScH9nU2Qdo/Ma06msafNHs2IzBtICfvjsdsJX4Y9jXWT5vz4V1+EPIOmrjmkTeE7OkvMBRyDEHy8Ob6e87Du2f+vzPpyMl1h6poQ8f66OLumcuwbNkM3G32g2E9Z8mIh2PUKwSCflc9KMAzG4iez2DhsmVYODnU2ar0yMeqfhuB+Gh71IxphQgb0nDkJQ85yo4J6bfR+5nxd5/9/s6l44ttx5C7LVULfsb0JzQ+hm1fuOP5yci6p5B78DyzJwihIaJfKBdcVKs6alaror373PiZaYIzHIJDy5luT5/64zRlTaw7jMMWqyqdos0ejh4UnYopwTyQ6g8Y47ndedke/QDllwRe9WL5C4wBMXsB47utYf+xSHF4jWdjPL3V97vr/Z4RsJaotyYFWiE7jM/Xh/wyexxjhe3wArU5Ry2UwM7sNAgdsx1ijJ5ZZShYdeZEQ7fX1A6hYIiAHbKg+9l5jZ5Ma8dPr0DS0gxXeBEnJ3r4YD3Kstvpv/2aGZWQHnfMY+UQ2wNve1Dtvg06quOzfP8479ni+BzPeRg6Dwpkk18hRofs+6y3+zu6R2H8fWcKeM98f2c871l8Wv7RmR0Hj6v/10HDntZ+UPRz1hFIC13ye/S1hyHrg4K0PxhLduOA+qdKrYut/RCgwI4dOAixzhAcriwVPci0I4S2GNwhQYMAeyWqAL+Nfp8Zv/fZP9smv4NtzUfh1Q+m4NU/t0P2QjOp18VJ3NQZ2LhSJvEK4XHOoEGDZPUeocwwf/5886lwyDr9glAIvNbpF0qYMTOwbDDwbuJovGaSAsJQkqJ8H0KJ0B3PvD8JrTdPRr9JS02aQGSdfiFUvFfvKTWiPyoqCt26ddMv6fIFRdXChQvNnnC2IqJfEEoHoSwZ6Fwq0ZOCLkFZRFAEO5b+dOKx1GKpwxLCnartCE3wu9rp3d8cGfEzqZtzJopjbkE4aKPmYhz/UgR/PvwtmSsIPiiVov+CCy7AI488gsaNzevnfMC38K5evRozZswwKcLZiIh+QRAEQRCE4JTKdfqbNGmC6tX9x1//9NNPOH36NK644gqMHj3apAplBY7i8L49+eST6Nu3r0kVBEEQBEEQSooyMZE3JycHH3/8sQj/MgpXJeB9a9SoEa677jp06NDBHBEEQRAEQRBKgjKzes97770nwl8QBEEQBEEQCkCZWrLTW/iPGBHKwltFxzXXXIMxY8aYPd/ceuutevOG1/F6X/Tv31+HvtjbpEmT0LRpOCtXl264RBnnY3z//ff46KOP8M0335gjgiAIgiAIQklQJkQ/Y8KffvppvbVr1w7Hjx/Hueeei+joaHNG2aZKlSrYunUrHn30Ub1NnjwZ6emeL+IoyzA8ixOw2bZFixaZVKG0031yEpa9fytCfTVOcE5iaUouppg9oRRR9Ul80PNJFOB9ZOUYa+3/kNaUF4QzTjdM7jkPk328vJcrbW1IPm32hLOZMiH6L7zwQtSvX9+11ahRwxzxD1dnue+++zB+/Hg88cQTenWg3r174y9/+Yvef/DBB9GqVSt9LvMcO3asTqcwvf7667VRwW3o0KF4/PHH8dhjj3msLhQREYHhw4cjOTlZH+vVq5c54p+YmBhdD5YzatQonQepWrWqNmTKKzKR9yyh561Y6NdIOI133s0CFkRioklR3zxMve8WTG0LDB98Cz4YXN9KjmmNf6v0D+7rguE6IRKPjrTOK0p0maqcfyea17q27YIPRrZGV2vPD1aded0H9/XFozEm2cZVd7v+Vt25b9e/a2Jf3dZA5etz+Fnn56Mcb0ZOs17843ohFQVr8BeHWYzEaz1bYtNXj0K/xLQoYH1eDjYS63hxWyFepBUKXDpUxLsvpuB08m6c1NtS/GZSybV/n6JfDvW3SZ6jzr/32WDO341f+pTfTvXfzu54gC/N+uBR3Onx0PrvS436Tvh6+Zy/frbTuT1wp0kkCTfjbyb91X/djOYmGViOSV9tQeue0+Ed/DwrqQY2tvwBSyUq+qynTIX3hAuXAt2wYYMeIThw4AA6d+6MtWvX4m9/+xtyc3Nx5ZVXonLlynpyKUOG/v73vyMlJQWtW7fWx66++mq9stCCBQvw6quvmlwt+vXrh8jISJ2+fPlyvSzSpZdeao76pmbNmnjrrbcwb948bbjwGhoWFSpUQJs2bVxGRygGRFlCJvKWTZZOSkbiwH+jKFbJHpl8GFdkx6B7vhV3c3FY2QJOhneJR9aStzF1XTX0UIK4a2JXtMhYhAnrzQlFgRLTPWqkYeoLq5DVLl6JcyXmewIfztqEleYUX3RNjAdU3Qa8wPoB7ft5Ggl23Xl8gMr7zbbxaH94FQbMSUNMJ0vEj47bhamrIoOXfzg3YF3cJCC5eyxSn++j3xZ6g9InfEOu6y2iQRjd6QbEbp6OScdMQokxG+PVb0Of51Nhvz+4dGHVz37LcPklHecnNUSlpO5GEDTFnf+agks2TMTCXTrBg3MWt1HnNkTFNa7XIZdbzl3zlG7r+YvNQ6AFdwtsHJCCnVaKg4mooPvxPzjPpGj4rgQa4MjB5v1NHaNH/vu5+aRH0Q8p+NOAiWpLUYLDNjCUwfHnptj2D6ZPxD+2NcWf/+5wsxx7FC9tjsGQTt7GWAXcPKMmag+SkdaznXIt+o8dO4bNmzfj559/1qKf3nSG0eTl5WHXrl04//zztZef4v3rr7/G4cOH9b9ZWVk6pv6iiy7Sn9evX4+DBw/qawjDimJjY7Fx40ZkZmbiiy++0GUxLRCsy969e/U1v/76q/b00zBhnWhsPPXUU/juu+90CBONDUEoPD0w4/1b8czM57FsGbckPKPEpWbMeCybqY69bx8bj7v1AXWN3lebl+f+7pnq+snqOnN84WR6p5paeTzcDlWqtcMkj2PkNBJbAqvn+3+ZTEZOLvJyjpo9hyEQFa9F8oxltsBwetodXnKD9p4H9dYbHKK6zeAuSswrkW72/bFymdv4WLlpl5dYjUS9GvmNGHe7ojCgX2NsXWiEfSjlZ+UiC0exzyvP/GRiry3w46dhEBaEKFZHot1FGfh463Kzr3RN0nt47+VpSqgsxuKXk5E8l974abD89srA0PvW5uG51OLGHBvofO2T5zUF97hzZGAapr3MfJSISrJGN1x1cJZv19eMgPAFYXEDvY6Z/JJVe610d93YB95pLuxRFb3ZeSk80kMYZWF9Xf0bKC93HfSIhbo3THsvKdkaKbFHSXy1X+PZ/8FHYNLxxm0T8dwbZrc4CdRnfvrZeW+cI0T6ubX7xOuYR17+0kO5ZyvewYMDpuNjsxsS6jd3SJ/pSq93RMeB8UhzGZL++rkprmwOpH5o3C0JtRGNqmh+pfo9vbMFmuxajTfMu+OaRFcFGrfAtdauZtnWFKRfdGk+bz+WRuDjjCNoL97+s5pyLfpDgaEn55xzjvb825w6dUqHFNEY4Gdv+E4BjhAkJCTokBWG+FDw05MfLidOnMDSpUuRmpqqy6LRwX9pjJQX+IMqE3nPIEqItz74GhIT70fivBx0GuMQ8pww/opKV8cmfxmFPlqof4rRPPeZdcgfdFYVnVrlYLI5jsuvVYZCOh4eaM4/us46prZ+k8y8lO4/4xJciGX5hgz2YsILi/CkErQU07caYf/m9qNoP+wWTGindmpUc4tkBT3tMesWGU/6265rwiZrL7bW6KJDcGJyq6EJVoU9ktC1dWNEGOFuher0RXv1m8G6uwyS9d8jq11ffDAsXp1VDTEZK3V7g5XP/hgwb6/6xD4KZoyswPItsRikvmeDovMQqwTuglDfqFr3UjT94Tt4D8BEqDxS6IFv0hFRS6cgNTcW9ZUgGvHyRLTaMkWP3vXpMwWbW040glQJ6PtbYfPzTFfb+xk6H8Jropaa9D4LgIEhiCu/xCH24BQs2BmBji1zMEWVE1GLzyzLj0KKLoPlA4Mo7maN1/sLdirD8n27Ds4308ahFaZb6aq9sd0tQbgieYjrOg8orAeq/tX5OPNyj7ZY6aGNskD3r3XNgp1x6G0bMKbe1sY+c4veuGjT7k6tkPP8AmRERimZ6Kf9vGDkDeiYvcCd35l+266LAH3mr5+VSJ/YcjOmmPQpW1phosOIiegUpUU1j9mjXjqv7qrP8l1TwHsWLtoYG6tEdypS309DvPqeBjZ8G6JmZA4OUNjfORav/jkK21KtYbjmdaKQm71bfbJGCRKy1/kYcUjHoWNxaFfX7DrYcbAymsafNHvC2chZL/o5yZRv+6XH3aZixYr6hWA0BPjZG3r1KdY//fRT1+Rbbv/+97/NGaFTt25ddO/ePaR5CmUVmch7ptmNxbYAf2ULdlSLwsXWnvr78AUeXmJ9ZDiPS6gHYMcSE/KzJAsHdEoRs36VK3wGh4+ihRbRVnz/yuyjiKCItuP/vXhznjIGgoToWOTiyVlWCE5W5FH1h5MCPP/IgV/adlFGyVF8qIW5KVcZMGvVb8baOU6DhKJd7c9JU5+PIitO1V2VM7VtIcv3wiVSsyOQqVQADYDCxMnnrZlviazcVMx3jRgkoL4yKjavMm5GbWwoI6OuKmVkPOJ2pvgQTSMQ7+FlH6RkdmHIQEqyVX7G0iRVAwPLV//pdnPzGGkIhDs/7ZG9yZGnDxK6tALsvvFgBfaqvu94fzBB54Wjf9MPOsaNPLz2nn3marezvwO1PyNHGW+DCvU8FA/++8xfPyfUjUXeluWue7Ri1WbkRdd3tcv13Cpmj7M86swrIrIjJpq+mdjJmktX4HsWLtrTrwwKRKFV3fTQQ8Yo+BNy8I8B0/GFSbJoqAT/KNRcMREPTv7RpDlZjj1+fCGz9ufXM8LZxVkv+hluQxF/1VVXaeF92WWX6Qm3XD1n9+7dqF27Ntq2bYtatWq5JvIy5IdCljH89Mjz2O23365j9J3wWm7BYD4snwYGy+e/rFd5QSbyliJ6xqCO+ViqMbHvW1HfI77fNggGbG+kRbI/8R8qwxlWsy4HMR7x9UHghNue1ZS4Dx4OZBGJRxnWkwE0ccb3qyMFKt8fIxnWk4qcaM/4/jNPhsNjW4we1Z0Obza3IAK+qKHIZLlp8Za4LLiQTEDyqI5K9NojKgtUD4aAv/Zr0an2ZwJjKXxLkfgvuj4LTJ6rL81mRjtKqnzNrPEYYhuYAdmNQ7kN0Y+C/7Z3sE2l6DAexbYDOYjs2FsLfh0WpEN/vOmGBpHHccjHHJ2RdU8h96DHjAPhLOOsF/302DPkhJNpubIPV/jZtGmTjtPnxjj+QYMG4U9/+pO5woI/EJwbwHcFjBs3Tk/I3baNX083XAVo4MCBZs83+/fvx+eff45LLrlEe8JpYDDUZ+fO/IN2ZRX+qMpE3tJB94SmqJK+Ba+Z/SLHOYpgs/QCbMRPSAx57U8jkhduwj4fE301FP9KPOfViPScSBtOTL8S7/0ZVrNJffYxaVavoOO9cg5X09GC3wpLCgVrIvJKPJntjO9XBCk/PEZgGsMhxjE23xHfH4z93/mO//WJ5Rlt1cWWjCNwQ6cIZO5XQkZ7k+NNCArrYnuaZyPNGbYSDsbb7WvFk3zMSkNGk94Bw4b0iEQhWbE/ExGdbjDt9A2F5JQ1ZgSkEOh+VSQk9fbw9PskhPZb4t8OByomej6DhcuWYeHkkL/sGu8+89fPOr1lN5fRMmJQR0Rk7w1o3HE0ACV0z4qGdHyx7Rhyt6Vqwc/JwwmNj2HbF+nAG1uxUxkFG808gGv7t0Pkrq1ecwyaombVLOzxIfovrnUCP+6vYPaEs5FzlKD93Xw+Y3DpzLvvvjvsEBeK82effdbsCaWVYcOGoWfPntow4mTq119/vcBx/fPnzzefCgeXdG3ZsiW2bNliUgoHjbfSCSflXuMW4oy5t1fk4UTeS7cgcdSn+pALLr3JSblmV5P+P33e3TOfR7vv7sfoV5jIvFtiXeI0lxHB40ONojj+5WuucCGuE/3XWlXRcIz/ybw2FO5ttr9txbhrrzq9+Xvx4QurAHWsf0N9mmbnEnOegdf2p9c8WIgPxXs/YIY+j8tqMh5fifJ17rkFFP2cV+AW+O7znLjrwOPK3FjoMAhY/2bfm/h8TkLuAk7R37kmDTEtA5cfOpyoORaYaXnQOaFRhzDkpmJKCN7u0Z3+h2uP/g0DzGReXj8W0zFkVTe8NwqYftNydHPlrwS9I9yEHlTbe8lJppwwqz37jCmPTzMeVc9rXPWiqL9fiTaTrKG32o45N8fp8bbKYD6cCDkeUGXFp/XBeEzDYrscTsp0hLU462bnZZXFkQfGiLvzs0NCbNxtsclD6vNe/atx5uUMw7HTA8A66f617pGr31lnR1vy1qQiU8eq+2o33G3w037P+nr1i15msj3Oca3cY8HlIpXd7eAYUv/xpGsCKeGSlr/iJffKNpq71W/CUFyc/q76vQjmWgjcZ7772eveOJ5xj/7zwrsPOL9j/KzA5ftuH5fr7K2/wy5y17k88ha++9QX/vuZMfuj0NH81uxc6Jjwy7CffuZHMF/Z6rFqMQ+PVEtBjzVeMUTd87Bh4ml83Nu5bLJQ3mEEyrfffmv2RPQLJQDDe4YMGYJ69ephzZo1hYrrF9EfLvmF+ZmB6/T/gNpLG/hYtlM4s4zEa4N649CSwWdg2U7hzBK6QPXGnyh+5v1JaL15sjL4i2Kx3zOH7/aFQsH7tNDol+xF4eMFY70m58vv79mKt+gvFeE9DGU5cuSI2QsNTr7lMpxC6Ucm8gp6neihMYCsE10KmYW7l2xB687yRt6ihh5mhoLm3wqzglFR0xS/+HuhlA/sl1ad6uQ15DVmBpYtKx+C3+a3Tn/18XIuf9gv57pRGQtngm6Y3LklNi3xFvwcaT2MS7ZcJIJfKB2efkJvcLdu3fSk2GBQ8O/YsUO/FEs4uxBPvyAIgiAIQnBKZXiPIISKiH5BEARBEITglMrwHkEQBEEQBEEQig8R/YIgCIIgCIJQzhHRLwiCIAiCIAjlHBH9giAIgiAIglDOOadz584ykVcoM3z55ZfmU+GQibyCIAiCIJRnZCKvIAiCIAiCIJxliOgXBEEQBEEQhHKOiH5BEARBEARBKOeUmph+von3uuuuQ2xsrEnxZM+ePXj77bfNnnC2IjH9giAIgiAIwcn3Rt7SIPovvPBCvPDCC2jevLlJyc9vv/2GpUuX4tlnnzUpwtmIiH5BEARBEITglMqJvC1atEDNmjXNXn5OnDiBX3/9Fd27d8dDDz1kUgVBEARBEARBCIUyEdN/8OBBzJs3T4S/IAiCIAiCIBSAMjOR9/XXXz/jwn/o0KFISkoye74ZP3683kqanj17YvLkybjoootMigXry3r74vbbb9f9am/Tpk1D69atzVFBEARBEAShvFCmVu/xFv4PPPCAOSIUhMjISHz33Xe466679EZjZdOmTeaoIAiCIAiCUF4oFRN527Vrpz330dHRJsUTxvRnZmaaPUus8tx169bh/vvvN6me0PPdo0cPnDx5EnXq1MFPP/2EVatWoX379vra3NxczJkzR09wiIuLw2233Ya6devil19+werVq10rBY0YMQIdOnTA6dOn9WTNc889F8nJyahatSpGjx6tJx/TCOEkYxoktpefXnNvGjZsqI+npqbiP//5D5o1a4ZRo0bpayMiIpCYmIiKFSvi8OHDum5paWnaU886sW6VKlXCjh07cOjQIVx22WW6LuyD1157TRtBCQkJeOWVV/DDDz+YEi1P/7Fjx9CoUSM9YXrXrl26bkx79NFH9apI//znP83ZpR+ZyCsIgiAIghCcMvlG3sqVK6NJkyauzZ9x4A2vo8C+5557tLilEbBy5Ur85S9/wZEjR9C7d29UqVIFt9xyixbujzzyiBbuFPk8xiVEW7VqpUcYnnjiCZOrBY2EGjVq6PSFCxfiqquuwhVXXGGO+mb37t16o6FAwX7xxRfrcgmvX7RoER5++GEcP35cGy02NAQYuvN///d/2nCoV68e/vrXv+q6chJ0sHJr166NF198EbNnz9ZLo7Isll+hQgV07NgRs2bN0sbC4MGDzRWCIAiCIAhCeaJMhfeEC735tHDo5afoP3r0qPae08u9detWLabp5a9evTqWL1+uJwwvW7YM+/bt07HtjRs31p/XrFmDAwcOYNu2bTpfvkuAwpsGxd69e5GSkqKNCKYFg+VzlIDCn57mH3/8EZ9//rn2vv/vf//Tddi+fbv2/Nts3rxZl//9998jLy9Pe6d53saNG3Vb6MEPBPsgIyNDt4WjBiyfBhFDe2g4jBs3To9u0HhgnQRBEARBEITyRbkW/aFALzi93gypsWFIEEU3Pfn87A2XF+UIwfXXX69HAegpr1+/PmJiYswZ/mHM/KlTp/RoAvPZsGGDTr/mmmswffp0nR9HJIobjiZ88MEHWLFihW4j/2W9OJIiCIIgCIIglC/OetFPTzvj9en5tmHsPD3qNAT42RuOGPD4ggULXJNgufmK4/eG8fj05HMeA184Ri8+w20ott966y2dDz3wxQ3DhAYMGKDDfQRBEARBEITyzVkv+hn2QhFPTzsFMCfTMkyHHnlOmuUSmJ06ddKTge03BjNMhsYCw2EYHsRjEyZM0OI9FJg3Q4s4OZmTbmlY/P7779og4IhBYYU46+y9dKcvWH/OXWD5nATMOu3cudMcFQRBEARBEMoLZ73oZ5gLV+o577zz8PTTT+vJrN98842O0+fG+Hl63x977DFzhcU777yj4+m56hAn8zJEiPH6oUCxb88vIFy9JysrS69E9OCDD+Lnn3/WcfqcO1AQhg0bhjvuuMPs+YYTijmHgGFGnMTbuXNnfPbZZ0W2mo0gCIIgCIJQeigTS3b6I9CSnWcaLs156aWXmj0LevK5ig6FNreXXnpJT8gVQkeW7BQEQRAEQQhOmVyysyzC+H5nvD+3iRMn6nX/uRwnlw4VwS8IgiAIgiCUBCL6Sxi+2ItLZC5ZssSkCIIgCIIgCELxUipEP9fMZ+hLOHDlG8alC4IgCIIgCIIQmFIR00+4Yg3fgBvK5FUKfq6A89FHH5kU4WxBYvoFQRAEQRCC4x3TX2pEvyCEgoh+QRAEQRCE4MhEXkEQBEEQBEE4yxDRLwiCIAiCIAjlHBH9giAIgiAIglDOEdEvCIIgCIIgCOUcEf2CIAiCIAiCUM4R0S8IgiAIgiAI5RwR/YIgCIIgCIJQzhHRLwhC8ZNYD32fq4fgr94Lharo8Fw7dEg0u6WIKjc1Q9/HaqGK2RcEQRCE0kKRvJzrwgsvRN++fREXF2dSPMnJycFbb72Fn376yaQIQsGQl3MVBCWSH7sAW584iCrj2qHe5nX4Zpk5VFJQ9F8LfPPAPmSaJP9UxMWPtUbzqvx80Mc1FP1NgY/PQDuCQNGf0OwwVqi+Pm7S/MFzO+B7rJh7yqQ4YRurYV9I/RWc2CK577wvjYC527Fju5Vit+EbNEJC+wgrUXF87SZXu3SfOI7h2D7TP9Z9dBuCedg2y523IAiCUDiK5eVckyZNwujRo9GzZ0+f29ChQ/HEE09o40AQhDNFRVSNysPRfWa3JFm2D4tCFrCnsOOJder8dD/nH1OGQOkT/OS4EsSLQhD85REK/UXqvix6YBN+aNYaCTdVNEecx9Tm0T806kz6AyL4BUEQipMi8fS/8cYbaNiwodnzhN79c845B5UqVcK6devw2GOPicdfKDDi6Q+PfF5WQ2YQL7nndU5vu9ML78zH8kwfXVsZzc111rEAXvtmtZAwsp4rFMbpHbbI7+121sujDV55Eddxj2O+Rg488eUVd6cFar/xWrs82TbeHm2rrfSOd8BhHG9vwp52p2PRy8d0WR28f07NMe/+d6f7QY+w1DI7Nu4+8LjP+ertTWBPv8eoBcu96qTOD+ac/CMa+e+vIAiCUHR4e/or1KtX73HzucD0798f1atXN3ueHD16FO+++y5atGiBBg0aaKH1+eef49dffzVnFB9Vq1ZF/fr1dR1+/923bdOoUSNUqFChzBoiNKbYr7m5uX7bWJ4YMWKE+VQ4Xn/9ddSqVQvZ2dkmpXAcOxZAeJ1BTm08hO27T6Nu9I/4ZHIOInudxtYHtmP7LnOCT6qi7e0V9HnfLsnE9iW5LiEYO64taq9dhxUzmZ6HumMaIWL3IeQcqoS6veoj+sAOfPL3H3SZzfpEIPuzY8j8zDo3stcFyHXkhUMn8L3On1sOzh/UCDUPMC9zHMzT8xrdHnV+bvM6iDyYif12O5x5mfau/g9FphKWD0Vgp92W05FI+GMl7P/sBLwlqIsmkYjOO4T95ytjYSzb8CtqXhOBk6sPoeLN/tp/Cvvtsi9RRqAj/9hxrVE3Y5PVL6fPQ7PYw1g9XT0vl9REs/YX4odZm/DVXNU/Q+rovPZ8bOVt3ytd769tMV0HV1Q5gEWTd1tttdP9sSvX1V/nfmnX2/SnEua92h3Hir9mYKM6Z3+dekhIOBUgzwqoefVFaH55HTTrZW2N6lbEqQMHsR/VURdH8P3G09ap56t7d3klfe9O6XZe5LqmWfM8U4b1zORPFwRBEIqCOnXq4MCBA2avhCbybt26FbNmzcKJEyfQrl27sEJ9Ro4ciX/84x9o1qyZSfHPRRddhClTpuhwItKrVy+MGTMGjRs31vvexMbGYtSoUejXr5/eHz9+PJKSkvTnUKhZsyZuuukmPPvss3j00UdNqsXgwYPxyiuvYPbs2XjuuecQHx9vjvjn+uuv123lNbx22LBhOPdc6xaxXna7nCQkJOh6N2/e3KSEjnd/OWFY1owZM7Q4Zn1YL9ZPKIPUqwRkn7Q+HzsZwJNrcxJHj9VCh+ea4WKPr11V1GuovjfXtkPf57h5eq/pQd5qe3O3Hwwhrp2eXjsvh/e6UKg8bwK+sb3fidVUHdkWU04+r7dvqtSuiCp/UP2mhKk1QnACx7YHa3/4HF/7vfGas891UmD2qfvXsGmRTBauUrsyjm8/6rpHx789jONRFwTJl3H3djiOMiLW5pn0wHiE97hGJqwwLSt9E7ZFNfUICRIEQRCKlhJbvee///2vh/B//PHgAwz0xNITf8EFF6BNmzYmNXTmz5+P++67DxkZGSbFk8zMTDzyyCN48803TUp4cB4DJy/n5eW5xDnhaAbDR1auXKkF+b59+zBo0CBUqeL/z2nXrl3RvXt3PQoyduxYzJkzBx06dMAtt9xizvBNSkoKJkyYUGRhKk54r6ZOnarrw3rRiOKEbaHscPFjltCt0r61JVKr1kNC0FV07Jj674GbKG6d4t8Zg82t4HHYseNUfRieYou+IhgsiR1XB0fnehkbrjLMFsQYOf7jCVSJVmI/Gtj6ubKZEiuhmhLl1jXht/94dp7pf96LytjmXb9woDHFcufCMmRK60pBytCsEpKBaXMKB7aHZkAIgiAIBaPYRT9DbMaNG6cFPz3qdhgKBX0wKJ4ppilo6cl2CmuGFL388ssuTzq90A899JD2vvfu3VuLbXqrJ0+ejEsuuUT/O2DAAH0tPdz0zt9www0uDzr/vfTSS3WoDPPj+cyDME/u//GPf9T7Nk8//bROP3LkiEmxaNKkCX755RctlBk2tGHDBi34GWrkj8suuww//PADFixYgJMnT2L16tU6fp19wPJJ06ZNdZvZlw888IDuW7bx73//O1q3bq3PsUcYnOeQUPrLH6zPvHnzsHHjRnTs2DGg8SKULije6Y1l7Pmijw8aARxqDLUl/r/ZHYFq9bh/DPt210KLIvTGHrdHIBJrF97Tn1gPLbJtz7lh2VFkNqzjNWIRBHrTo6qhXra6Vn2uclUdI6wL0v6KqKPKdnvHwzGSKqOqv3pr8Z+OzKr2SERwOHrhRBs3zaq5ro/tVQ9Vcn4uuEHioio6KEMz8/NwjJuqaNE+QtVJwnsEQRCKi2IX/Yw5p7eeQpgb44uc4j0QDImhkbB27VpERUVp8U7oAe/WrZv2clOs7t27V6e9+OKLOHTokE6fNm2aPpccPnxYe/UpmgnDfTi5mGLcJjk5Gd999x327NmjxfL69etRr149bSCw3mxHqN70iIgI3UY7xj4rKwunT5/2224Kb7Zv9+7d+O2330wqtBHAUQ6GIZHIyEgt8CnoWS/biLFJTEzEVVddpQ0HGjXMlwZNuP3lj507dwY1XoTSR5Vo90Rel8gOBCe+2uEwausQtQ9bzaTWzJfTcdz2WofkabZDeBgKY8JszDWZn+wD7LxanXR4+v1fw0muuk6uMBt7FMISmi6POrdxtCKO4ZuPT6D5SJOmtqAhJNuV8K3K8lRfbT+KHxDhEsN+22/3GScM69EU9VmXTw82PMr3HDnxxzFsXeu4TudlTZx159MUVdb+GJIB59HX9kjPsn34JsfUVW28zysCTQoOgrvvQ1xO1eM5K51LsAqCIJQnin31Hn9Q4N55551mLz/MjyMEX3zxBVatWqVDWDg3gOv933zzzWjVqhX+9re/4fjx49qbXbt2be2Rvueee/DNN9/oycP0gjPmnZ5vns/wGcapM5Smbt26eOaZZ7SHn2Ke51MQU3zTAKCHnfVjWBKNBAp/eshZnjfO64gttCmqKdzphb/99tvxz3/+E5s2bdLnOKGAv/fee131tnFeRw++XU/CMjl5+quvvkKfPn20B59tpWHAdhH2E+dCbN++PaT+csK+s/O16+wrraSR1XuEsgUNGM8Vami4tMj2XqlIEARBEIqWYlmnvzigV5+e8c2bN4PeaHrgKWDpaY6Ojtar/9gCnCunMG4/0Oo1zIfedoYJUcBTCAeCYpAvFWM9eD6v9yX4i4Kff/7Z52pGNWrU0CsL+YKjB94jB+wXjmZw8i23Hj166FEHjliE21/+4EiEczRCEIRAWCFB1siF8agjXQS/IAiCUOKUWtHftm1b7cl+8MEHtYBlzDtFLePuKXjPO+88V2w5PdecUMuQHX/Q484QH1o9559/vhbxwWCID/OlcA7HI8yJvRTGdn1iYmK0ePcnlmnU0MCgYHcKeY4AUKx7zxkgDPnxzo9hTKznXXfd5domTpyoR1XC7S9f0Pih4cDwIEEQQiPzZTue32yFCKERBEEQhIJSKkU/wy4YfrJ48WKXeOWkU4pfhrwwtpzClXHqXPrz1ltvxR133KFFLYWwP+84w4MopLlu/7Zt20yqG1uo28KbE1fpDee8An4OFdavYsWKOtyG9ePKQ7ZYZvncvPn66691m7nKD+cPXHHFFToEhfMOaLAQGiwU6zSAKMDT09N1us2OHTt0vD0n5jIPrvwzfPjwAveXDfNieBFHPVJTU3Vb2AbO1eAxjsAwf39tEwRBEARBEM4spVL0M/6cHm7GmtscPHhQe+cpdvmigeXLl2txywmoFMJcXYainkKYE1q5zKQ3vJ6hLTzHl9c9LS1NryrEVXnoSadIp+Bn/Lqv8/1Bb/tnn32Gzp076/oxvIaTaymWufY+Bbc3XN5z6dKleiLu9OnT9Xls/9tvv23OsEYQuAQp311AQ2DRokXmiAUn5FKUc6Ue5sGlURnLxXwK0l+VK1fWcymYFw2Qjz/+2FUmjQC2gyMyfBcCjRR/bRMEQRAEQRDOLKV2Im9p4Morr9RLW3IibVFN+CxquAzq1VdfrScoB5unUB6QibyCIAiCIAjBKTMTec80XB3ntttu08t4llbBz1WCaJQwfMc71EcQBEEQBEEQbET0+4FhMHzj7ty5c01K6YPLbDLUh+E34YQfCYJQGEZg2uLFmDbS7J4hRiZnY0PyabMnFJSuiX3xwcjW6Gr2yzRtu+CD+7pguNkVBKFsUly/70Ui+hnaEM7yjzxXwiEEoWyQkPQe3ktKMHv+sIQwJ98vnpuMYGefTYx42b+BEFrf+mB0Lv7a8kK8lOQ5CT+ogI1pjX8Xm8Ctj6lFKDiHD74FU9uaHZ8EKI/id/CZe4kg78O/EyPVp0g8OvIWR11Y51vMMX9Y53zg2s6wiM/3zHjVL1g/a0PEOjdwu90Ev/femDo56hJaHgGeIV8U6fcnzLJ94G5j/ryc7de/C/b98qq/dawvHo0xCZow77GBZYZznz3L8a6DTeH7yYn7uxmAAjyz/vP16ks/fe39rM5KqoGNLX/A0tEmoYgoEtE/efJkHVO+ZMmSkDaey2sEQSgvzMb4Pn3Q5/lU5JmU8ovV1vGzzG6JcxJLB53C6hkRCLcKw7vEI2vNJqw0+2WZronxiFmXhjfNfkFZuWwRBswqyj6pjwHtjuLTZblmP1d9JyItodW2EbA7lCWP9+LDF97GAG5LgP6hip71q9Q1qwrdJ048nxlLgMWsU31m129ekPboOr2Nqevs/iguVD/XaFRk4rDUowyQHjXS8MF6s+8PJWAnqOfRfp4+PByPCS4RH4mr49SxJUfRorVbsA4f7LzHi7C2RrwfQW5jGbdttqv8d5ukEOB3GEusek1dB7Tvl9+gKqrveVgU+TPr+D6r/nwyyyQHpAJunlETtQflYopJKQqKZCKvIJQUMpE3POhJHlsrE2gSh4idqUiN7oiOkRlY0Ge8kq4JSJ47Ue1b5+atmYIhySusnZHTsHhgnPVZ4T7meU3G+17iNzEZ740Cpt+UBJNTADzzws4F6DNutv5I7/igJvqjwtSXed8fhRRddwueF59m6uCsc24qpgSqg696OtN0WR0RoQ/Y/WX158ROJtWr7c5jFtZ1YB0PpiK2k5Wf7stV3Rz52+Qh9fkhSFqmPnr0vyOdjM7F7vhKaDimkklwQA9Vs+99CzF6KfsBMzwEriXi7K7eqf4AT6CIYD49bWHAP1iWkKQ3awB2IaZdvFX33eqPoyqLHr7+3ms5mGOWIOiL9uY+u8pgfboAW5WgsI6ZcjzKtnHXwYL1boQNzjTmN8zUi5jyWefRqs5Zqs66nblpmKr7wNF2V5pC5xOFTx15s30UNKy3s615Shjd6hL3FlZ5K026Vc/DStBg0yrs66IavF2JeHWPPkQX9MhxXM92d8pR9cjFAI+2Wf1XYw3Lt/OrhvbtrA61+tPZx86+4vnxODzHLTQ86ufRZ959rPB+Zlx1dD5DBj/PjI1nv1h4Pjfua3R/56S5njNf/eyJeR6UgdQjOk2f675nns+fnZdn2QbXM+vnPpv+2KqEc3t9zLuvfXyXFGz7BHO/PJ8/+z6bOsI+5llnZ71s3O3jnjMvC/v4hmbO84jjXLanSy5uXRXpcZ91feN2WXXx8X0IBMt1Ptfe+/meKRuf6Z7t0s9Q1FGgYX1E7E7Txkj7SPse+L7PGq/fFPcxz2uc94z4emb9YZ3r+J1x3bP898YT1kGZOgt9GwNTXtmD9mkN0H2GSQgTmcgrCGcZEeoXKIUe+CYdEbV0ClJzY1E/kYJ5IlptmYI+9ND3mYLNLSdaYSgUvAOhBCvT+2DKGrfvntdELbXS+/RZAAx8D8kqrwIx8gZ0zFZC35RjC34ye5xdhtreBwa9PAJYloSUnXGId4XKjEB8kwykUXizzt1zMMVcM2VLK0zkNf5YthfKFNK4wm/iohCRvVcZASMwTRsXjvJNyNKK5CE6bcFOfakbVf7YTpmmz9jHNArcxklcJ5Ofug/odANGqLYMUfvsWxoBVlttYa+Moe6xSuib8l3pFlPijyA9zYfgJ/RQeYkDm66tG6tK7XX8QeUfGyVC1R86ywNl/uDxj29PqD+kJp2eZkdIQJN2FAA8tgo7G1oewDfnmX0tgsx1LvFkCVarjFVAT8fwtrrePvbh7vroweFx42Wjx5B/hO3rPP5gtm2EJru/d6SpP6zDGmPrHHP+Es8+iFB13qDzsTydA/RQ+l5MYNqcNM/RqaxN+FTVpY1ruF19brgXG1Tf8A87BYxVp0XYGtfXa1ienlMlCjc5REJuDj7blIMarVujDVSds3J0eW+uSlMPRn1Xvw5vVh87fY7C5GLfYXVbom0FWB8t1Fm6DqruMZ14b3Lx5CzWiffAyV58oAwOtxfXWT/2mX0v1eZ1n4n3M9M1uhryPJ4hQ5Bnxh/Wc+O4xhFG0kTVc4Y+tkoJqa5BPM2G9d8jy9GnhM9fi4z89yzQMxvwPkeqZ1aJaB6bqowvq87e3yXHc64EpxbQpoypGY0dnnYL1rH9YfXc24K3rRKz3DfX5P9Ou59JN/XR3xFGYhkskahXIxeHPcTkURzOrYZ6qm68v1nbVd5Ze7EVjXG16WM9+rUmChOYF4W49/cvDLyf8/y/QxZMjzic65me73uuvsuqXZ/yO6t/OxZhrWmLv/vs/Ww6vfcBf5sKQES7xsrAtvKyfxstHPfG697z+/3kLP/e/x0HK6Np/EmzV3hE9AtCOSdvzXxLfOamYr7LM52A+tF52LzK9nOvwPIteYitm4CELq0A+xoPKLLV7/dAE7u/eBBsX3SByFDip8kgn3MA6DW3ylCbY8RhdloG4uKNmB8Zj7idaZYHXtU5IrIjJpprPD3ufoiMQlO2SfUDVLtJ3sF0K1/13yAf5RcUlwHgMDb8swJ7syPQ8f6inCzsHXKiiKF49BEeEKOMH+cfWiWkdqq+snshzzXUTvGgPwSA4kQJuJ62GHF7QjW57vIzcoJmZlACq1M1rF3lEEJaHKT5/cPprrMl9pzePF+8qYRQEyXCNS7hQcEcqf6w2/HRDk+sjRZrPuqhRNXhuHiAAsvGQ2ipfgolVEOz130flYFyq7fH1IuVm3a5RZe+57vwGevHdjnFSL7RlfzPTFyUd4MNQZ4Zf1BcW32Zv3y3AaTE7e5I1AhJjCkjR4lqy6gjluh1G2G5+Cwj12FA+SLIfXY8s+zbvBoM3aqGGpFOEe6us7eh5L6GWP3fH17GOg3Dhl38zs/xHfLiMF7UFjzMxjIALYOA/eIwDrVn3BLK2khR39sCh015POc+jGJCw4ghSB7GjY/vucL1XXbch0D3WRsZPsODgvw2FYC8dSvNd9/522icC3pjqFSXMOY8ALP2VzSfigYR/YIghAFDVmwPdH4vdFgYb3efmcBYimtb/GuvOdye7vfVXyObWfORGh2vpLoyQeJjkbrAbZq4PeZmc4wc5CcdORzxGKmExpYU5NTqhhF1Y5G53xhBDDVy5hUsXEmLedtQmKhHMAoT82+PdKTFW4ZHYcX/GYmLdeEpRviHz584Dwl/wrooWc/QASs+fHgzp/DIxVp7NMFsbgPCt0ixsDzxrnO16FNpa0wstRLg8DvXgoJGaadsL6EUKhy5OGyJLu3ZdZbDEARHW5xzG3w9MzTMIqKqmb1CEtMao9vB3Z9eozNufHmr/UNRHWMbbAUm0H12QGPH2zsdFnuxlp5nlxFgoDHHchcCoylIPcS/DwPeLxwl8jaYaKAcxT6VT4vISLQfZolehh9FaOOQz3F97Fxieffp9XeNwhUIx3NOo9P7u6sNDPW9meM9mlcC3/Oi/m0KimWMhMPIuqeQe/A8s1d4RPQLwlmJ5U1u1cX2sY/ADZ0itOhdsT8TES27OQS47TWfjbSdcehdgNVmLM+9n1AgLf4XIEN73m0ysdcV6uL0F3JEIhbxI+mh34zlxuBYsWqzFTZj7YaA1f6oeCBn1Wz1098KvVuads5KQ0aT3uGFLelRB9+hSsGIqOVutTcU/wwB4giMzcS06mEO9/rxrmXlIivSDnVxoL2M7gmRFH9NcnOUuRcK1lC7G3o8Cy4YfHlkdRiM02NOPOpcH1Pzea3DhX+cq6FNW3rgjWdcpwHtu/jJ2+lFt4mJhEd3eGPCUR5tBq9QDTddE7vqWO/QRgF88+Z2iq766jk46i6H3niPEAQnvp8Z7aVu2CXfSiMFf2aU+NT9ZQlNn7BfKVJDFWM0ctAIbfSOJXrd4U0UzJFeBpT3MxvkPjvgs5iXc1R9omdXPSt2vyiDpkdDy1BZmX3UiGkLTox2Ggr7lKjW3nRfXn0t/ld5jpr4CHkJhB610iFgFpyky+sztAfcDofhZpfjHU6W3+i0RmjCCIUxz/lwGp3O764OvaHgzy+2fX7P/eL/Pnv0vzY07XMK/tsUdvtd+Hr+AnNxrRP4cb/nKm2FQUS/IJylzB63AJmdJlohLIsHIXbNFMs7TW86TKjMKCDFEdPveY3aHN7597jPyal2mE2gmHqFRwiPLt+EFJnYfctrPhbY4ikdKPBjB6rztyx3e9/VNdPXxLpDctQWzDuefjAPcU2itHExO00ZOpF5yNFFzcb49zN1eI2dl72sJuP/uc9JxlaYkzFktKEwyHW+3oK0n6xITnFcZxtFjuVP1TaxUyZS7AnWZEYlpMcdwzvdzX4w/HrM9mICY8Jdw9tm2TglNGYwVtmk6WH3ICEkFlb8uO05tGNX35zHmGxHGEcIsd5ExwK7rjPhBRRTvsJgKPTUH3Crzo2wwa/X2AEFB8/nRFZl/Oj4ZUe8rfYY9+yCGGdoxrKVenje1RZH2EPBVkZSwoOTQhnrb1Is3GE3rgmV5ohvOFnQqo8rZMfZzxRd7bqo58BZjrr/S46675faXGEHfsOUlAj1emZ0nwV4ZuwQHu1JNvfTfs7c90zVVPWzE1fYhZ6rEV5M+Zvb1fU6pt37+bNWpXF77X0/s4HuM2P69bOiNoblWJM8c/HkQke/qGcqa4kRsutXWSvm2Neo53eqV4y+9qbrc6xyPMKedJ3tEZdAo0l+8C5fhxIdVUadt/i0RDANF88+s2Llg4XEccKuzl/1u3WfnaLYes77q+fCbdyqtvTjRG33aAM3Ow4/pJWJHPi9zxy1g2l/P+BTR0y/v98mv89sQbB/Z/RmzfsI1pcuuufh2rjqWFvASby+kNV7hDKFrN4jlEZowIzFdPfqRzSCvFYaKlK4gk/3CnhqaLBlO9Uf1gArQ5Q1PFcsKUXwD7uvFUmCUhrvT/l6ZsoVDIXxtzpXOaLUfs9LlNN4590fUHtpwVfuId6r94joF8oUIvqF0KHH3M9kY8fyoEWCFvnOJTi9ltksBvjGxntQA228XtAllAUorK0Jot7LBAqCIBTV73uxiP4LL7wQffv2RVyczz+vyMnJwVtvvYWffvrJpAhCwRDRLwiCIAiCEJxiEf1PPfUUVD4455xzTIonv//+O9atW4fHHntMhL9QKET0C4IgCIIgBKdYRP8bb7yBhg3NrBkvKPJpDFSqVEmEv1BoRPQLQug8NbQ7Lqkf9hITglDq2PLDQTw8d4nZEwQhFEpc9GdnZ+ODDz7AzTffjMqVK4vwFwqFiH5BEARBEITgeIv+Elmyc+vWrZg1axZOnDiBdu3a4YknntDzAIqbqlWr6nkG557rv5mNGjVCzZo1zZ4gCIIgCIIglD9KxNP/7LPPag//9ddfj5EjR2qP/9q1a/Hggw+as/zD81u3bo1XXnkF27dvN6m+ueiii3Dvvffim2++wbvvvosbbrgBV1xxhb42IyP/a0JiY2Nxzz33YMeOHXjzzTcxfvx4REVFITk52ZwRmPj4eAwbNgw1atTA8ePHsXDhQixbFni5DrblxhtvRJ06dfQ+6/XPf/4TBw4cQM+ePTF48GCcd5719rXTp0/rNvN47dq1cffdd+u+I7/99pvHtU6SkpLQoEEDs2exZ8+ekNtl492fpQHx9Jcc3ScnYVKrdEwe+G8sNWmF4ySWppzE2t6RmGhShLKItfIM1+621igvDuRZEQRBKCwl7umnt33cuHHa09+vXz/k5ubqib21atUyZ/iH59ATf8EFF6BNG+v9euEwf/583HfffT4FP8nMzMQjjzyiBX+4cHSAAn3v3r34y1/+go0bN+Laa6/1a/wQtueWW27BkSNHdIgTt/PPP18bNuwnwtGQqVOn4q677sL06dO1YcJ+I7/++ivmzp2rj73wwgu6Dnz7py++++47fZ69hSv4BSFset6Khe/fCt/vjOKaw1nAAqeIs14oxJee6Be7DHa8AZPrUbteaFKIF6OEjCVkw3/DYriwzY4X/fiEdXG/zCXwuQ64VnyIL74KiFffe9yXAsB76+/+ue67LtPZ1krovgC48d08BHnHmiAIghAixS76OYGXwr1JkyZ6o4c7ULiNE3pieS69sc2bN/e4rn///nj55Zcxe/ZsPPfcc3oU4aGHHtJCuHfv3tprT8/55MmTcckll+h/BwwYoK+lB5ujDxwJoFd86NCh+t9LL71Ue8iZH89nHoR5cv+Pf/yj3icU4zRGPvvsMxw7dgxLly7VnvlmzZqZM/Jz2WWXoWLFivjvf/+rvfPcPvzwQ0RGRupRA2/S0tKwe/du1KtXz6S4YcgUr7c9/6FAw+L+++/XBtirr76qjRbCfh09ejRmzJihjz3++ONITEzM15/C2cXSSclILCIv/8jkw7giO8bHS0asV9V7QPHaE/jwBfv18GfbOua5eHKWeS2+SSlxdq9y9f2HUILcQ/hb9SsqL39ezlHzyYsZkfhP9iHck3zaJAiCIAiFodhFf2GgEObIAEOBGHZD8U46dOiAbt26ISUlRYtRetuZ9uKLL+LQoUM6fdq0afpccvjwYe3Vb9q0qd5v3LixXlFow4YNep/QE07vOMNgHnjgAaxfv16LbRoINFZovAQKBTl16pQWzwz18UfdunV1GBDDiWx++OEHfS2PecP2c+Rg3759JsVN+/bt9TW+jvnjtttu0/XjnAqGIl111VU6/ImivkWLFjpMi8ZQREQE6tevrz/76k+hLNEDM96/Fc/MfB7LlnFLwjNKUGvGjMeymerY+/ax8bhbH1DX6H21eXnu756prp+srjPHF07md6qplcfD7VClWjtM8jhGTiOxJbB6fiWzn5+MnFz/4s+JnxEAeoz/nRhp7RAPr7fTc+7pddaeZp1uvSgpIDrPLpiq8+qCR82r2u38PF6d7+Fx9/TcNzGpxF2+V/3DwuQ/LB4Rke7X7bvzs0ZU7HLCHTV5c1Ua8ho2srzwjv7PV1+Pe+N71MTqIx/HsnKQl5sD7zHZifNrAi1/Fm+/IAhCEVBqRT/FLr3uFNrcTp486fKGX3zxxdq7vnz5cr0KEMNz/vWvf+Hnn3/Wx31Bz3h0dLQW/JzcyxCbQHMEKPop4nluq1atkJeXp/Ow+fHHH/HLL7/g6quv1pOSu3TpgmrVqpmjvuHIgDcU1WybDT33EyZMwOuvv67Dor7//ntXPD1j/W+66SZ9bMyYMTh69Ci++OILfcwbjlrwPG4U7FdeeaU2YlJTU7WRRCHPPmDa119/rQ2mNWvW6FAoHufog1BOUEK89cHXkJh4PxLn5aDTGIeQpyH8ikpXxyZ/GYU+Wqh/itE895l1OG6d5aAqOrXKwWRzHJdfqwyFdDw80Jx/dJ11TG39JqVbl3T/GZfgQizLN2SwFxNesF71v3KZIz48axM+3V0f/SkevUNL1rs90PSEo6cVEkJhirj6LqHdtXVjZUnsxUr1efjgvqixxnmNJTopQPvDzm8R1obiuI5U9VnDc+ujfVQapq7LRUy0+q4owTshbhemmrpNzWiMCabuLJ/x73b5tvee5ffIsdMXYWtc37AFuYUZGZijxHmuqpOpg9WfNAi6AEusNGf7QyYrF1mohnq8xvQ/2+2JKqdTNaydY5dj3VcP2EftjuJDx7E355l6qnt+66xN+n55sPQ8/FjtJyT6jhkTBEEQwqDUin569Sm6N2/erIUxPfAMnalSpYoW74xvp9ec0ACgWOVcAX8wH4bfMEyInvtgk4JpaPBNwqwHz+f1dnnk4MGD+PTTT/Wxl156Sc854KgERxX84csoYfgMRxFs7Jh+xvuz3dzYPuKM6f/rX/+q0ziR2BfOmH6OhlDgs+8YBkVDgGE89ObHxMTokCNOLp45c6Y+5ivUSCjL7MZiW4C/sgU7qkXhYmsPSP8CD5ulrxnO4xLqAdixxIT8LMmC5xTyooNikOJRh5Yo8e8Sw/S2u7zJDq951l5sRWNcrcVsJK6OU4b+JgrT+mjTEGjS0/sa65y1q/bqvZBRovoDHWqU63Ft1+hqyDNGBlm5aRfyakQqI4Tl78Wn+UJhWH4kItrZowMhjDQUiGqoEbkXG1zhUerz7kjUCEf0h0Qu9h2ORPthvkcSdP/rkK1VCG8GlRL9IQwACYIgCMEptaK/bdu2qF69ul7hh0KU8fAU+/RgZ2Vlaa83RSyxl+b090ZgwjAahvhwJjMnz1LEB4PefubLcBdfoT1cqefPf/6znojLcBkaFYzB9wdXeKEHnXMVbBg+xBEAb2OB9d20aZNuL8/xhvH827Zt03MLfB33hqMCHK1YsGCByxjgxlGAHj166LAfewIxDSyhnNIzBta6UWUDLf6X7EWTTgyXicSj/ZRBui6/11x7u9ccRYvWSjnH1EeLw2kOT/Nej/kBPr3QZwRlOLg849ZWKucuxEQiBkexL0if2YbahmaWgeUU/zvXpSHPHi0Ii19Ru1pF7C2a5aMEQRDOakql6Kco5hKVixcvdolTTiqlt5pLXu7cuVMLfcb1M7Tm1ltvxR133KGNAC5lWaFCBZOTJwzPoUCmAKZg9obX0nCwJwxzRR6OHtCDz8++4Lk0SDgpmGExHEGg554hSE4PPmEYDb39XOWHE5q5cUIy2/XVV1+Zs9ysXr1a59+5c2eT4obXMuyIxgINhGAw9p8hSYzhpyHD6xlGxLh+Gh0MVeKoAr389kpCNGKc/cl0jrbYk7PZl7bBZfeZULrpntAUVdK34DWzX+Q4RxFsll6AjSh4iAa96E6ysi2vedfEeI/4eKz/Hllx9TG8dWNkbbe98PRs10ePfPHylmdaGwmKroldC+VpX5l9FBGO8KLhXeIRcTgXK5VYPpxbH22MAB4+2B5pyMVnGUD7Ll7hS4UlMgpx5qOFZ/kcKenR0Mfkab/YhlZayB56in9X2JNN9ibcOmcXWgwLM7SouxL9RyvAPQtKEARBKCilUqlRzDKUhevD2zCcht55htPQy814fk5ApaeaonPevHla1Kenp+uVZ8aOHWuudMPrGSrDcyhmveFqOVxW8+mnn9YedIp4Cn563H2dT9HLya6cIMvwIs4rIJxky5h7CmwnbMPbb7+tRzA4mZYbxTZDbewQHifMk3XlJGXOF3DG9PNaCm2OMITKO++8o8uhAWVfzzZ/8sknun3PPPMMhg8frkcEWEeOjDj7k2vbs10chaGRNWTIECQkJOjwoUCrFglnmoYYaibX6nX3R31q0v3ApTd5vnNi7swe5mAAlvwbi9PdZbkn8lbAsi3AFTe4564ExGuyro4D1/He9ObvdYXqjMYur9VtlMA/HI/+6nx3OAtF6CpkucJo1GYm2ep5ACZ9NNJCi+n3x/pV+FCVbU+i7V8jDVPn0fDwrHOb7e7RiZXLVmJtDWdb7SUr7Ym3NBDM3IZQluJ0zoVQmzXRVpW/MA0xpnxO9s1aEsJIR0O7Xp7r8duTlSe0c4cmWR59z8nCvGf5QpoYt7/kqN8QIF9MueEQsOUCzDL7giAIQsEp9pdz+YNhMHfeeafZK51w8itj4PkCrEAr9wglh7ycK1y4Ek9LrEucVnze/ZDgOv0/oPbSBj6W7RQEH4zOxe7uFfDU0AgR/YIgCAWgxF/OVVah95oefE6IFcEvCIWlAm4eGgMMysUUkyII/jmJpYOA/4jgFwRBKDKKRPTTyxlo5RxveG7p9YxaMGyIL6ziajmCUHbh8ptn2stvUwndezvfyCsI/pBnRRAEoagpkvAeTqbt27evjq0PBcaqL1q0SK+xLwjhIOE9giAIgiAIwfEO7ykS0S8IJYWIfkEQBEEQhOBITL8gCIIgCIIgnGWI6BcEQRAEQRCEco6IfkEQBEEQBEEo54joFwRBEARBEIRyjoh+QRAEQRAEQSjniOgXBEEQBEEQhHKOiH5BEARBEARBKOeI6BcEQRAEQRCEck6JvJE3JycHb731lryBVyg0pfXlXIIgCIIgCKWZIhH9Tz31FFQ+OOecc0yKJ7///jvWrVuHxx57TIS/UChE9AuCIAiCIIRPkYT31K1b16/gp8g/efIk2rVrhyeeeEKPCgiCIAiCIAiCUHIUe0x/Xl4e5syZgxMnTojwd1CpUiVcfPHF+l9BEARBEARBKE6KJLznjTfeQMOGDc2eJ9nZ2Xj22WdRr149jBw5EpUrVw4p1Ofcc8/FLbfcosOGaCTw3M8++wzz58/XYRl33323zoswfOjIkSNYsGABVq9ejaSkJDRo0EAfs9mzZw+Sk5MxePBgJCYmomLFijh8+LA2SNLS0lC1alV06dIFnTp1wvnnn4/p06fjhx9+0Nf6u8YXPXv21Od/++23mDFjhkm1uPHGG/XxTz75BAcPHkS/fv0wd+5crFmzxpxhMXToUN1G1nf8+PGIiorSn4sD5n/ppZeaPYtDhw7hxRdfdLW/NCHhPYIgCIIgCOFTYqv3/Pe//8WsWbNcHv/HH3/cHPHNkCFD0KFDBy3kx4wZg48//hhdu3ZF79699fFff/1VC+a77roLf/nLX7B9+3bccMMNrsnE3333nT5mbxTNFHkUeytXrtRid9++fRg0aBCqVKmCYcOGaQPj2LFjOO+883QehNdcccUV2pjwviYQ9OI7DSGe36pVK22gkOXLl+t6ewv+MwENImdfTZw4sVQKfkEQBEEQBKFgFLvopwd93LhxWvDTs52bm6uFb61atcwZ+alZsybi4+P1iMCyZcv0nICPPvoIu3bt8jmiQKH+xRdf6NGBJk2amNT88Ngvv/yCzz//XI8cbNiwQYvx+vXr49VXX9WjDxTATjhCwfkKrAuv2bx5szYKqlWrZs7ID9vIayjybehNj4iI0CMSpHXr1pgyZYr+l/UeNWoUZs6cqevRvHlzfQ5HLHgdRy147kUXXaTbT4OJ/fnSSy/pEQimT548WadzhILGD/cfeeQRPdrAfGk43Xvvvfo6pt100026DEEQBEEQBKH8U+yinzHrjRo10oKbW506dbTIDUTt2rX1dfv37zcpFlOnTsVrr71m9tzwXHrwaUzs3r3bpOaHoptl2972rKwsnD59OmB9OIJAQ4GjEwwzopCnkXHgwAFzRn5OnTqljQdeY+dNcX/06FH8/PPPet/Jddddp/N9/fXX9ZwHG45OcMSCedH7zus5IsE8Jk2ahK+//hp9+vTRRgtDklgvCv+vvvpK73NU5f7779cGE40oQgNs1apVuOyyy9CsWTOdJgiCIAiCIJRvil30FwQK5WCGAb3t9FZTKNO7fckll+gQIIp0Qg85j3GjZ5ux9AWBRgRFMuP9X375ZTRu3BiLFy/Gb7/9Zs7IT4UKFbBz507UqFFDe+3pned1HCXwNXGXxxg2xFAfGhPbtm0zRzyhuGeeHKn48ccfsWLFCj0KQk8/DZP169fruQKE+5s2bdKGQHp6ujYAWD7P56gFw6NoGBCOJNh9xY1zCgRBEARBEITyQ6kU/RTUgUQ1ccb0jxgxAn/+85+xZMkSc9Qzpn/06NEex8KB8wq6deuGDz74QIfIbNy4Uc83CBSeRGG/d+9eLbR5vR3mQ/HtCwp5ivFgMNSI4VLDhw/X4pwjAbGxsQFDjULBO6b/3XffNUcEQRAEQRCE8kCpFP30YlMEc/1/JxMmTMDYsWPNXvhw+VAaE/Y7BWJiYrRXPpCBwZAkesvtuQVcPYainiFIgaCnnZ51htBQ+HM+Alcy8gVXBPI1AuAN+4V1YYiTU6SnpKSYMwRB8KQT7n3RPYqVdKNJJpffi2km/fUX71VnhsbQJN/52enT7nHkdGOSV/5DkfT6NNx7ud4RBEEQhBKjVIp+LhnJJTEZE5+QkKBDfRj3zjAYhs0UFF7LZTeZJ+Pz27Rpg+PHj2uvvD8osrlkJsN7KMwp4Gko+IrN94bhNpwozInJa9euNan52bFjhw7R4XKhnPNgT+QltpHCPsjIyNCGS48ePfRIQ4sWLfDAAw/ofikOOBeD9eLoAo0Xtp9pbI8glAWGJo1C04yZxkBWxnGvJCW79REkjWiK9NmW4TwzoylGJQUPa6Ow73LYzu8uJP+HqZZh0XKrMsA91gFQ6VdEY70qIyWnLa5RBsLQpN7AJ+PxYtGsPCsIgiAIIVMqRT9577338M033+j4cq44c+211+qlNkP1ajtj+rVHLilJr8nOtf65NOe0adN0uAyXBKXw9wfLY6w9l+l85ZVXtCHCibEU4MFgeTQoOAF369atJjU/LIPnUkRwBSEnNH4o8J9++mltQDD0hgYL97nkJ1cK+v77783ZBcM7pp8rBVHc33HHHTqUiZOkGdrUvn17XUeJ+S9DOL3ZavPwQnt5wZ3HOt0zzZXu8lIzL4dHnOdY1zCfabj3HuPVduYVbvn6fFuYE+ucfB71kDzzyoiOOoH0VHtZ3HexZU8DtGReN7ZEgz2rXOK7YY3K6ovQ0lGuD1TdukStx5yXvJfZXYMX77UNAG+yccAW+C2S0Bspfs4TBEEQhOKl2F/O5Q9OkL3zzjvNXtmjrL3UqrwgL+cqDBTQw4C5lqfZ9lqP9xaxDEm54ghm3vuikrMOKMhvAuaYdIr+YZijrofKdxTa5qTgrmTOB2EIi+rbu5KVzHYSWvlMp9dci2OvMgmP91biO1/98sHyRqH6akdeI9oi+5O78L8Yz7o3zViP7PjqPursgP3S4gjWR7VFW/2ajj1I8Trfu03so1HxyqA4fgInqmRjVaD8BUEQBKEYKbWe/tIORwrsIX57k5daCaUPCnDbm66EueudckPRssEerMrntVZHWjTAntXBBLU3J7D+E1vOvotkl7gNv/x3t+5BgxaWz71Tx6bI9qrLu8nq+xZU8JM1eHHuekT3MuUr4yHdI/ymocsoGP+S/yV4bTrFRAMNmiqjxfq+z0yLRu8gIUFrXhqvz03JqYxsVXZv1iOM+QOCIAiCUFSI6BeEcgxjyBvsSTGG6Uys9x/JViwUqPz//A/roxhq0wmda6Tjf4UJh/nyRYzXZdNQ+AqIOoEjSnyvycpG5fjejlGAOlCSPiC8Bo6QoDWp6TgRVSe4gL+RYT3rcSTKM75fEARBEEqSIhH9fImW/cKrUOC53i/eEgSheDhx2Lyw7sZrHJ723ThyvAG6eMTYW+w+fAINrvDjja5SHTqQ7/J7MYxhKyEQbvn00H+VEY2W93RG9cNf5fPoM4SmIN7yTvcMQ9scI9r/swV71H9bjEExtFdbVN6zxRF6Y0YonJ78PUdwwhH3z1GIyjkHgow4qHx6ASnJyuBwxvcLgiAIQglTJDH9nFjat29fxMXFmZTAcBLsokWL8NNPP5kUQQgNiekPExPHruX5nvVYH8XwFHv1GArb3mjAj4oTae5YdB03bx847o6fd6fvwfq0aDR1xcW7Y/U9KGD51nVcXSd/nqHH9CsYh9/LlMARBz3nwOA85mijhalbiNd49JfmBNbPngPc5O4Xd3x/iHUXBEEQhCKkSES/IJQUIvrPEvSk2S2eglsQBEEQhAIjMf2CIJQeKPYZVsPVg0TwC4IgCEKRIZ5+oUwhnn5BEARBEITwEU+/IAiCIAiCIJRzRPQLgiAIgiAIQjlHRL8gCMKZQs9hSHItAyoIgiAIxYWIfkEo13TCvS++bt6IW7D17cOGQjbIm2qLAi6BOc3nOv8O7InBagt6roOQ8g4B5uPq+zDrkA8uYypv8xUEQRAKiIh+QSjHDE0ahaYZM80bcflW2rNsffj/JOt2z0w7YRJKHr5/wH4jcXrcKE/hr+uX7HgpmCAIgiAUD7J6j1CmkNV7woMvjepy2PHSKweeL5TagxSKT/1SrOpY5RCiPK/l1ruQzLfX0nPu64VWzpdwEe+XWnlBD/iwGtlAgwaorF/a1RZtq5g6eL20a88npmziLF/hfqEXRzRGud7463GNQpenXyQWxOTxboeGL9ryesEWCeElW/nKZf25HOm9X6Gzq752u2082+LqS9btJmCOLtPPy8MEQRAEwQ9F4unnG3mHDBmChx56yOc2atQofY4gCCXLu5+sB+JH4fXXp+Hey02i4d1k4/3n9gnQmyE5X76IVXsaoOWN5iQlLls22IMtFNAUnRSs5pqZGU0xSofxKAGq355r57VHXxmMykq7r5q9HicatEX11TOx/ng06lxOwdsbUKLdqlsK0MvUneX3ghLIpnyH954jGtVX+7gmXFT7x5u83R5681ZgJdhHxaX7aH8Y7DmCE1Wqo6GS7S/ea9U1X2/deA3a5igxb8rJL+qtPopm/UTwC4IgCCFSJKJ/0qRJGD16NHr27OlzGzp0KJ544gkR/oJQ0hgRe9fsdDQd4RnT7xFv7vCev7t1Dxq0MGL2xpZosGeL9kJ36tgUlau0xShzjcvjrc9ZZQnjMDiR9j/Lu318Pf7n8so3RPUqxsjQvIsteyqjuqoey4d9jQc0TIAGvUxbHKMERUmnmGicyPjK5dlfk5qOE1F1ij7GnoZBg96+51/o/rdCtoKOWgiCIAiCgyIR/XXr1sU555xj9jz56aefcPLkSbRr106EvyCcKbT4n4n1aItr6MW//F4MiwfW+/LO/+d/WB/VUklpJadbRGP9J26Z7fZ+m63UeJoZIuOol+2dL200qI7Kx49gt9n1iW2ozQWG0Yhxin9lIK1Xt6pyjYYmQRAEQRBCo9gn8ubl5WHOnDk4ceKECP9i5KKLLtKbIPiHXnTzUZONA1oYd8K9Vzh942vwVUY0Wt44FC2j0vGVEc/0bCP+Gm0MeKA905aRoEN9HKMG4bMbR447wouUcdKlwQkcUUJ3TVY2Ksd1tgSwNlrsyHuOBjRAlyJYbceJt7D2KF8xtFdbVM45EDCm3xOrb/asDnEytRb/Kdijw4HcfJV8F1LQu0RWSBIEQRDKD0UykfeNN95Aw4a+PU/Z2dl49tlnUa9ePYwcORKVK1fGunXr8Nhjj+lRAH+ce+65uOWWW6Dqp40EnvvZZ59h/vz5+O2338xZJQfDlPr374/zzz8f8+bNw5IlS3R669atcffdd+t2OUlJScG775acF5QhVhxRef75501KwUhKSkKDBvlF26FDh/Diiy/ihx9+MClnBpnIGw5eE0IV7omvSoK6JvKewPq0bLStscXtuWf8/Ii2gON84jGRVWFPmHXntQcpnB/QwpGXD1wTXFM7m8mpnNg6DJg7Hi/CczKte1Kuoz3H1yMloym6uCbJek7+tSfZwqu+xHuSr2+c+bkn8npMfg5xIq+v/spXX+Knzq57xnvimshr+gLB6yAIgiAIpMREP4X+9ddf7xL+a9euxYMPPmjOys+NN96ohdnChQvxxRdfoEePHrjmmmuwePFifPzxx+askuPRRx/FsWPH8NJLL3kYHRT9I0aM0PWyDYHyQGltl4h+QRAEQRCE8Cl20U/v84EDB1xCmV77mJgY7N27F3feeadO86ZmzZq47777sG3bNvzzn/80qcCECRN0mNBrr72mPe/XXXcdqlSpgiNHjmDBggVYvXq19lSzrDp16miv/Pbt2/HWW2/hT3/6kzZApk2bpvNnXlu3btXHbGrVqoU77rgDzZo103msX78e//rXv/S5tvfb2+MdSBxzAnP79u3x+++/Izo6WteTorVLly663llZWZg5cyZ2796NwYMHIzEx0VVntpGjHL169cKvv/6qRz5ocFCsdu/eHRUqVMD+/ftRvXp1zJo1S19L2A9jxozR9bz44otx3nnnaYOL+RHWtUOHDjh9+rS+vmrVqj49+CL6BUEQBEEQyg/FHtNfqVIlNGrUCE2aNNEbxTgFbCBq166tr6ModTJ16lQtXi+99FIt+L/55huMHz9ei/eBAwe6DA8K52eeeUaLYca500DYvHmzDjHiPuvB/L0F30033aQNAo5MvPLKK2jcuDEGDBiA5ORk7NmzB9999x0mTpwYVogLRzUWLVqEhx9+WIcoJSQk4J133sGTTz6JihUralFPwX7VVVdpwc6yWQcaDOSCCy7QoyK8nn3H85YuXYp7770XOTk5WtR7w/ZHREToEKr3339fGzF/+MMf0Lt3b7Rq1Qpz587VxwRBEARBEISzg2IX/QWBRkEgw4AeWnr8GeZDIU0RTG/6JZdcoo8fPHhQjyR8/fXX2LlzpzY66LVnnnFxcVr4coIxjQUb2yD46quvkJGRgbS0NGzYsEELZnrlA0HhTYPBXv5wypQprkm1HF34/PPPdZ1+/PFHvb9mzRrt3achQVHP9tDr/+mnn7rKZn1Ibm6u9m5z5IHGCtu9fPly3W4aLb/88os+zwnT2A6WyXLYNzVq1EDTpk11OcuWLdPHOJIiCIIgCIIglH9KpeinwLXDgXzBUBmGDTGEhZw6dUr/S++2N5mZmVrsUyDTM07DgOKZnv/jx4+bs4Bq1app7z+NARsKa6bxWCAYfkPvub1cYLijAWwPBbltNHD+AtsSGRlpzrBgWJSz3eESFRXl0WZBEARBEATh7KBUin56xCluuf6/E8bWjx07VnvL6V23PfAMkyFOwW4TGxvrMiDo7aenn4LaO7Tn6NGjukw7L8L5B0zjseLk8OHDuj7uNcYtw4Fefif00tMIYfhPQaDRE2zUQhAEQRAEQSh/lErRT082Q1y4rj9j4OmpZww/Y+wZrkOBzAmojLenMOfEVr4cbOPGjfp6TsitX78+LrvsMu3VT09P1+k8zlAXimn7XJt9+/Zp7zwn2dIwiI+PR5s2bfSk2uL2ju/YsUPXlzH3FPVcqnT48OHmqBu2nXMEunXrptvNsCDG74cK+4GjBZxDwD5q3ry5ORIaDJNi2BL7nmFPrCvTCmqECIIgCIIgCCVDqRT95L333tMTdTmhlRNyr732WqxcuVKvf88JtR999JFehYar8bRo0UJPWGX8OqEw5sRXLg9KIc+JtIRx/hT8mzZt8hk+xBAdGhwPPfSQXgFn165d+OCDD8xR/3jH9HOzJ+KGAtuUmpqq3wMwffp0bex8++235qgb9gfnB9DI4Uo+DAv6+eeffcb1+4LlMKyJdX3qqaf0CkAMTWIewaDA58pGQ4YM0SvfsH+4MhFHJcJpqyAIgiAIglDyFPuSnf6gQPe3ZGdh4JKdDGOhMeDNlVdeqd8VwGVAvcN7ygIU3h07dtR15zwGjgbQy/7cc8+FNBpB7z6X8eQEZYb5cElOhkRxVaSygizZKQiCIAiCED6l1tNf1HBpz9tuu02PEpRVoceJvQxZevrpp7VQZ6gNl/kMNfyI1zO0h9c+8cQT2tPPNxwLgiAIgiAI5Zty5+kXyjfi6RcEQRAEQQifIvH08yVanCAbKjzX+8VbgiAIgiAIgiAUD0Xi6edKMn379tWr3oQCX0DFybVcB18QwkE8/YIgCIIgCOFTJKJfEEoKEf2CIAiCIAjhc9ZM5BUEQRAEQRCEsxUR/YIgCIIgCIJQzhHRLwiCIAiCIAjlHBH9giAIgiAIglDOEdEvCIIgCIIgCOUcWb1HKFOU1tV7wnlPhSAIgiAIQkkjol8oU5RG0U/B7xT9YgAIgiAIglDaKJGXc+Xk5OCtt96Sl3EJhaa0iX5b8Ds3QRAEQRCE0kaRiP6nnnoKKh+cc845JsUTCqF169bhscceE+EvFIrSJPqdQr9ChQomVRAEQRAEofRRJBN569at61fwU+SfPHkS7dq1wxNPPKFHBQShPCHefUEQBEEQSjvFvnpPXl4e5syZgxMnTojwF8olIvoFQRAEQSjtlMiSnVu3bsWsWbNE+BeARo0aoWbNmmZPKG2I4BcEQRAEoSxQoV69eo+bzwWmf//+qF69utnzhEL/888/x2effYbjx4+jbdu2aNCgAZo3b45PP/3UnJWfc889F7feeitGjRqFG264Ab169UJERIQ2IM6E0OrZsycmTJig28pwpZ07d+r01q1b67kKNGa++OILj7rxmgcffBCNGzfG119/bVLzw/PuuusubNu2Dddeey1uv/12bN68Wbd3zJgxqFWrFn755Rc88MAD2L9/Pw4ePGiuLD7sug8cOFC3+frrr0fHjh3x448/lkj5/hgxYoT5VDhef/113a/Z2dkmpWDwfnOTmH5BEARBEEozxe7pr1q1KsaNG6c9/f369UNubq4WSRRcgRgyZAg6dOiABQsWaOH78ccfo2vXrujdu7c5o2ThROX09HT86U9/wpIlS0yqG85r+MMf/mD2LNq0aaONl4KSmZmJRx55BG+++aZJKVlosE2dOlUbJDRseO9uueUWGXkQBEEQBEEoUwD/D0cuhBr87fiNAAAAAElFTkSuQmCC)"
      ],
      "metadata": {
        "id": "9W9llUZkzVl5"
      }
    },
    {
      "cell_type": "markdown",
      "source": [
        "# Task 2: Save a model and load the model in a JSON format"
      ],
      "metadata": {
        "id": "ODBvB_W7zKuX"
      }
    },
    {
      "cell_type": "code",
      "source": [
        "# serialize model to JSON\n",
        "model_json = model.to_json()\n",
        "with open(\"/content/drive/MyDrive/Colab Notebooks/HOA8.1v2/Jmodel.json\", \"w\") as json_file:\n",
        "    json_file.write(model_json)"
      ],
      "metadata": {
        "id": "LboAdJrEzQll"
      },
      "execution_count": 11,
      "outputs": []
    },
    {
      "cell_type": "markdown",
      "source": [
        "OUTPUT:\n",
        "\n",
        "![image.png](data:image/png;base64,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)"
      ],
      "metadata": {
        "id": "zhHXT6od0ZVN"
      }
    },
    {
      "cell_type": "code",
      "source": [
        "# load json and create model\n",
        "json_file = open('/content/drive/MyDrive/Colab Notebooks/HOA8.1v2/Jmodel.json', 'r')\n",
        "loaded_model_json = json_file.read()\n",
        "json_file.close()\n",
        "loaded_model = model_from_json(loaded_model_json)\n",
        "\n",
        "# load weights into new model\n",
        "loaded_model.load_weights(\"/content/drive/MyDrive/Colab Notebooks/HOA8.1v2/model.h5\")\n",
        "print(\"Loaded model from disk\")\n",
        "\n",
        "# evaluate loaded model on test data\n",
        "loaded_model.compile(loss='binary_crossentropy', optimizer='rmsprop', metrics=['accuracy'])\n",
        "score = loaded_model.evaluate(X_test_scaled, y_test, verbose=0)\n",
        "print(\"%s: %.2f%%\" % (loaded_model.metrics_names[1], score[1]*100))"
      ],
      "metadata": {
        "colab": {
          "base_uri": "https://localhost:8080/",
          "height": 0
        },
        "id": "hFnOtK-yzQwT",
        "outputId": "a493e211-b9f2-40b2-887e-7689403e26a9"
      },
      "execution_count": 12,
      "outputs": [
        {
          "output_type": "stream",
          "name": "stdout",
          "text": [
            "Loaded model from disk\n",
            "accuracy: 85.19%\n"
          ]
        }
      ]
    },
    {
      "cell_type": "markdown",
      "source": [
        "Observation:\n",
        "\n",
        "After we save the model and loaded it, we can see the accuracy value is around 85.19%"
      ],
      "metadata": {
        "id": "Qn9QCWUJYpe-"
      }
    },
    {
      "cell_type": "markdown",
      "source": [
        "# Task 3: Save a model and load the model in a YAML format"
      ],
      "metadata": {
        "id": "pqw4svOr161D"
      }
    },
    {
      "cell_type": "code",
      "source": [
        "# serialize model to YAML\n",
        "model_yaml = model.to_json()\n",
        "with open(\"/content/drive/MyDrive/Colab Notebooks/HOA8.1v2/Ymodel.yaml\", \"w\") as yaml_file:\n",
        "    yaml_file.write(model_yaml)\n",
        "\n",
        "# serialize weights to HDF5\n",
        "model.save_weights(\"/content/drive/MyDrive/Colab Notebooks/HOA8.1v2/model_yaml.h5\")\n",
        "print(\"Saved model to Computer\")"
      ],
      "metadata": {
        "colab": {
          "base_uri": "https://localhost:8080/",
          "height": 0
        },
        "id": "4tZSsSk0zQ8P",
        "outputId": "490b02fc-335c-4fc1-832a-03565aafdb9e"
      },
      "execution_count": 13,
      "outputs": [
        {
          "output_type": "stream",
          "name": "stdout",
          "text": [
            "Saved model to Computer\n"
          ]
        }
      ]
    },
    {
      "cell_type": "markdown",
      "source": [
        "OUTPUT:\n",
        "\n",
        "![image.png](data:image/png;base64,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)"
      ],
      "metadata": {
        "id": "vOFW1XQA2qfm"
      }
    },
    {
      "cell_type": "code",
      "source": [
        "# load json and create model\n",
        "yaml_file = open('/content/drive/MyDrive/Colab Notebooks/HOA8.1v2/Ymodel.yaml', 'r')\n",
        "loaded_model_yaml = yaml_file.read()\n",
        "yaml_file.close()\n",
        "loaded_model = model_from_json(loaded_model_yaml)\n",
        "\n",
        "# load weights into new model\n",
        "loaded_model.load_weights('/content/drive/MyDrive/Colab Notebooks/HOA8.1v2/model_yaml.h5')\n",
        "print(\"Loaded model from Computer\")\n",
        "\n",
        "# evaluate loaded model on test data\n",
        "loaded_model.compile(loss='binary_crossentropy', optimizer='rmsprop', metrics=['accuracy'])\n",
        "score = loaded_model.evaluate(X_test_scaled, y_test, verbose=0)\n",
        "print(\"%s: %.2f%%\" % (loaded_model.metrics_names[1], score[1]*100))"
      ],
      "metadata": {
        "colab": {
          "base_uri": "https://localhost:8080/",
          "height": 0
        },
        "id": "Pn8c_vSjzRFv",
        "outputId": "b1ee6b13-5f13-4895-c87f-cd0172955e10"
      },
      "execution_count": 14,
      "outputs": [
        {
          "output_type": "stream",
          "name": "stdout",
          "text": [
            "Loaded model from Computer\n",
            "accuracy: 85.19%\n"
          ]
        }
      ]
    },
    {
      "cell_type": "markdown",
      "source": [
        "Observation:\n",
        "\n",
        "After we save it and loaded the model_Yaml.h5, we can see the accuracy that it holds is around 85%"
      ],
      "metadata": {
        "id": "R-6kp6CKY4rK"
      }
    },
    {
      "cell_type": "markdown",
      "source": [
        "# Task 4: Checkpoint Neural Network Model Improvements"
      ],
      "metadata": {
        "id": "ooQSvvpY4NNG"
      }
    },
    {
      "cell_type": "code",
      "source": [
        "# checkpoint\n",
        "filepath=\"weights-improvement-{epoch:02d}-{val_accuracy:.2f}.hdf5\"\n",
        "checkpoint = ModelCheckpoint(filepath, monitor='val_accuracy', verbose=1, save_best_only=True, mode='max')\n",
        "callbacks_list = [checkpoint]\n",
        "\n",
        "# Fit the model\n",
        "model.fit(X_train_scaled, y_train, validation_split=0.33, epochs=50, batch_size=25, callbacks=callbacks_list, verbose=0)"
      ],
      "metadata": {
        "colab": {
          "base_uri": "https://localhost:8080/",
          "height": 0
        },
        "id": "BLz22UdSzRWn",
        "outputId": "a7a71e38-d269-4324-efde-7ce412b5ded3"
      },
      "execution_count": 15,
      "outputs": [
        {
          "output_type": "stream",
          "name": "stdout",
          "text": [
            "\n",
            "Epoch 1: val_accuracy improved from -inf to 0.92958, saving model to weights-improvement-01-0.93.hdf5\n",
            "\n",
            "Epoch 2: val_accuracy did not improve from 0.92958\n",
            "\n",
            "Epoch 3: val_accuracy did not improve from 0.92958\n"
          ]
        },
        {
          "output_type": "stream",
          "name": "stderr",
          "text": [
            "/usr/local/lib/python3.10/dist-packages/keras/src/engine/training.py:3103: UserWarning: You are saving your model as an HDF5 file via `model.save()`. This file format is considered legacy. We recommend using instead the native Keras format, e.g. `model.save('my_model.keras')`.\n",
            "  saving_api.save_model(\n"
          ]
        },
        {
          "output_type": "stream",
          "name": "stdout",
          "text": [
            "\n",
            "Epoch 4: val_accuracy did not improve from 0.92958\n",
            "\n",
            "Epoch 5: val_accuracy did not improve from 0.92958\n",
            "\n",
            "Epoch 6: val_accuracy did not improve from 0.92958\n",
            "\n",
            "Epoch 7: val_accuracy did not improve from 0.92958\n",
            "\n",
            "Epoch 8: val_accuracy did not improve from 0.92958\n",
            "\n",
            "Epoch 9: val_accuracy did not improve from 0.92958\n",
            "\n",
            "Epoch 10: val_accuracy did not improve from 0.92958\n",
            "\n",
            "Epoch 11: val_accuracy did not improve from 0.92958\n",
            "\n",
            "Epoch 12: val_accuracy did not improve from 0.92958\n",
            "\n",
            "Epoch 13: val_accuracy did not improve from 0.92958\n",
            "\n",
            "Epoch 14: val_accuracy did not improve from 0.92958\n",
            "\n",
            "Epoch 15: val_accuracy did not improve from 0.92958\n",
            "\n",
            "Epoch 16: val_accuracy did not improve from 0.92958\n",
            "\n",
            "Epoch 17: val_accuracy did not improve from 0.92958\n",
            "\n",
            "Epoch 18: val_accuracy did not improve from 0.92958\n",
            "\n",
            "Epoch 19: val_accuracy did not improve from 0.92958\n",
            "\n",
            "Epoch 20: val_accuracy did not improve from 0.92958\n",
            "\n",
            "Epoch 21: val_accuracy did not improve from 0.92958\n",
            "\n",
            "Epoch 22: val_accuracy did not improve from 0.92958\n",
            "\n",
            "Epoch 23: val_accuracy did not improve from 0.92958\n",
            "\n",
            "Epoch 24: val_accuracy did not improve from 0.92958\n",
            "\n",
            "Epoch 25: val_accuracy did not improve from 0.92958\n",
            "\n",
            "Epoch 26: val_accuracy did not improve from 0.92958\n",
            "\n",
            "Epoch 27: val_accuracy did not improve from 0.92958\n",
            "\n",
            "Epoch 28: val_accuracy did not improve from 0.92958\n",
            "\n",
            "Epoch 29: val_accuracy did not improve from 0.92958\n",
            "\n",
            "Epoch 30: val_accuracy did not improve from 0.92958\n",
            "\n",
            "Epoch 31: val_accuracy did not improve from 0.92958\n",
            "\n",
            "Epoch 32: val_accuracy did not improve from 0.92958\n",
            "\n",
            "Epoch 33: val_accuracy did not improve from 0.92958\n",
            "\n",
            "Epoch 34: val_accuracy did not improve from 0.92958\n",
            "\n",
            "Epoch 35: val_accuracy did not improve from 0.92958\n",
            "\n",
            "Epoch 36: val_accuracy did not improve from 0.92958\n",
            "\n",
            "Epoch 37: val_accuracy did not improve from 0.92958\n",
            "\n",
            "Epoch 38: val_accuracy did not improve from 0.92958\n",
            "\n",
            "Epoch 39: val_accuracy did not improve from 0.92958\n",
            "\n",
            "Epoch 40: val_accuracy did not improve from 0.92958\n",
            "\n",
            "Epoch 41: val_accuracy did not improve from 0.92958\n",
            "\n",
            "Epoch 42: val_accuracy did not improve from 0.92958\n",
            "\n",
            "Epoch 43: val_accuracy did not improve from 0.92958\n",
            "\n",
            "Epoch 44: val_accuracy did not improve from 0.92958\n",
            "\n",
            "Epoch 45: val_accuracy did not improve from 0.92958\n",
            "\n",
            "Epoch 46: val_accuracy did not improve from 0.92958\n",
            "\n",
            "Epoch 47: val_accuracy did not improve from 0.92958\n",
            "\n",
            "Epoch 48: val_accuracy did not improve from 0.92958\n",
            "\n",
            "Epoch 49: val_accuracy did not improve from 0.92958\n",
            "\n",
            "Epoch 50: val_accuracy did not improve from 0.92958\n"
          ]
        },
        {
          "output_type": "execute_result",
          "data": {
            "text/plain": [
              "<keras.src.callbacks.History at 0x7edfd38ae620>"
            ]
          },
          "metadata": {},
          "execution_count": 15
        }
      ]
    },
    {
      "cell_type": "markdown",
      "source": [
        "OUTPUT:\n",
        "\n",
        "![image.png](data:image/png;base64,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)"
      ],
      "metadata": {
        "id": "RMGrapoC5JYQ"
      }
    },
    {
      "cell_type": "markdown",
      "source": [
        "Observation:\n",
        "\n",
        "As we can observe the file was created after we run the code, and the last val_accuracy that it got was 92%"
      ],
      "metadata": {
        "id": "b669scCdZKgP"
      }
    },
    {
      "cell_type": "markdown",
      "source": [
        "# Task 5: Checkpoint Best Neural Network Model only"
      ],
      "metadata": {
        "id": "qC-ddC3_5MbD"
      }
    },
    {
      "cell_type": "code",
      "source": [
        "# checkpoint\n",
        "filepath=\"weights.best.hdf5\"\n",
        "checkpoint = ModelCheckpoint(filepath, monitor='val_accuracy', verbose=1, save_best_only=True, mode='max')\n",
        "callbacks_list = [checkpoint]\n",
        "\n",
        "# Fit the model\n",
        "model.fit(X_train_scaled, y_train, validation_split=0.33, epochs=50, batch_size=25, callbacks=callbacks_list, verbose=0)"
      ],
      "metadata": {
        "colab": {
          "base_uri": "https://localhost:8080/",
          "height": 0
        },
        "id": "P4rDw-WT4WKl",
        "outputId": "9888d8bd-4b8c-42fd-d1d4-4aa23bfc35e0"
      },
      "execution_count": 16,
      "outputs": [
        {
          "output_type": "stream",
          "name": "stdout",
          "text": [
            "\n",
            "Epoch 1: val_accuracy improved from -inf to 0.87324, saving model to weights.best.hdf5\n",
            "\n",
            "Epoch 2: val_accuracy did not improve from 0.87324\n",
            "\n",
            "Epoch 3: val_accuracy did not improve from 0.87324\n"
          ]
        },
        {
          "output_type": "stream",
          "name": "stderr",
          "text": [
            "/usr/local/lib/python3.10/dist-packages/keras/src/engine/training.py:3103: UserWarning: You are saving your model as an HDF5 file via `model.save()`. This file format is considered legacy. We recommend using instead the native Keras format, e.g. `model.save('my_model.keras')`.\n",
            "  saving_api.save_model(\n"
          ]
        },
        {
          "output_type": "stream",
          "name": "stdout",
          "text": [
            "\n",
            "Epoch 4: val_accuracy did not improve from 0.87324\n",
            "\n",
            "Epoch 5: val_accuracy did not improve from 0.87324\n",
            "\n",
            "Epoch 6: val_accuracy did not improve from 0.87324\n",
            "\n",
            "Epoch 7: val_accuracy did not improve from 0.87324\n",
            "\n",
            "Epoch 8: val_accuracy did not improve from 0.87324\n",
            "\n",
            "Epoch 9: val_accuracy did not improve from 0.87324\n",
            "\n",
            "Epoch 10: val_accuracy did not improve from 0.87324\n",
            "\n",
            "Epoch 11: val_accuracy did not improve from 0.87324\n",
            "\n",
            "Epoch 12: val_accuracy did not improve from 0.87324\n",
            "\n",
            "Epoch 13: val_accuracy did not improve from 0.87324\n",
            "\n",
            "Epoch 14: val_accuracy did not improve from 0.87324\n",
            "\n",
            "Epoch 15: val_accuracy did not improve from 0.87324\n",
            "\n",
            "Epoch 16: val_accuracy did not improve from 0.87324\n",
            "\n",
            "Epoch 17: val_accuracy did not improve from 0.87324\n",
            "\n",
            "Epoch 18: val_accuracy did not improve from 0.87324\n",
            "\n",
            "Epoch 19: val_accuracy did not improve from 0.87324\n",
            "\n",
            "Epoch 20: val_accuracy did not improve from 0.87324\n",
            "\n",
            "Epoch 21: val_accuracy did not improve from 0.87324\n",
            "\n",
            "Epoch 22: val_accuracy did not improve from 0.87324\n",
            "\n",
            "Epoch 23: val_accuracy did not improve from 0.87324\n",
            "\n",
            "Epoch 24: val_accuracy did not improve from 0.87324\n",
            "\n",
            "Epoch 25: val_accuracy did not improve from 0.87324\n",
            "\n",
            "Epoch 26: val_accuracy did not improve from 0.87324\n",
            "\n",
            "Epoch 27: val_accuracy did not improve from 0.87324\n",
            "\n",
            "Epoch 28: val_accuracy did not improve from 0.87324\n",
            "\n",
            "Epoch 29: val_accuracy did not improve from 0.87324\n",
            "\n",
            "Epoch 30: val_accuracy did not improve from 0.87324\n",
            "\n",
            "Epoch 31: val_accuracy did not improve from 0.87324\n",
            "\n",
            "Epoch 32: val_accuracy did not improve from 0.87324\n",
            "\n",
            "Epoch 33: val_accuracy did not improve from 0.87324\n",
            "\n",
            "Epoch 34: val_accuracy did not improve from 0.87324\n",
            "\n",
            "Epoch 35: val_accuracy did not improve from 0.87324\n",
            "\n",
            "Epoch 36: val_accuracy did not improve from 0.87324\n",
            "\n",
            "Epoch 37: val_accuracy did not improve from 0.87324\n",
            "\n",
            "Epoch 38: val_accuracy did not improve from 0.87324\n",
            "\n",
            "Epoch 39: val_accuracy did not improve from 0.87324\n",
            "\n",
            "Epoch 40: val_accuracy did not improve from 0.87324\n",
            "\n",
            "Epoch 41: val_accuracy did not improve from 0.87324\n",
            "\n",
            "Epoch 42: val_accuracy did not improve from 0.87324\n",
            "\n",
            "Epoch 43: val_accuracy did not improve from 0.87324\n",
            "\n",
            "Epoch 44: val_accuracy did not improve from 0.87324\n",
            "\n",
            "Epoch 45: val_accuracy did not improve from 0.87324\n",
            "\n",
            "Epoch 46: val_accuracy did not improve from 0.87324\n",
            "\n",
            "Epoch 47: val_accuracy did not improve from 0.87324\n",
            "\n",
            "Epoch 48: val_accuracy did not improve from 0.87324\n",
            "\n",
            "Epoch 49: val_accuracy did not improve from 0.87324\n",
            "\n",
            "Epoch 50: val_accuracy did not improve from 0.87324\n"
          ]
        },
        {
          "output_type": "execute_result",
          "data": {
            "text/plain": [
              "<keras.src.callbacks.History at 0x7edfd373b790>"
            ]
          },
          "metadata": {},
          "execution_count": 16
        }
      ]
    },
    {
      "cell_type": "markdown",
      "source": [
        "OUTPUT:\n",
        "\n",
        "![image.png](data:image/png;base64,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)"
      ],
      "metadata": {
        "id": "a_zi6L7o6FrV"
      }
    },
    {
      "cell_type": "markdown",
      "source": [
        "# Task 6: Load a saved Neural Network model"
      ],
      "metadata": {
        "id": "-ATnOJBg58Bz"
      }
    },
    {
      "cell_type": "code",
      "source": [
        "# Loading the saved model\n",
        "model = Sequential()\n",
        "model.add(Dense(16, input_dim=22, activation='relu'))\n",
        "model.add(Dense(8, activation='relu'))\n",
        "model.add(Dense(4, activation='relu'))\n",
        "model.add(Dense(1, activation='sigmoid'))\n",
        "\n",
        "# Loading the saved weights (saved directly in google collab)\n",
        "model.load_weights('/content/weights.best.hdf5')\n",
        "\n",
        "model.compile(\n",
        "    loss='binary_crossentropy',\n",
        "    optimizer='Adam',\n",
        "    metrics=['accuracy']\n",
        ")\n",
        "\n",
        "# Getting the accuracy\n",
        "scores = model.evaluate(X_test_scaled, y_test, verbose=0)\n",
        "print(\"%s: %.2f%%\" % (model.metrics_names[1], scores[1]*100))"
      ],
      "metadata": {
        "colab": {
          "base_uri": "https://localhost:8080/",
          "height": 0
        },
        "id": "_YGoJSlx4WX9",
        "outputId": "5efb4fe2-4539-4f2c-bdd6-bd4b290be782"
      },
      "execution_count": 17,
      "outputs": [
        {
          "output_type": "stream",
          "name": "stdout",
          "text": [
            "accuracy: 85.19%\n"
          ]
        }
      ]
    },
    {
      "cell_type": "markdown",
      "source": [
        "# Task 7: Visualize Model Training History in Keras"
      ],
      "metadata": {
        "id": "LC4ysft07I-Q"
      }
    },
    {
      "cell_type": "code",
      "source": [
        "# Model\n",
        "model = Sequential()\n",
        "model.add(Dense(16, input_dim=22, activation='relu'))\n",
        "model.add(Dense(8, activation='relu'))\n",
        "model.add(Dense(4, activation='relu'))\n",
        "model.add(Dense(1, activation='sigmoid'))\n",
        "\n",
        "model.compile(\n",
        "    loss='binary_crossentropy',\n",
        "    optimizer='Adam',\n",
        "    metrics=['accuracy']\n",
        ")\n",
        "\n",
        "# Fit the model\n",
        "history = model.fit(X_train_scaled, y_train, validation_split=0.33, epochs=25, batch_size=40, verbose=0)\n",
        "\n",
        "# list all data in history\n",
        "print(history.history.keys())\n",
        "# summarize history for accuracy\n",
        "plt.plot(history.history['accuracy'])\n",
        "plt.plot(history.history['val_accuracy'])\n",
        "plt.title('model accuracy')\n",
        "plt.ylabel('accuracy')\n",
        "plt.xlabel('epoch')\n",
        "plt.legend(['train', 'test'], loc='upper left')\n",
        "plt.show()\n",
        "\n",
        "# summarize history for loss\n",
        "plt.plot(history.history['loss'])\n",
        "plt.plot(history.history['val_loss'])\n",
        "plt.title('model loss')\n",
        "plt.ylabel('loss')\n",
        "plt.xlabel('epoch')\n",
        "plt.legend(['train', 'test'], loc='upper left')\n",
        "plt.show()"
      ],
      "metadata": {
        "colab": {
          "base_uri": "https://localhost:8080/",
          "height": 944
        },
        "id": "LJFQdAZb4Wo3",
        "outputId": "052bf337-a7bf-4c8b-d544-1c002b8e688c"
      },
      "execution_count": 19,
      "outputs": [
        {
          "output_type": "stream",
          "name": "stdout",
          "text": [
            "dict_keys(['loss', 'accuracy', 'val_loss', 'val_accuracy'])\n"
          ]
        },
        {
          "output_type": "display_data",
          "data": {
            "text/plain": [
              "<Figure size 640x480 with 1 Axes>"
            ],
            "image/png": "[encoded data removed]"
          },
          "metadata": {}
        },
        {
          "output_type": "display_data",
          "data": {
            "text/plain": [
              "<Figure size 640x480 with 1 Axes>"
            ],
            "image/png": "[encoded data removed]"
          },
          "metadata": {}
        }
      ]
    },
    {
      "cell_type": "markdown",
      "source": [
        "# Task 8: Show the application of Dropout Regularization"
      ],
      "metadata": {
        "id": "3GPcRiC5_j3p"
      }
    },
    {
      "cell_type": "code",
      "source": [
        "!pip install scikeras"
      ],
      "metadata": {
        "colab": {
          "base_uri": "https://localhost:8080/",
          "height": 755
        },
        "id": "JAb9sIPT7-mp",
        "outputId": "2fe2c86e-9292-435b-d013-71ff3669c3cb"
      },
      "execution_count": 20,
      "outputs": [
        {
          "output_type": "stream",
          "name": "stdout",
          "text": [
            "Collecting scikeras\n",
            "  Downloading scikeras-0.13.0-py3-none-any.whl (26 kB)\n",
            "Collecting keras>=3.2.0 (from scikeras)\n",
            "  Downloading keras-3.2.1-py3-none-any.whl (1.1 MB)\n",
            "\u001b[2K     \u001b[90m━━━━━━━━━━━━━━━━━━━━━━━━━━━━━━━━━━━━━━━━\u001b[0m \u001b[32m1.1/1.1 MB\u001b[0m \u001b[31m6.6 MB/s\u001b[0m eta \u001b[36m0:00:00\u001b[0m\n",
            "\u001b[?25hCollecting scikit-learn>=1.4.2 (from scikeras)\n",
            "  Downloading scikit_learn-1.4.2-cp310-cp310-manylinux_2_17_x86_64.manylinux2014_x86_64.whl (12.1 MB)\n",
            "\u001b[2K     \u001b[90m━━━━━━━━━━━━━━━━━━━━━━━━━━━━━━━━━━━━━━━━\u001b[0m \u001b[32m12.1/12.1 MB\u001b[0m \u001b[31m44.8 MB/s\u001b[0m eta \u001b[36m0:00:00\u001b[0m\n",
            "\u001b[?25hRequirement already satisfied: absl-py in /usr/local/lib/python3.10/dist-packages (from keras>=3.2.0->scikeras) (1.4.0)\n",
            "Requirement already satisfied: numpy in /usr/local/lib/python3.10/dist-packages (from keras>=3.2.0->scikeras) (1.25.2)\n",
            "Requirement already satisfied: rich in /usr/local/lib/python3.10/dist-packages (from keras>=3.2.0->scikeras) (13.7.1)\n",
            "Collecting namex (from keras>=3.2.0->scikeras)\n",
            "  Downloading namex-0.0.8-py3-none-any.whl (5.8 kB)\n",
            "Requirement already satisfied: h5py in /usr/local/lib/python3.10/dist-packages (from keras>=3.2.0->scikeras) (3.9.0)\n",
            "Collecting optree (from keras>=3.2.0->scikeras)\n",
            "  Downloading optree-0.11.0-cp310-cp310-manylinux_2_17_x86_64.manylinux2014_x86_64.whl (311 kB)\n",
            "\u001b[2K     \u001b[90m━━━━━━━━━━━━━━━━━━━━━━━━━━━━━━━━━━━━━━━━\u001b[0m \u001b[32m311.2/311.2 kB\u001b[0m \u001b[31m24.2 MB/s\u001b[0m eta \u001b[36m0:00:00\u001b[0m\n",
            "\u001b[?25hRequirement already satisfied: ml-dtypes in /usr/local/lib/python3.10/dist-packages (from keras>=3.2.0->scikeras) (0.2.0)\n",
            "Requirement already satisfied: scipy>=1.6.0 in /usr/local/lib/python3.10/dist-packages (from scikit-learn>=1.4.2->scikeras) (1.11.4)\n",
            "Requirement already satisfied: joblib>=1.2.0 in /usr/local/lib/python3.10/dist-packages (from scikit-learn>=1.4.2->scikeras) (1.3.2)\n",
            "Requirement already satisfied: threadpoolctl>=2.0.0 in /usr/local/lib/python3.10/dist-packages (from scikit-learn>=1.4.2->scikeras) (3.4.0)\n",
            "Requirement already satisfied: typing-extensions>=4.0.0 in /usr/local/lib/python3.10/dist-packages (from optree->keras>=3.2.0->scikeras) (4.10.0)\n",
            "Requirement already satisfied: markdown-it-py>=2.2.0 in /usr/local/lib/python3.10/dist-packages (from rich->keras>=3.2.0->scikeras) (3.0.0)\n",
            "Requirement already satisfied: pygments<3.0.0,>=2.13.0 in /usr/local/lib/python3.10/dist-packages (from rich->keras>=3.2.0->scikeras) (2.16.1)\n",
            "Requirement already satisfied: mdurl~=0.1 in /usr/local/lib/python3.10/dist-packages (from markdown-it-py>=2.2.0->rich->keras>=3.2.0->scikeras) (0.1.2)\n",
            "Installing collected packages: namex, optree, scikit-learn, keras, scikeras\n",
            "  Attempting uninstall: scikit-learn\n",
            "    Found existing installation: scikit-learn 1.2.2\n",
            "    Uninstalling scikit-learn-1.2.2:\n",
            "      Successfully uninstalled scikit-learn-1.2.2\n",
            "  Attempting uninstall: keras\n",
            "    Found existing installation: keras 2.15.0\n",
            "    Uninstalling keras-2.15.0:\n",
            "      Successfully uninstalled keras-2.15.0\n",
            "\u001b[31mERROR: pip's dependency resolver does not currently take into account all the packages that are installed. This behaviour is the source of the following dependency conflicts.\n",
            "tensorflow 2.15.0 requires keras<2.16,>=2.15.0, but you have keras 3.2.1 which is incompatible.\u001b[0m\u001b[31m\n",
            "\u001b[0mSuccessfully installed keras-3.2.1 namex-0.0.8 optree-0.11.0 scikeras-0.13.0 scikit-learn-1.4.2\n"
          ]
        },
        {
          "output_type": "display_data",
          "data": {
            "application/vnd.colab-display-data+json": {
              "pip_warning": {
                "packages": [
                  "keras",
                  "sklearn"
                ]
              },
              "id": "0456e0ba5b3a49e6bbfdacd621880875"
            }
          },
          "metadata": {}
        }
      ]
    },
    {
      "cell_type": "markdown",
      "source": [
        "# Task 9: Show the application of Dropout on the visible layer"
      ],
      "metadata": {
        "id": "4bXjFqPFAlIs"
      }
    },
    {
      "cell_type": "code",
      "source": [
        "#model for task 9\n",
        "\n",
        "model = Sequential()\n",
        "model.add(Dropout(0.2, input_shape=(22,)))      #Dropout is set to 0.2\n",
        "model.add(Dense(16, activation='relu'))\n",
        "model.add(Dense(8, activation='relu'))\n",
        "model.add(Dense(4, activation='relu'))\n",
        "model.add(Dense(1, activation='sigmoid'))\n",
        "\n",
        "model.compile(\n",
        "    loss='binary_crossentropy',\n",
        "    optimizer='Adam',\n",
        "    metrics=['accuracy']\n",
        ")\n",
        "\n",
        "history = model.fit(X_train_scaled, y_train, validation_split=0.33, epochs=25, batch_size=40, verbose=0)"
      ],
      "metadata": {
        "id": "07HbGF9m_loz"
      },
      "execution_count": 83,
      "outputs": []
    },
    {
      "cell_type": "code",
      "source": [
        "#plotting\n",
        "\n",
        "plt.plot(history.history['accuracy'][::2])\n",
        "plt.plot(history.history['val_accuracy'][::2])\n",
        "plt.title('Model accuracy')\n",
        "plt.ylabel('Accuracy')\n",
        "plt.xlabel('Epoch')\n",
        "plt.legend(['Train', 'Validation'], loc='upper left')\n",
        "plt.show()\n",
        "\n",
        "plt.plot(history.history['loss'][::2])\n",
        "plt.plot(history.history['val_loss'][::2])\n",
        "plt.title('Model loss')\n",
        "plt.ylabel('Loss')\n",
        "plt.xlabel('Epoch')\n",
        "plt.legend(['Train', 'Validation'], loc='upper left')\n",
        "plt.show()\n",
        "\n",
        "# Evaluate model\n",
        "scores = model.evaluate(X_test_scaled, y_test, verbose=0)\n",
        "accuracy = scores[1] * 100\n",
        "loss = scores[0] * 100\n",
        "\n",
        "# Print results\n",
        "print(f\"Accuracy: {accuracy:.2f}%\")\n",
        "print(f\"Loss: {loss:.2f}%\")"
      ],
      "metadata": {
        "colab": {
          "base_uri": "https://localhost:8080/",
          "height": 962
        },
        "id": "kJFbBZU9ExiY",
        "outputId": "75328824-d58e-4a9e-fb24-efb1d3e69c5a"
      },
      "execution_count": 86,
      "outputs": [
        {
          "output_type": "display_data",
          "data": {
            "text/plain": [
              "<Figure size 640x480 with 1 Axes>"
            ],
            "image/png": "[encoded data removed]"
          },
          "metadata": {}
        },
        {
          "output_type": "display_data",
          "data": {
            "text/plain": [
              "<Figure size 640x480 with 1 Axes>"
            ],
            "image/png": "[encoded data removed]"
          },
          "metadata": {}
        },
        {
          "output_type": "stream",
          "name": "stdout",
          "text": [
            "Accuracy: 87.04%\n",
            "Loss: 43.75%\n"
          ]
        }
      ]
    },
    {
      "cell_type": "markdown",
      "source": [
        "# Task 10: Show the application of Dropout on the hidden layer"
      ],
      "metadata": {
        "id": "-F9PNdNGIZNw"
      }
    },
    {
      "cell_type": "code",
      "source": [
        "model = Sequential()\n",
        "model.add(Dropout(0.2, input_shape=(22,)))      #Dropout is set to 0.2\n",
        "model.add(Dense(16, activation='relu'))\n",
        "model.add(Dropout(0.2))                         #I added 3 dropout layers that are set to 0.2\n",
        "model.add(Dense(8, activation='relu'))\n",
        "model.add(Dropout(0.2))\n",
        "model.add(Dense(4, activation='relu'))\n",
        "model.add(Dropout(0.2))\n",
        "model.add(Dense(1, activation='sigmoid'))\n",
        "\n",
        "model.compile(\n",
        "    loss='binary_crossentropy',\n",
        "    optimizer='Adam',\n",
        "    metrics=['accuracy']\n",
        ")\n",
        "\n",
        "history = model.fit(X_train_scaled, y_train, validation_split=0.33, epochs=25, batch_size=40, verbose=0)"
      ],
      "metadata": {
        "id": "kzHquCK__l95"
      },
      "execution_count": 87,
      "outputs": []
    },
    {
      "cell_type": "code",
      "source": [
        "#plotting\n",
        "\n",
        "plt.plot(history.history['accuracy'][::2])\n",
        "plt.plot(history.history['val_accuracy'][::2])\n",
        "plt.title('Model accuracy')\n",
        "plt.ylabel('Accuracy')\n",
        "plt.xlabel('Epoch')\n",
        "plt.legend(['Train', 'Validation'], loc='upper left')\n",
        "plt.show()\n",
        "\n",
        "plt.plot(history.history['loss'][::2])\n",
        "plt.plot(history.history['val_loss'][::2])\n",
        "plt.title('Model loss')\n",
        "plt.ylabel('Loss')\n",
        "plt.xlabel('Epoch')\n",
        "plt.legend(['Train', 'Validation'], loc='upper left')\n",
        "plt.show()\n",
        "\n",
        "# Evaluate model\n",
        "scores = model.evaluate(X_test_scaled, y_test, verbose=0)\n",
        "accuracy = scores[1] * 100\n",
        "loss = scores[0] * 100\n",
        "\n",
        "# Print results\n",
        "print(f\"Accuracy: {accuracy:.2f}%\")\n",
        "print(f\"Loss: {loss:.2f}%\")"
      ],
      "metadata": {
        "colab": {
          "base_uri": "https://localhost:8080/",
          "height": 962
        },
        "id": "PganF-xw_mK1",
        "outputId": "6afb9a7e-20cf-4557-a49e-2d23411cc566"
      },
      "execution_count": 88,
      "outputs": [
        {
          "output_type": "display_data",
          "data": {
            "text/plain": [
              "<Figure size 640x480 with 1 Axes>"
            ],
            "image/png": "[encoded data removed]"
          },
          "metadata": {}
        },
        {
          "output_type": "display_data",
          "data": {
            "text/plain": [
              "<Figure size 640x480 with 1 Axes>"
            ],
            "image/png": "[encoded data removed]"
          },
          "metadata": {}
        },
        {
          "output_type": "stream",
          "name": "stdout",
          "text": [
            "Accuracy: 83.33%\n",
            "Loss: 49.21%\n"
          ]
        }
      ]
    },
    {
      "cell_type": "markdown",
      "source": [
        "# Task 11: Show the application of a time-based learning rate schedule"
      ],
      "metadata": {
        "id": "KsPkY3uTJWuE"
      }
    },
    {
      "cell_type": "code",
      "source": [
        "# Previous model from task 10\n",
        "model = Sequential()\n",
        "model.add(Dropout(0.2, input_shape=(22,)))      #Dropout is set to 0.2\n",
        "model.add(Dense(16, activation='relu'))\n",
        "model.add(Dropout(0.2))                         #I added 3 dropout layers that are set to 0.2\n",
        "model.add(Dense(8, activation='relu'))\n",
        "model.add(Dropout(0.2))\n",
        "model.add(Dense(4, activation='relu'))\n",
        "model.add(Dropout(0.2))\n",
        "model.add(Dense(1, activation='sigmoid'))\n",
        "\n",
        "epochs = 25\n",
        "learning_rate = 0.01\n",
        "adam = Adam(learning_rate=learning_rate)\n",
        "model.compile(loss='binary_crossentropy', optimizer=adam, metrics=['accuracy'])\n",
        "\n",
        "history = model.fit(X_train_scaled, y_train, validation_split=0.33, epochs=25, batch_size=40, verbose=1)\n",
        "\n",
        "# Evaluate model\n",
        "scores = model.evaluate(X_test_scaled, y_test, verbose=0)\n",
        "accuracy = scores[1] * 100\n",
        "loss = scores[0] * 100\n",
        "\n",
        "# Print results\n",
        "print(f\"Accuracy: {accuracy:.2f}%\")\n",
        "print(f\"Loss: {loss:.2f}%\")"
      ],
      "metadata": {
        "colab": {
          "base_uri": "https://localhost:8080/",
          "height": 0
        },
        "id": "Sk2u3AQz_mbX",
        "outputId": "89eca86d-202f-44b7-f2f8-6b822f9cd919"
      },
      "execution_count": 95,
      "outputs": [
        {
          "output_type": "stream",
          "name": "stdout",
          "text": [
            "Epoch 1/25\n",
            "4/4 [==============================] - 4s 199ms/step - loss: 1.5369 - accuracy: 0.2394 - val_loss: 0.9530 - val_accuracy: 0.2958\n",
            "Epoch 2/25\n",
            "4/4 [==============================] - 0s 51ms/step - loss: 0.8717 - accuracy: 0.3873 - val_loss: 0.7472 - val_accuracy: 0.4648\n",
            "Epoch 3/25\n",
            "4/4 [==============================] - 0s 48ms/step - loss: 0.7229 - accuracy: 0.6127 - val_loss: 0.6835 - val_accuracy: 0.7042\n",
            "Epoch 4/25\n",
            "4/4 [==============================] - 0s 44ms/step - loss: 0.6808 - accuracy: 0.7113 - val_loss: 0.6567 - val_accuracy: 0.7746\n",
            "Epoch 5/25\n",
            "4/4 [==============================] - 0s 46ms/step - loss: 0.6585 - accuracy: 0.7324 - val_loss: 0.6389 - val_accuracy: 0.7887\n",
            "Epoch 6/25\n",
            "4/4 [==============================] - 0s 55ms/step - loss: 0.6586 - accuracy: 0.7535 - val_loss: 0.6244 - val_accuracy: 0.8028\n",
            "Epoch 7/25\n",
            "4/4 [==============================] - 0s 52ms/step - loss: 0.6330 - accuracy: 0.7676 - val_loss: 0.6107 - val_accuracy: 0.8028\n",
            "Epoch 8/25\n",
            "4/4 [==============================] - 0s 56ms/step - loss: 0.6205 - accuracy: 0.7535 - val_loss: 0.5939 - val_accuracy: 0.8028\n",
            "Epoch 9/25\n",
            "4/4 [==============================] - 0s 33ms/step - loss: 0.5943 - accuracy: 0.7746 - val_loss: 0.5734 - val_accuracy: 0.8028\n",
            "Epoch 10/25\n",
            "4/4 [==============================] - 0s 59ms/step - loss: 0.5786 - accuracy: 0.7746 - val_loss: 0.5489 - val_accuracy: 0.8028\n",
            "Epoch 11/25\n",
            "4/4 [==============================] - 0s 53ms/step - loss: 0.5652 - accuracy: 0.7746 - val_loss: 0.5205 - val_accuracy: 0.8028\n",
            "Epoch 12/25\n",
            "4/4 [==============================] - 0s 45ms/step - loss: 0.5215 - accuracy: 0.7746 - val_loss: 0.4898 - val_accuracy: 0.8028\n",
            "Epoch 13/25\n",
            "4/4 [==============================] - 0s 57ms/step - loss: 0.5205 - accuracy: 0.7746 - val_loss: 0.4635 - val_accuracy: 0.8028\n",
            "Epoch 14/25\n",
            "4/4 [==============================] - 0s 50ms/step - loss: 0.5183 - accuracy: 0.7746 - val_loss: 0.4440 - val_accuracy: 0.8028\n",
            "Epoch 15/25\n",
            "4/4 [==============================] - 0s 45ms/step - loss: 0.4875 - accuracy: 0.7746 - val_loss: 0.4320 - val_accuracy: 0.8028\n",
            "Epoch 16/25\n",
            "4/4 [==============================] - 0s 63ms/step - loss: 0.4940 - accuracy: 0.7746 - val_loss: 0.4229 - val_accuracy: 0.8028\n",
            "Epoch 17/25\n",
            "4/4 [==============================] - 0s 32ms/step - loss: 0.4721 - accuracy: 0.7746 - val_loss: 0.4178 - val_accuracy: 0.8028\n",
            "Epoch 18/25\n",
            "4/4 [==============================] - 0s 22ms/step - loss: 0.5001 - accuracy: 0.7746 - val_loss: 0.4149 - val_accuracy: 0.8028\n",
            "Epoch 19/25\n",
            "4/4 [==============================] - 0s 16ms/step - loss: 0.5104 - accuracy: 0.7746 - val_loss: 0.4133 - val_accuracy: 0.8028\n",
            "Epoch 20/25\n",
            "4/4 [==============================] - 0s 21ms/step - loss: 0.4622 - accuracy: 0.7817 - val_loss: 0.4144 - val_accuracy: 0.8028\n",
            "Epoch 21/25\n",
            "4/4 [==============================] - 0s 21ms/step - loss: 0.4717 - accuracy: 0.7746 - val_loss: 0.4122 - val_accuracy: 0.8028\n",
            "Epoch 22/25\n",
            "4/4 [==============================] - 0s 17ms/step - loss: 0.4695 - accuracy: 0.7746 - val_loss: 0.4090 - val_accuracy: 0.8028\n",
            "Epoch 23/25\n",
            "4/4 [==============================] - 0s 16ms/step - loss: 0.4624 - accuracy: 0.7746 - val_loss: 0.4052 - val_accuracy: 0.8028\n",
            "Epoch 24/25\n",
            "4/4 [==============================] - 0s 16ms/step - loss: 0.5017 - accuracy: 0.7746 - val_loss: 0.4025 - val_accuracy: 0.8028\n",
            "Epoch 25/25\n",
            "4/4 [==============================] - 0s 21ms/step - loss: 0.4983 - accuracy: 0.7676 - val_loss: 0.4014 - val_accuracy: 0.8028\n",
            "Accuracy: 83.33%\n",
            "Loss: 36.87%\n"
          ]
        }
      ]
    },
    {
      "cell_type": "markdown",
      "source": [
        "# Task 12: Show the application of a drop-based learning rate schedule"
      ],
      "metadata": {
        "id": "LH6OsBttLi7f"
      }
    },
    {
      "cell_type": "code",
      "source": [
        "# learning rate schedule\n",
        "def step_decay(epoch):\n",
        "\tinitial_lrate = 0.1\n",
        "\tdrop = 0.5\n",
        "\tepochs_drop = 10.0\n",
        "\tlrate = initial_lrate * math.pow(drop, math.floor((1+epoch)/epochs_drop))\n",
        "\treturn lrate\n",
        "\n",
        "# Previous model from task 11\n",
        "model = Sequential()\n",
        "model.add(Dropout(0.2, input_shape=(22,)))      #Dropout is set to 0.2\n",
        "model.add(Dense(16, activation='relu'))\n",
        "model.add(Dropout(0.2))                         #I added 3 dropout layers that are set to 0.2\n",
        "model.add(Dense(8, activation='relu'))\n",
        "model.add(Dropout(0.2))\n",
        "model.add(Dense(4, activation='relu'))\n",
        "model.add(Dropout(0.2))\n",
        "model.add(Dense(1, activation='sigmoid'))\n",
        "\n",
        "model.compile(Adam(learning_rate=0.0), loss='binary_crossentropy', metrics=['accuracy'])\n",
        "\n",
        "lrate = LearningRateScheduler(step_decay)\n",
        "model.fit(X_train_scaled, y_train, validation_split=0.33, epochs=25, batch_size=40, callbacks=[lrate], verbose=2)\n",
        "\n",
        "# Evaluate model\n",
        "scores = model.evaluate(X_test_scaled, y_test, verbose=0)\n",
        "accuracy = scores[1] * 100\n",
        "loss = scores[0] * 100\n",
        "\n",
        "# Print results\n",
        "print(f\"Accuracy: {accuracy:.2f}%\")\n",
        "print(f\"Loss: {loss:.2f}%\")"
      ],
      "metadata": {
        "colab": {
          "base_uri": "https://localhost:8080/",
          "height": 0
        },
        "id": "OoRH7gKvJaX8",
        "outputId": "6ef939f5-3a13-495d-9022-bab433b7c103"
      },
      "execution_count": 107,
      "outputs": [
        {
          "output_type": "stream",
          "name": "stdout",
          "text": [
            "Epoch 1/25\n",
            "4/4 - 1s - loss: 0.7280 - accuracy: 0.7254 - val_loss: 0.5116 - val_accuracy: 0.8028 - lr: 0.1000 - 1s/epoch - 355ms/step\n",
            "Epoch 2/25\n",
            "4/4 - 0s - loss: 0.5008 - accuracy: 0.7746 - val_loss: 0.4507 - val_accuracy: 0.8028 - lr: 0.1000 - 69ms/epoch - 17ms/step\n",
            "Epoch 3/25\n",
            "4/4 - 0s - loss: 0.5452 - accuracy: 0.7746 - val_loss: 0.4302 - val_accuracy: 0.8028 - lr: 0.1000 - 54ms/epoch - 13ms/step\n",
            "Epoch 4/25\n",
            "4/4 - 0s - loss: 0.4701 - accuracy: 0.7746 - val_loss: 0.4322 - val_accuracy: 0.8028 - lr: 0.1000 - 65ms/epoch - 16ms/step\n",
            "Epoch 5/25\n",
            "4/4 - 0s - loss: 0.4617 - accuracy: 0.7746 - val_loss: 0.4469 - val_accuracy: 0.8028 - lr: 0.1000 - 54ms/epoch - 13ms/step\n",
            "Epoch 6/25\n",
            "4/4 - 0s - loss: 0.4563 - accuracy: 0.7746 - val_loss: 0.4495 - val_accuracy: 0.8028 - lr: 0.1000 - 68ms/epoch - 17ms/step\n",
            "Epoch 7/25\n",
            "4/4 - 0s - loss: 0.4539 - accuracy: 0.7746 - val_loss: 0.4243 - val_accuracy: 0.8028 - lr: 0.1000 - 66ms/epoch - 16ms/step\n",
            "Epoch 8/25\n",
            "4/4 - 0s - loss: 0.4336 - accuracy: 0.7746 - val_loss: 0.3898 - val_accuracy: 0.8028 - lr: 0.1000 - 55ms/epoch - 14ms/step\n",
            "Epoch 9/25\n",
            "4/4 - 0s - loss: 0.5019 - accuracy: 0.7746 - val_loss: 0.4340 - val_accuracy: 0.8028 - lr: 0.1000 - 69ms/epoch - 17ms/step\n",
            "Epoch 10/25\n",
            "4/4 - 0s - loss: 0.4331 - accuracy: 0.7746 - val_loss: 0.4021 - val_accuracy: 0.8028 - lr: 0.0500 - 67ms/epoch - 17ms/step\n",
            "Epoch 11/25\n",
            "4/4 - 0s - loss: 0.4225 - accuracy: 0.7746 - val_loss: 0.3780 - val_accuracy: 0.8028 - lr: 0.0500 - 65ms/epoch - 16ms/step\n",
            "Epoch 12/25\n",
            "4/4 - 0s - loss: 0.4019 - accuracy: 0.7746 - val_loss: 0.3651 - val_accuracy: 0.8028 - lr: 0.0500 - 52ms/epoch - 13ms/step\n",
            "Epoch 13/25\n",
            "4/4 - 0s - loss: 0.3743 - accuracy: 0.7746 - val_loss: 0.3606 - val_accuracy: 0.8028 - lr: 0.0500 - 50ms/epoch - 13ms/step\n",
            "Epoch 14/25\n",
            "4/4 - 0s - loss: 0.4135 - accuracy: 0.7746 - val_loss: 0.3543 - val_accuracy: 0.8028 - lr: 0.0500 - 67ms/epoch - 17ms/step\n",
            "Epoch 15/25\n",
            "4/4 - 0s - loss: 0.4154 - accuracy: 0.7746 - val_loss: 0.3662 - val_accuracy: 0.8028 - lr: 0.0500 - 71ms/epoch - 18ms/step\n",
            "Epoch 16/25\n",
            "4/4 - 0s - loss: 0.3689 - accuracy: 0.7746 - val_loss: 0.3787 - val_accuracy: 0.8028 - lr: 0.0500 - 53ms/epoch - 13ms/step\n",
            "Epoch 17/25\n",
            "4/4 - 0s - loss: 0.3593 - accuracy: 0.7746 - val_loss: 0.3739 - val_accuracy: 0.8028 - lr: 0.0500 - 66ms/epoch - 17ms/step\n",
            "Epoch 18/25\n",
            "4/4 - 0s - loss: 0.4368 - accuracy: 0.7746 - val_loss: 0.3641 - val_accuracy: 0.8028 - lr: 0.0500 - 83ms/epoch - 21ms/step\n",
            "Epoch 19/25\n",
            "4/4 - 0s - loss: 0.3829 - accuracy: 0.7746 - val_loss: 0.3682 - val_accuracy: 0.8028 - lr: 0.0500 - 66ms/epoch - 17ms/step\n",
            "Epoch 20/25\n",
            "4/4 - 0s - loss: 0.4128 - accuracy: 0.7746 - val_loss: 0.3694 - val_accuracy: 0.8028 - lr: 0.0250 - 64ms/epoch - 16ms/step\n",
            "Epoch 21/25\n",
            "4/4 - 0s - loss: 0.3749 - accuracy: 0.7746 - val_loss: 0.3680 - val_accuracy: 0.8028 - lr: 0.0250 - 68ms/epoch - 17ms/step\n",
            "Epoch 22/25\n",
            "4/4 - 0s - loss: 0.3722 - accuracy: 0.7746 - val_loss: 0.3653 - val_accuracy: 0.8028 - lr: 0.0250 - 48ms/epoch - 12ms/step\n",
            "Epoch 23/25\n",
            "4/4 - 0s - loss: 0.3472 - accuracy: 0.7746 - val_loss: 0.3609 - val_accuracy: 0.8028 - lr: 0.0250 - 65ms/epoch - 16ms/step\n",
            "Epoch 24/25\n",
            "4/4 - 0s - loss: 0.3492 - accuracy: 0.7746 - val_loss: 0.3542 - val_accuracy: 0.8028 - lr: 0.0250 - 50ms/epoch - 13ms/step\n",
            "Epoch 25/25\n",
            "4/4 - 0s - loss: 0.3361 - accuracy: 0.7746 - val_loss: 0.3495 - val_accuracy: 0.8028 - lr: 0.0250 - 66ms/epoch - 17ms/step\n",
            "Accuracy: 83.33%\n",
            "Loss: 53.99%\n"
          ]
        }
      ]
    },
    {
      "cell_type": "markdown",
      "source": [
        "# Summary and Conclusion"
      ],
      "metadata": {
        "id": "FvjDNf8tSgYJ"
      }
    },
    {
      "cell_type": "markdown",
      "source": [
        "Summary\n",
        "\n",
        "For my summary, what I did first is I imported the dataset using the UCI import to python. It is located in the UCI website, my dataset is called the SPECT heart. After importing the dataset to the Collab, I firstly check the dataset if they have null values or do they have different datatype that I need to convert to. Fortunately my dataset does not require any transforming of datatype since they have the same datatypes. Next is that I based my code mostly in the module provided in the canvas, it was quite tricky since in the module, per task there has a change in the dataset in a specific task. But I did compromise by editing some of the codes provided and converting it to a useable code in my case.\n",
        "\n",
        "<br>\n",
        "Conclusion\n",
        "\n",
        "In this activity I have learned alot in this hands on activity, I now know how to save a neural network in JSON and YAML, In the module it was quite tricky at first on how to save the files directly into your personal google drive. But after sometime I was able to know on how I could directly save it to my google drive, I just have to run the mounting code and copy the path file from my google drive and we are all set. I also now know on how to add dropout layers in the visible and hidden layer the right way. What strucked me in this activity is on how we could also save the checkpoints in our neural network model, we simply just need to add again the path file of our gdrive in order to save it directly there. At first we can only save it locally in the google collab, but it turns out that's not the case. However I still opted to save it locally in the collab."
      ],
      "metadata": {
        "id": "iTkmUfi6Snku"
      }
    }
  ]
}