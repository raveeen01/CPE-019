{
  "nbformat": 4,
  "nbformat_minor": 0,
  "metadata": {
    "colab": {
      "provenance": []
    },
    "kernelspec": {
      "name": "python3",
      "display_name": "Python 3"
    },
    "language_info": {
      "name": "python"
    }
  },
  "cells": [
    {
      "cell_type": "markdown",
      "source": [
        "| <h1> Activity 4.1 </h1> | <h1>Advanced Data Analytics and Machine Learning</h1> |\n",
        "|--- | --- |\n",
        "\n",
        "Name: Escalicas, Peter Allen M.\n",
        "\n",
        "Course and Section: CPE019S3\n",
        "\n",
        "Date Submitted: 02/22/24\n",
        "\n",
        "Instructor: Engr. Roman\n",
        "\n",
        "Date Performed: 2/21/24\n",
        "\n",
        "Date Submitted: 2/21/24"
      ],
      "metadata": {
        "id": "Sy_mpQCq0zjs"
      }
    },
    {
      "cell_type": "markdown",
      "source": [
        "# **PART 1: Do the following objectives:**"
      ],
      "metadata": {
        "id": "SX2Da-mj1IBs"
      }
    },
    {
      "cell_type": "markdown",
      "source": [
        "**Part 1: Import the Libraries and Data**"
      ],
      "metadata": {
        "id": "aKfcC5T87WcD"
      }
    },
    {
      "cell_type": "code",
      "source": [
        "#code 1\n",
        "import pandas as pd\n",
        "import numpy as np\n",
        "import matplotlib.pyplot as plt\n",
        "import sklearn\n",
        "import IPython\n",
        "import seaborn\n",
        "\n",
        "titanic_test = '/content/titanic_test.csv'\n",
        "testFrame = pd.read_csv(titanic_test)\n",
        "\n",
        "\n",
        "titanic_train = '/content/titanic_train.csv'\n",
        "trainFrame = pd.read_csv(titanic_train)\n",
        "\n"
      ],
      "metadata": {
        "id": "K2G1PdWX1yLL"
      },
      "execution_count": null,
      "outputs": []
    },
    {
      "cell_type": "markdown",
      "source": [
        "**Part 2: Plot the Data**"
      ],
      "metadata": {
        "id": "9Rw45drc7bvE"
      }
    },
    {
      "cell_type": "code",
      "source": [
        "#code 2\n",
        "testFrame.describe()\n",
        "\n",
        "trainFrame.describe()\n"
      ],
      "metadata": {
        "colab": {
          "base_uri": "https://localhost:8080/",
          "height": 300
        },
        "id": "uQBXI1fT3fQr",
        "outputId": "9f78c3b8-8116-4002-fb38-f06a7f217fee"
      },
      "execution_count": null,
      "outputs": [
        {
          "output_type": "execute_result",
          "data": {
            "text/plain": [
              "       PassengerId    Survived      Pclass         Age       SibSp  \\\n",
              "count   891.000000  891.000000  891.000000  714.000000  891.000000   \n",
              "mean    446.000000    0.383838    2.308642   29.699118    0.523008   \n",
              "std     257.353842    0.486592    0.836071   14.526497    1.102743   \n",
              "min       1.000000    0.000000    1.000000    0.420000    0.000000   \n",
              "25%     223.500000    0.000000    2.000000   20.125000    0.000000   \n",
              "50%     446.000000    0.000000    3.000000   28.000000    0.000000   \n",
              "75%     668.500000    1.000000    3.000000   38.000000    1.000000   \n",
              "max     891.000000    1.000000    3.000000   80.000000    8.000000   \n",
              "\n",
              "            Parch        Fare  \n",
              "count  891.000000  891.000000  \n",
              "mean     0.381594   32.204208  \n",
              "std      0.806057   49.693429  \n",
              "min      0.000000    0.000000  \n",
              "25%      0.000000    7.910400  \n",
              "50%      0.000000   14.454200  \n",
              "75%      0.000000   31.000000  \n",
              "max      6.000000  512.329200  "
            ],
            "text/html": [
              "\n",
              "  <div id=\"df-27b934ac-e9e9-48bb-adf0-8c2997427e52\" class=\"colab-df-container\">\n",
              "    <div>\n",
              "<style scoped>\n",
              "    .dataframe tbody tr th:only-of-type {\n",
              "        vertical-align: middle;\n",
              "    }\n",
              "\n",
              "    .dataframe tbody tr th {\n",
              "        vertical-align: top;\n",
              "    }\n",
              "\n",
              "    .dataframe thead th {\n",
              "        text-align: right;\n",
              "    }\n",
              "</style>\n",
              "<table border=\"1\" class=\"dataframe\">\n",
              "  <thead>\n",
              "    <tr style=\"text-align: right;\">\n",
              "      <th></th>\n",
              "      <th>PassengerId</th>\n",
              "      <th>Survived</th>\n",
              "      <th>Pclass</th>\n",
              "      <th>Age</th>\n",
              "      <th>SibSp</th>\n",
              "      <th>Parch</th>\n",
              "      <th>Fare</th>\n",
              "    </tr>\n",
              "  </thead>\n",
              "  <tbody>\n",
              "    <tr>\n",
              "      <th>count</th>\n",
              "      <td>891.000000</td>\n",
              "      <td>891.000000</td>\n",
              "      <td>891.000000</td>\n",
              "      <td>714.000000</td>\n",
              "      <td>891.000000</td>\n",
              "      <td>891.000000</td>\n",
              "      <td>891.000000</td>\n",
              "    </tr>\n",
              "    <tr>\n",
              "      <th>mean</th>\n",
              "      <td>446.000000</td>\n",
              "      <td>0.383838</td>\n",
              "      <td>2.308642</td>\n",
              "      <td>29.699118</td>\n",
              "      <td>0.523008</td>\n",
              "      <td>0.381594</td>\n",
              "      <td>32.204208</td>\n",
              "    </tr>\n",
              "    <tr>\n",
              "      <th>std</th>\n",
              "      <td>257.353842</td>\n",
              "      <td>0.486592</td>\n",
              "      <td>0.836071</td>\n",
              "      <td>14.526497</td>\n",
              "      <td>1.102743</td>\n",
              "      <td>0.806057</td>\n",
              "      <td>49.693429</td>\n",
              "    </tr>\n",
              "    <tr>\n",
              "      <th>min</th>\n",
              "      <td>1.000000</td>\n",
              "      <td>0.000000</td>\n",
              "      <td>1.000000</td>\n",
              "      <td>0.420000</td>\n",
              "      <td>0.000000</td>\n",
              "      <td>0.000000</td>\n",
              "      <td>0.000000</td>\n",
              "    </tr>\n",
              "    <tr>\n",
              "      <th>25%</th>\n",
              "      <td>223.500000</td>\n",
              "      <td>0.000000</td>\n",
              "      <td>2.000000</td>\n",
              "      <td>20.125000</td>\n",
              "      <td>0.000000</td>\n",
              "      <td>0.000000</td>\n",
              "      <td>7.910400</td>\n",
              "    </tr>\n",
              "    <tr>\n",
              "      <th>50%</th>\n",
              "      <td>446.000000</td>\n",
              "      <td>0.000000</td>\n",
              "      <td>3.000000</td>\n",
              "      <td>28.000000</td>\n",
              "      <td>0.000000</td>\n",
              "      <td>0.000000</td>\n",
              "      <td>14.454200</td>\n",
              "    </tr>\n",
              "    <tr>\n",
              "      <th>75%</th>\n",
              "      <td>668.500000</td>\n",
              "      <td>1.000000</td>\n",
              "      <td>3.000000</td>\n",
              "      <td>38.000000</td>\n",
              "      <td>1.000000</td>\n",
              "      <td>0.000000</td>\n",
              "      <td>31.000000</td>\n",
              "    </tr>\n",
              "    <tr>\n",
              "      <th>max</th>\n",
              "      <td>891.000000</td>\n",
              "      <td>1.000000</td>\n",
              "      <td>3.000000</td>\n",
              "      <td>80.000000</td>\n",
              "      <td>8.000000</td>\n",
              "      <td>6.000000</td>\n",
              "      <td>512.329200</td>\n",
              "    </tr>\n",
              "  </tbody>\n",
              "</table>\n",
              "</div>\n",
              "    <div class=\"colab-df-buttons\">\n",
              "\n",
              "  <div class=\"colab-df-container\">\n",
              "    <button class=\"colab-df-convert\" onclick=\"convertToInteractive('df-27b934ac-e9e9-48bb-adf0-8c2997427e52')\"\n",
              "            title=\"Convert this dataframe to an interactive table.\"\n",
              "            style=\"display:none;\">\n",
              "\n",
              "  <svg xmlns=\"http://www.w3.org/2000/svg\" height=\"24px\" viewBox=\"0 -960 960 960\">\n",
              "    <path d=\"M120-120v-720h720v720H120Zm60-500h600v-160H180v160Zm220 220h160v-160H400v160Zm0 220h160v-160H400v160ZM180-400h160v-160H180v160Zm440 0h160v-160H620v160ZM180-180h160v-160H180v160Zm440 0h160v-160H620v160Z\"/>\n",
              "  </svg>\n",
              "    </button>\n",
              "\n",
              "  <style>\n",
              "    .colab-df-container {\n",
              "      display:flex;\n",
              "      gap: 12px;\n",
              "    }\n",
              "\n",
              "    .colab-df-convert {\n",
              "      background-color: #E8F0FE;\n",
              "      border: none;\n",
              "      border-radius: 50%;\n",
              "      cursor: pointer;\n",
              "      display: none;\n",
              "      fill: #1967D2;\n",
              "      height: 32px;\n",
              "      padding: 0 0 0 0;\n",
              "      width: 32px;\n",
              "    }\n",
              "\n",
              "    .colab-df-convert:hover {\n",
              "      background-color: #E2EBFA;\n",
              "      box-shadow: 0px 1px 2px rgba(60, 64, 67, 0.3), 0px 1px 3px 1px rgba(60, 64, 67, 0.15);\n",
              "      fill: #174EA6;\n",
              "    }\n",
              "\n",
              "    .colab-df-buttons div {\n",
              "      margin-bottom: 4px;\n",
              "    }\n",
              "\n",
              "    [theme=dark] .colab-df-convert {\n",
              "      background-color: #3B4455;\n",
              "      fill: #D2E3FC;\n",
              "    }\n",
              "\n",
              "    [theme=dark] .colab-df-convert:hover {\n",
              "      background-color: #434B5C;\n",
              "      box-shadow: 0px 1px 3px 1px rgba(0, 0, 0, 0.15);\n",
              "      filter: drop-shadow(0px 1px 2px rgba(0, 0, 0, 0.3));\n",
              "      fill: #FFFFFF;\n",
              "    }\n",
              "  </style>\n",
              "\n",
              "    <script>\n",
              "      const buttonEl =\n",
              "        document.querySelector('#df-27b934ac-e9e9-48bb-adf0-8c2997427e52 button.colab-df-convert');\n",
              "      buttonEl.style.display =\n",
              "        google.colab.kernel.accessAllowed ? 'block' : 'none';\n",
              "\n",
              "      async function convertToInteractive(key) {\n",
              "        const element = document.querySelector('#df-27b934ac-e9e9-48bb-adf0-8c2997427e52');\n",
              "        const dataTable =\n",
              "          await google.colab.kernel.invokeFunction('convertToInteractive',\n",
              "                                                    [key], {});\n",
              "        if (!dataTable) return;\n",
              "\n",
              "        const docLinkHtml = 'Like what you see? Visit the ' +\n",
              "          '<a target=\"_blank\" href=https://colab.research.google.com/notebooks/data_table.ipynb>data table notebook</a>'\n",
              "          + ' to learn more about interactive tables.';\n",
              "        element.innerHTML = '';\n",
              "        dataTable['output_type'] = 'display_data';\n",
              "        await google.colab.output.renderOutput(dataTable, element);\n",
              "        const docLink = document.createElement('div');\n",
              "        docLink.innerHTML = docLinkHtml;\n",
              "        element.appendChild(docLink);\n",
              "      }\n",
              "    </script>\n",
              "  </div>\n",
              "\n",
              "\n",
              "<div id=\"df-342cd007-04de-470b-a79a-9cfc69a020be\">\n",
              "  <button class=\"colab-df-quickchart\" onclick=\"quickchart('df-342cd007-04de-470b-a79a-9cfc69a020be')\"\n",
              "            title=\"Suggest charts\"\n",
              "            style=\"display:none;\">\n",
              "\n",
              "<svg xmlns=\"http://www.w3.org/2000/svg\" height=\"24px\"viewBox=\"0 0 24 24\"\n",
              "     width=\"24px\">\n",
              "    <g>\n",
              "        <path d=\"M19 3H5c-1.1 0-2 .9-2 2v14c0 1.1.9 2 2 2h14c1.1 0 2-.9 2-2V5c0-1.1-.9-2-2-2zM9 17H7v-7h2v7zm4 0h-2V7h2v10zm4 0h-2v-4h2v4z\"/>\n",
              "    </g>\n",
              "</svg>\n",
              "  </button>\n",
              "\n",
              "<style>\n",
              "  .colab-df-quickchart {\n",
              "      --bg-color: #E8F0FE;\n",
              "      --fill-color: #1967D2;\n",
              "      --hover-bg-color: #E2EBFA;\n",
              "      --hover-fill-color: #174EA6;\n",
              "      --disabled-fill-color: #AAA;\n",
              "      --disabled-bg-color: #DDD;\n",
              "  }\n",
              "\n",
              "  [theme=dark] .colab-df-quickchart {\n",
              "      --bg-color: #3B4455;\n",
              "      --fill-color: #D2E3FC;\n",
              "      --hover-bg-color: #434B5C;\n",
              "      --hover-fill-color: #FFFFFF;\n",
              "      --disabled-bg-color: #3B4455;\n",
              "      --disabled-fill-color: #666;\n",
              "  }\n",
              "\n",
              "  .colab-df-quickchart {\n",
              "    background-color: var(--bg-color);\n",
              "    border: none;\n",
              "    border-radius: 50%;\n",
              "    cursor: pointer;\n",
              "    display: none;\n",
              "    fill: var(--fill-color);\n",
              "    height: 32px;\n",
              "    padding: 0;\n",
              "    width: 32px;\n",
              "  }\n",
              "\n",
              "  .colab-df-quickchart:hover {\n",
              "    background-color: var(--hover-bg-color);\n",
              "    box-shadow: 0 1px 2px rgba(60, 64, 67, 0.3), 0 1px 3px 1px rgba(60, 64, 67, 0.15);\n",
              "    fill: var(--button-hover-fill-color);\n",
              "  }\n",
              "\n",
              "  .colab-df-quickchart-complete:disabled,\n",
              "  .colab-df-quickchart-complete:disabled:hover {\n",
              "    background-color: var(--disabled-bg-color);\n",
              "    fill: var(--disabled-fill-color);\n",
              "    box-shadow: none;\n",
              "  }\n",
              "\n",
              "  .colab-df-spinner {\n",
              "    border: 2px solid var(--fill-color);\n",
              "    border-color: transparent;\n",
              "    border-bottom-color: var(--fill-color);\n",
              "    animation:\n",
              "      spin 1s steps(1) infinite;\n",
              "  }\n",
              "\n",
              "  @keyframes spin {\n",
              "    0% {\n",
              "      border-color: transparent;\n",
              "      border-bottom-color: var(--fill-color);\n",
              "      border-left-color: var(--fill-color);\n",
              "    }\n",
              "    20% {\n",
              "      border-color: transparent;\n",
              "      border-left-color: var(--fill-color);\n",
              "      border-top-color: var(--fill-color);\n",
              "    }\n",
              "    30% {\n",
              "      border-color: transparent;\n",
              "      border-left-color: var(--fill-color);\n",
              "      border-top-color: var(--fill-color);\n",
              "      border-right-color: var(--fill-color);\n",
              "    }\n",
              "    40% {\n",
              "      border-color: transparent;\n",
              "      border-right-color: var(--fill-color);\n",
              "      border-top-color: var(--fill-color);\n",
              "    }\n",
              "    60% {\n",
              "      border-color: transparent;\n",
              "      border-right-color: var(--fill-color);\n",
              "    }\n",
              "    80% {\n",
              "      border-color: transparent;\n",
              "      border-right-color: var(--fill-color);\n",
              "      border-bottom-color: var(--fill-color);\n",
              "    }\n",
              "    90% {\n",
              "      border-color: transparent;\n",
              "      border-bottom-color: var(--fill-color);\n",
              "    }\n",
              "  }\n",
              "</style>\n",
              "\n",
              "  <script>\n",
              "    async function quickchart(key) {\n",
              "      const quickchartButtonEl =\n",
              "        document.querySelector('#' + key + ' button');\n",
              "      quickchartButtonEl.disabled = true;  // To prevent multiple clicks.\n",
              "      quickchartButtonEl.classList.add('colab-df-spinner');\n",
              "      try {\n",
              "        const charts = await google.colab.kernel.invokeFunction(\n",
              "            'suggestCharts', [key], {});\n",
              "      } catch (error) {\n",
              "        console.error('Error during call to suggestCharts:', error);\n",
              "      }\n",
              "      quickchartButtonEl.classList.remove('colab-df-spinner');\n",
              "      quickchartButtonEl.classList.add('colab-df-quickchart-complete');\n",
              "    }\n",
              "    (() => {\n",
              "      let quickchartButtonEl =\n",
              "        document.querySelector('#df-342cd007-04de-470b-a79a-9cfc69a020be button');\n",
              "      quickchartButtonEl.style.display =\n",
              "        google.colab.kernel.accessAllowed ? 'block' : 'none';\n",
              "    })();\n",
              "  </script>\n",
              "</div>\n",
              "    </div>\n",
              "  </div>\n"
            ],
            "application/vnd.google.colaboratory.intrinsic+json": {
              "type": "dataframe",
              "summary": "{\n  \"name\": \"trainFrame\",\n  \"rows\": 8,\n  \"fields\": [\n    {\n      \"column\": \"PassengerId\",\n      \"properties\": {\n        \"dtype\": \"number\",\n        \"std\": 320.8159711429855,\n        \"min\": 1.0,\n        \"max\": 891.0,\n        \"num_unique_values\": 6,\n        \"samples\": [\n          891.0,\n          446.0,\n          668.5\n        ],\n        \"semantic_type\": \"\",\n        \"description\": \"\"\n      }\n    },\n    {\n      \"column\": \"Survived\",\n      \"properties\": {\n        \"dtype\": \"number\",\n        \"std\": 314.8713661874558,\n        \"min\": 0.0,\n        \"max\": 891.0,\n        \"num_unique_values\": 5,\n        \"samples\": [\n          0.3838383838383838,\n          1.0,\n          0.4865924542648575\n        ],\n        \"semantic_type\": \"\",\n        \"description\": \"\"\n      }\n    },\n    {\n      \"column\": \"Pclass\",\n      \"properties\": {\n        \"dtype\": \"number\",\n        \"std\": 314.2523437079694,\n        \"min\": 0.836071240977049,\n        \"max\": 891.0,\n        \"num_unique_values\": 6,\n        \"samples\": [\n          891.0,\n          2.308641975308642,\n          3.0\n        ],\n        \"semantic_type\": \"\",\n        \"description\": \"\"\n      }\n    },\n    {\n      \"column\": \"Age\",\n      \"properties\": {\n        \"dtype\": \"number\",\n        \"std\": 242.9056731818781,\n        \"min\": 0.42,\n        \"max\": 714.0,\n        \"num_unique_values\": 8,\n        \"samples\": [\n          29.69911764705882,\n          28.0,\n          714.0\n        ],\n        \"semantic_type\": \"\",\n        \"description\": \"\"\n      }\n    },\n    {\n      \"column\": \"SibSp\",\n      \"properties\": {\n        \"dtype\": \"number\",\n        \"std\": 314.4908277465442,\n        \"min\": 0.0,\n        \"max\": 891.0,\n        \"num_unique_values\": 6,\n        \"samples\": [\n          891.0,\n          0.5230078563411896,\n          8.0\n        ],\n        \"semantic_type\": \"\",\n        \"description\": \"\"\n      }\n    },\n    {\n      \"column\": \"Parch\",\n      \"properties\": {\n        \"dtype\": \"number\",\n        \"std\": 314.65971717879,\n        \"min\": 0.0,\n        \"max\": 891.0,\n        \"num_unique_values\": 5,\n        \"samples\": [\n          0.38159371492704824,\n          6.0,\n          0.8060572211299483\n        ],\n        \"semantic_type\": \"\",\n        \"description\": \"\"\n      }\n    },\n    {\n      \"column\": \"Fare\",\n      \"properties\": {\n        \"dtype\": \"number\",\n        \"std\": 330.6256632228578,\n        \"min\": 0.0,\n        \"max\": 891.0,\n        \"num_unique_values\": 8,\n        \"samples\": [\n          32.204207968574636,\n          14.4542,\n          891.0\n        ],\n        \"semantic_type\": \"\",\n        \"description\": \"\"\n      }\n    }\n  ]\n}"
            }
          },
          "metadata": {},
          "execution_count": 118
        }
      ]
    },
    {
      "source": [
        "from matplotlib import pyplot as plt\n",
        "_df_2['Pclass'].plot(kind='hist', bins=20, title='Pclass')\n",
        "plt.gca().spines[['top', 'right',]].set_visible(False)"
      ],
      "cell_type": "code",
      "metadata": {
        "colab": {
          "base_uri": "https://localhost:8080/",
          "height": 452
        },
        "id": "vehErsP4tjYv",
        "outputId": "0cd32859-4d21-4ae7-9994-a5213eeefb7f"
      },
      "execution_count": null,
      "outputs": [
        {
          "output_type": "display_data",
          "data": {
            "text/plain": [
              "<Figure size 640x480 with 1 Axes>"
            ],
            "image/png": "[encoded data removed]"
          },
          "metadata": {}
        }
      ]
    },
    {
      "source": [
        "from matplotlib import pyplot as plt\n",
        "_df_1['Survived'].plot(kind='hist', bins=20, title='Survived')\n",
        "plt.gca().spines[['top', 'right',]].set_visible(False)"
      ],
      "cell_type": "code",
      "metadata": {
        "colab": {
          "base_uri": "https://localhost:8080/",
          "height": 452
        },
        "id": "Ba_rm_GbtfLW",
        "outputId": "088fab52-7638-4ea6-e7f8-279ec50ff4fe"
      },
      "execution_count": null,
      "outputs": [
        {
          "output_type": "display_data",
          "data": {
            "text/plain": [
              "<Figure size 640x480 with 1 Axes>"
            ],
            "image/png": "[encoded data removed]"
          },
          "metadata": {}
        }
      ]
    },
    {
      "source": [
        "from matplotlib import pyplot as plt\n",
        "_df_0['PassengerId'].plot(kind='hist', bins=20, title='PassengerId')\n",
        "plt.gca().spines[['top', 'right',]].set_visible(False)"
      ],
      "cell_type": "code",
      "metadata": {
        "colab": {
          "base_uri": "https://localhost:8080/",
          "height": 452
        },
        "id": "BksJJupktcUu",
        "outputId": "b16f6add-44b7-4386-abb3-107e40de3ea4"
      },
      "execution_count": null,
      "outputs": [
        {
          "output_type": "display_data",
          "data": {
            "text/plain": [
              "<Figure size 640x480 with 1 Axes>"
            ],
            "image/png": "[encoded data removed]"
          },
          "metadata": {}
        }
      ]
    },
    {
      "cell_type": "markdown",
      "source": [
        "# **PART 2: PDF File**"
      ],
      "metadata": {
        "id": "5JZYjtKI7oUT"
      }
    },
    {
      "cell_type": "markdown",
      "source": [
        "**Part 1: Create a Decision Tree Classifier**"
      ],
      "metadata": {
        "id": "dDvC0EBf7wtr"
      }
    },
    {
      "cell_type": "markdown",
      "source": [
        "![image.png](data:image/png;base64,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)"
      ],
      "metadata": {
        "id": "CyYrRJ8a8Fvz"
      }
    },
    {
      "cell_type": "markdown",
      "source": [
        "With the data above, what kinds of questions can we ask about the factors that contributed to passengers\n",
        "surviving or perishing in the Titanic disaster?\n",
        "\n",
        "**Answer: Does the survival rate will increase if the Passenger class were to be in the 1st class? Does the age have a significant factor on contributing to the survival rate of the passengers?**"
      ],
      "metadata": {
        "id": "uNjTbChD8JX7"
      }
    },
    {
      "cell_type": "markdown",
      "source": [
        "**Step 1: Create the datafram**e\n",
        "\n",
        "a) Import pandas and the csv file\n",
        "First, import pandas and create a dataframe from the Titanic training data set, which is stored in the titanic-\n",
        "train.csv file. Use the pd.read_csv() method."
      ],
      "metadata": {
        "id": "F4SxFhsu8vGc"
      }
    },
    {
      "cell_type": "code",
      "source": [
        "#Code cell 1\n",
        "#import pandas\n",
        "import pandas as pd\n",
        "#create a pandas dataframe called \"training\" from the titanic-train.csv file\n",
        "training = pd.read_csv('/content/titanic_train.csv')\n"
      ],
      "metadata": {
        "id": "QikEZkE08Rcj"
      },
      "execution_count": null,
      "outputs": []
    },
    {
      "cell_type": "markdown",
      "source": [
        "b) Verify the import and take a look at the data."
      ],
      "metadata": {
        "id": "Hg0hlcXr9HqD"
      }
    },
    {
      "cell_type": "code",
      "source": [
        "#Code cell 2\n",
        "print(training.info())"
      ],
      "metadata": {
        "colab": {
          "base_uri": "https://localhost:8080/",
          "height": 0
        },
        "id": "LsjRgqvr9JFl",
        "outputId": "288893b7-7dea-4ed9-cacb-d99f5964ad86"
      },
      "execution_count": 119,
      "outputs": [
        {
          "output_type": "stream",
          "name": "stdout",
          "text": [
            "<class 'pandas.core.frame.DataFrame'>\n",
            "RangeIndex: 891 entries, 0 to 890\n",
            "Data columns (total 12 columns):\n",
            " #   Column       Non-Null Count  Dtype  \n",
            "---  ------       --------------  -----  \n",
            " 0   PassengerId  891 non-null    int64  \n",
            " 1   Survived     891 non-null    int64  \n",
            " 2   Pclass       891 non-null    int64  \n",
            " 3   Name         891 non-null    object \n",
            " 4   Sex          891 non-null    int64  \n",
            " 5   Age          891 non-null    float64\n",
            " 6   SibSp        891 non-null    int64  \n",
            " 7   Parch        891 non-null    int64  \n",
            " 8   Ticket       891 non-null    object \n",
            " 9   Fare         891 non-null    float64\n",
            " 10  Cabin        204 non-null    object \n",
            " 11  Embarked     889 non-null    object \n",
            "dtypes: float64(2), int64(6), object(4)\n",
            "memory usage: 83.7+ KB\n",
            "None\n"
          ]
        }
      ]
    },
    {
      "cell_type": "markdown",
      "source": [
        "Are there missing values in the data set?\n",
        "\n",
        "**Answer: None**\n",
        "\n",
        "---\n",
        "\n"
      ],
      "metadata": {
        "id": "0L5FXgNG-b2s"
      }
    },
    {
      "cell_type": "code",
      "source": [
        "#code cell 3\n",
        "training.head()"
      ],
      "metadata": {
        "colab": {
          "base_uri": "https://localhost:8080/",
          "height": 206
        },
        "id": "AFlbPwBw-qFM",
        "outputId": "c4253a0c-a7b8-4503-dfe5-cf31f1b5a78d"
      },
      "execution_count": null,
      "outputs": [
        {
          "output_type": "execute_result",
          "data": {
            "text/plain": [
              "   PassengerId  Survived  Pclass  \\\n",
              "0            1         0       3   \n",
              "1            2         1       1   \n",
              "2            3         1       3   \n",
              "3            4         1       1   \n",
              "4            5         0       3   \n",
              "\n",
              "                                                Name     Sex   Age  SibSp  \\\n",
              "0                            Braund, Mr. Owen Harris    male  22.0      1   \n",
              "1  Cumings, Mrs. John Bradley (Florence Briggs Th...  female  38.0      1   \n",
              "2                             Heikkinen, Miss. Laina  female  26.0      0   \n",
              "3       Futrelle, Mrs. Jacques Heath (Lily May Peel)  female  35.0      1   \n",
              "4                           Allen, Mr. William Henry    male  35.0      0   \n",
              "\n",
              "   Parch            Ticket     Fare Cabin Embarked  \n",
              "0      0         A/5 21171   7.2500   NaN        S  \n",
              "1      0          PC 17599  71.2833   C85        C  \n",
              "2      0  STON/O2. 3101282   7.9250   NaN        S  \n",
              "3      0            113803  53.1000  C123        S  \n",
              "4      0            373450   8.0500   NaN        S  "
            ],
            "text/html": [
              "\n",
              "  <div id=\"df-926c4437-99bc-4284-81e3-88d8e8e3aca7\" class=\"colab-df-container\">\n",
              "    <div>\n",
              "<style scoped>\n",
              "    .dataframe tbody tr th:only-of-type {\n",
              "        vertical-align: middle;\n",
              "    }\n",
              "\n",
              "    .dataframe tbody tr th {\n",
              "        vertical-align: top;\n",
              "    }\n",
              "\n",
              "    .dataframe thead th {\n",
              "        text-align: right;\n",
              "    }\n",
              "</style>\n",
              "<table border=\"1\" class=\"dataframe\">\n",
              "  <thead>\n",
              "    <tr style=\"text-align: right;\">\n",
              "      <th></th>\n",
              "      <th>PassengerId</th>\n",
              "      <th>Survived</th>\n",
              "      <th>Pclass</th>\n",
              "      <th>Name</th>\n",
              "      <th>Sex</th>\n",
              "      <th>Age</th>\n",
              "      <th>SibSp</th>\n",
              "      <th>Parch</th>\n",
              "      <th>Ticket</th>\n",
              "      <th>Fare</th>\n",
              "      <th>Cabin</th>\n",
              "      <th>Embarked</th>\n",
              "    </tr>\n",
              "  </thead>\n",
              "  <tbody>\n",
              "    <tr>\n",
              "      <th>0</th>\n",
              "      <td>1</td>\n",
              "      <td>0</td>\n",
              "      <td>3</td>\n",
              "      <td>Braund, Mr. Owen Harris</td>\n",
              "      <td>male</td>\n",
              "      <td>22.0</td>\n",
              "      <td>1</td>\n",
              "      <td>0</td>\n",
              "      <td>A/5 21171</td>\n",
              "      <td>7.2500</td>\n",
              "      <td>NaN</td>\n",
              "      <td>S</td>\n",
              "    </tr>\n",
              "    <tr>\n",
              "      <th>1</th>\n",
              "      <td>2</td>\n",
              "      <td>1</td>\n",
              "      <td>1</td>\n",
              "      <td>Cumings, Mrs. John Bradley (Florence Briggs Th...</td>\n",
              "      <td>female</td>\n",
              "      <td>38.0</td>\n",
              "      <td>1</td>\n",
              "      <td>0</td>\n",
              "      <td>PC 17599</td>\n",
              "      <td>71.2833</td>\n",
              "      <td>C85</td>\n",
              "      <td>C</td>\n",
              "    </tr>\n",
              "    <tr>\n",
              "      <th>2</th>\n",
              "      <td>3</td>\n",
              "      <td>1</td>\n",
              "      <td>3</td>\n",
              "      <td>Heikkinen, Miss. Laina</td>\n",
              "      <td>female</td>\n",
              "      <td>26.0</td>\n",
              "      <td>0</td>\n",
              "      <td>0</td>\n",
              "      <td>STON/O2. 3101282</td>\n",
              "      <td>7.9250</td>\n",
              "      <td>NaN</td>\n",
              "      <td>S</td>\n",
              "    </tr>\n",
              "    <tr>\n",
              "      <th>3</th>\n",
              "      <td>4</td>\n",
              "      <td>1</td>\n",
              "      <td>1</td>\n",
              "      <td>Futrelle, Mrs. Jacques Heath (Lily May Peel)</td>\n",
              "      <td>female</td>\n",
              "      <td>35.0</td>\n",
              "      <td>1</td>\n",
              "      <td>0</td>\n",
              "      <td>113803</td>\n",
              "      <td>53.1000</td>\n",
              "      <td>C123</td>\n",
              "      <td>S</td>\n",
              "    </tr>\n",
              "    <tr>\n",
              "      <th>4</th>\n",
              "      <td>5</td>\n",
              "      <td>0</td>\n",
              "      <td>3</td>\n",
              "      <td>Allen, Mr. William Henry</td>\n",
              "      <td>male</td>\n",
              "      <td>35.0</td>\n",
              "      <td>0</td>\n",
              "      <td>0</td>\n",
              "      <td>373450</td>\n",
              "      <td>8.0500</td>\n",
              "      <td>NaN</td>\n",
              "      <td>S</td>\n",
              "    </tr>\n",
              "  </tbody>\n",
              "</table>\n",
              "</div>\n",
              "    <div class=\"colab-df-buttons\">\n",
              "\n",
              "  <div class=\"colab-df-container\">\n",
              "    <button class=\"colab-df-convert\" onclick=\"convertToInteractive('df-926c4437-99bc-4284-81e3-88d8e8e3aca7')\"\n",
              "            title=\"Convert this dataframe to an interactive table.\"\n",
              "            style=\"display:none;\">\n",
              "\n",
              "  <svg xmlns=\"http://www.w3.org/2000/svg\" height=\"24px\" viewBox=\"0 -960 960 960\">\n",
              "    <path d=\"M120-120v-720h720v720H120Zm60-500h600v-160H180v160Zm220 220h160v-160H400v160Zm0 220h160v-160H400v160ZM180-400h160v-160H180v160Zm440 0h160v-160H620v160ZM180-180h160v-160H180v160Zm440 0h160v-160H620v160Z\"/>\n",
              "  </svg>\n",
              "    </button>\n",
              "\n",
              "  <style>\n",
              "    .colab-df-container {\n",
              "      display:flex;\n",
              "      gap: 12px;\n",
              "    }\n",
              "\n",
              "    .colab-df-convert {\n",
              "      background-color: #E8F0FE;\n",
              "      border: none;\n",
              "      border-radius: 50%;\n",
              "      cursor: pointer;\n",
              "      display: none;\n",
              "      fill: #1967D2;\n",
              "      height: 32px;\n",
              "      padding: 0 0 0 0;\n",
              "      width: 32px;\n",
              "    }\n",
              "\n",
              "    .colab-df-convert:hover {\n",
              "      background-color: #E2EBFA;\n",
              "      box-shadow: 0px 1px 2px rgba(60, 64, 67, 0.3), 0px 1px 3px 1px rgba(60, 64, 67, 0.15);\n",
              "      fill: #174EA6;\n",
              "    }\n",
              "\n",
              "    .colab-df-buttons div {\n",
              "      margin-bottom: 4px;\n",
              "    }\n",
              "\n",
              "    [theme=dark] .colab-df-convert {\n",
              "      background-color: #3B4455;\n",
              "      fill: #D2E3FC;\n",
              "    }\n",
              "\n",
              "    [theme=dark] .colab-df-convert:hover {\n",
              "      background-color: #434B5C;\n",
              "      box-shadow: 0px 1px 3px 1px rgba(0, 0, 0, 0.15);\n",
              "      filter: drop-shadow(0px 1px 2px rgba(0, 0, 0, 0.3));\n",
              "      fill: #FFFFFF;\n",
              "    }\n",
              "  </style>\n",
              "\n",
              "    <script>\n",
              "      const buttonEl =\n",
              "        document.querySelector('#df-926c4437-99bc-4284-81e3-88d8e8e3aca7 button.colab-df-convert');\n",
              "      buttonEl.style.display =\n",
              "        google.colab.kernel.accessAllowed ? 'block' : 'none';\n",
              "\n",
              "      async function convertToInteractive(key) {\n",
              "        const element = document.querySelector('#df-926c4437-99bc-4284-81e3-88d8e8e3aca7');\n",
              "        const dataTable =\n",
              "          await google.colab.kernel.invokeFunction('convertToInteractive',\n",
              "                                                    [key], {});\n",
              "        if (!dataTable) return;\n",
              "\n",
              "        const docLinkHtml = 'Like what you see? Visit the ' +\n",
              "          '<a target=\"_blank\" href=https://colab.research.google.com/notebooks/data_table.ipynb>data table notebook</a>'\n",
              "          + ' to learn more about interactive tables.';\n",
              "        element.innerHTML = '';\n",
              "        dataTable['output_type'] = 'display_data';\n",
              "        await google.colab.output.renderOutput(dataTable, element);\n",
              "        const docLink = document.createElement('div');\n",
              "        docLink.innerHTML = docLinkHtml;\n",
              "        element.appendChild(docLink);\n",
              "      }\n",
              "    </script>\n",
              "  </div>\n",
              "\n",
              "\n",
              "<div id=\"df-8ec4f178-377a-4864-a21b-20208b1f7d16\">\n",
              "  <button class=\"colab-df-quickchart\" onclick=\"quickchart('df-8ec4f178-377a-4864-a21b-20208b1f7d16')\"\n",
              "            title=\"Suggest charts\"\n",
              "            style=\"display:none;\">\n",
              "\n",
              "<svg xmlns=\"http://www.w3.org/2000/svg\" height=\"24px\"viewBox=\"0 0 24 24\"\n",
              "     width=\"24px\">\n",
              "    <g>\n",
              "        <path d=\"M19 3H5c-1.1 0-2 .9-2 2v14c0 1.1.9 2 2 2h14c1.1 0 2-.9 2-2V5c0-1.1-.9-2-2-2zM9 17H7v-7h2v7zm4 0h-2V7h2v10zm4 0h-2v-4h2v4z\"/>\n",
              "    </g>\n",
              "</svg>\n",
              "  </button>\n",
              "\n",
              "<style>\n",
              "  .colab-df-quickchart {\n",
              "      --bg-color: #E8F0FE;\n",
              "      --fill-color: #1967D2;\n",
              "      --hover-bg-color: #E2EBFA;\n",
              "      --hover-fill-color: #174EA6;\n",
              "      --disabled-fill-color: #AAA;\n",
              "      --disabled-bg-color: #DDD;\n",
              "  }\n",
              "\n",
              "  [theme=dark] .colab-df-quickchart {\n",
              "      --bg-color: #3B4455;\n",
              "      --fill-color: #D2E3FC;\n",
              "      --hover-bg-color: #434B5C;\n",
              "      --hover-fill-color: #FFFFFF;\n",
              "      --disabled-bg-color: #3B4455;\n",
              "      --disabled-fill-color: #666;\n",
              "  }\n",
              "\n",
              "  .colab-df-quickchart {\n",
              "    background-color: var(--bg-color);\n",
              "    border: none;\n",
              "    border-radius: 50%;\n",
              "    cursor: pointer;\n",
              "    display: none;\n",
              "    fill: var(--fill-color);\n",
              "    height: 32px;\n",
              "    padding: 0;\n",
              "    width: 32px;\n",
              "  }\n",
              "\n",
              "  .colab-df-quickchart:hover {\n",
              "    background-color: var(--hover-bg-color);\n",
              "    box-shadow: 0 1px 2px rgba(60, 64, 67, 0.3), 0 1px 3px 1px rgba(60, 64, 67, 0.15);\n",
              "    fill: var(--button-hover-fill-color);\n",
              "  }\n",
              "\n",
              "  .colab-df-quickchart-complete:disabled,\n",
              "  .colab-df-quickchart-complete:disabled:hover {\n",
              "    background-color: var(--disabled-bg-color);\n",
              "    fill: var(--disabled-fill-color);\n",
              "    box-shadow: none;\n",
              "  }\n",
              "\n",
              "  .colab-df-spinner {\n",
              "    border: 2px solid var(--fill-color);\n",
              "    border-color: transparent;\n",
              "    border-bottom-color: var(--fill-color);\n",
              "    animation:\n",
              "      spin 1s steps(1) infinite;\n",
              "  }\n",
              "\n",
              "  @keyframes spin {\n",
              "    0% {\n",
              "      border-color: transparent;\n",
              "      border-bottom-color: var(--fill-color);\n",
              "      border-left-color: var(--fill-color);\n",
              "    }\n",
              "    20% {\n",
              "      border-color: transparent;\n",
              "      border-left-color: var(--fill-color);\n",
              "      border-top-color: var(--fill-color);\n",
              "    }\n",
              "    30% {\n",
              "      border-color: transparent;\n",
              "      border-left-color: var(--fill-color);\n",
              "      border-top-color: var(--fill-color);\n",
              "      border-right-color: var(--fill-color);\n",
              "    }\n",
              "    40% {\n",
              "      border-color: transparent;\n",
              "      border-right-color: var(--fill-color);\n",
              "      border-top-color: var(--fill-color);\n",
              "    }\n",
              "    60% {\n",
              "      border-color: transparent;\n",
              "      border-right-color: var(--fill-color);\n",
              "    }\n",
              "    80% {\n",
              "      border-color: transparent;\n",
              "      border-right-color: var(--fill-color);\n",
              "      border-bottom-color: var(--fill-color);\n",
              "    }\n",
              "    90% {\n",
              "      border-color: transparent;\n",
              "      border-bottom-color: var(--fill-color);\n",
              "    }\n",
              "  }\n",
              "</style>\n",
              "\n",
              "  <script>\n",
              "    async function quickchart(key) {\n",
              "      const quickchartButtonEl =\n",
              "        document.querySelector('#' + key + ' button');\n",
              "      quickchartButtonEl.disabled = true;  // To prevent multiple clicks.\n",
              "      quickchartButtonEl.classList.add('colab-df-spinner');\n",
              "      try {\n",
              "        const charts = await google.colab.kernel.invokeFunction(\n",
              "            'suggestCharts', [key], {});\n",
              "      } catch (error) {\n",
              "        console.error('Error during call to suggestCharts:', error);\n",
              "      }\n",
              "      quickchartButtonEl.classList.remove('colab-df-spinner');\n",
              "      quickchartButtonEl.classList.add('colab-df-quickchart-complete');\n",
              "    }\n",
              "    (() => {\n",
              "      let quickchartButtonEl =\n",
              "        document.querySelector('#df-8ec4f178-377a-4864-a21b-20208b1f7d16 button');\n",
              "      quickchartButtonEl.style.display =\n",
              "        google.colab.kernel.accessAllowed ? 'block' : 'none';\n",
              "    })();\n",
              "  </script>\n",
              "</div>\n",
              "    </div>\n",
              "  </div>\n"
            ],
            "application/vnd.google.colaboratory.intrinsic+json": {
              "type": "dataframe",
              "variable_name": "training",
              "summary": "{\n  \"name\": \"training\",\n  \"rows\": 891,\n  \"fields\": [\n    {\n      \"column\": \"PassengerId\",\n      \"properties\": {\n        \"dtype\": \"number\",\n        \"std\": 257,\n        \"min\": 1,\n        \"max\": 891,\n        \"num_unique_values\": 891,\n        \"samples\": [\n          710,\n          440,\n          841\n        ],\n        \"semantic_type\": \"\",\n        \"description\": \"\"\n      }\n    },\n    {\n      \"column\": \"Survived\",\n      \"properties\": {\n        \"dtype\": \"number\",\n        \"std\": 0,\n        \"min\": 0,\n        \"max\": 1,\n        \"num_unique_values\": 2,\n        \"samples\": [\n          1,\n          0\n        ],\n        \"semantic_type\": \"\",\n        \"description\": \"\"\n      }\n    },\n    {\n      \"column\": \"Pclass\",\n      \"properties\": {\n        \"dtype\": \"number\",\n        \"std\": 0,\n        \"min\": 1,\n        \"max\": 3,\n        \"num_unique_values\": 3,\n        \"samples\": [\n          3,\n          1\n        ],\n        \"semantic_type\": \"\",\n        \"description\": \"\"\n      }\n    },\n    {\n      \"column\": \"Name\",\n      \"properties\": {\n        \"dtype\": \"string\",\n        \"num_unique_values\": 891,\n        \"samples\": [\n          \"Moubarek, Master. Halim Gonios (\\\"William George\\\")\",\n          \"Kvillner, Mr. Johan Henrik Johannesson\"\n        ],\n        \"semantic_type\": \"\",\n        \"description\": \"\"\n      }\n    },\n    {\n      \"column\": \"Sex\",\n      \"properties\": {\n        \"dtype\": \"category\",\n        \"num_unique_values\": 2,\n        \"samples\": [\n          \"female\",\n          \"male\"\n        ],\n        \"semantic_type\": \"\",\n        \"description\": \"\"\n      }\n    },\n    {\n      \"column\": \"Age\",\n      \"properties\": {\n        \"dtype\": \"number\",\n        \"std\": 14.526497332334042,\n        \"min\": 0.42,\n        \"max\": 80.0,\n        \"num_unique_values\": 88,\n        \"samples\": [\n          0.75,\n          22.0\n        ],\n        \"semantic_type\": \"\",\n        \"description\": \"\"\n      }\n    },\n    {\n      \"column\": \"SibSp\",\n      \"properties\": {\n        \"dtype\": \"number\",\n        \"std\": 1,\n        \"min\": 0,\n        \"max\": 8,\n        \"num_unique_values\": 7,\n        \"samples\": [\n          1,\n          0\n        ],\n        \"semantic_type\": \"\",\n        \"description\": \"\"\n      }\n    },\n    {\n      \"column\": \"Parch\",\n      \"properties\": {\n        \"dtype\": \"number\",\n        \"std\": 0,\n        \"min\": 0,\n        \"max\": 6,\n        \"num_unique_values\": 7,\n        \"samples\": [\n          0,\n          1\n        ],\n        \"semantic_type\": \"\",\n        \"description\": \"\"\n      }\n    },\n    {\n      \"column\": \"Ticket\",\n      \"properties\": {\n        \"dtype\": \"string\",\n        \"num_unique_values\": 681,\n        \"samples\": [\n          \"11774\",\n          \"248740\"\n        ],\n        \"semantic_type\": \"\",\n        \"description\": \"\"\n      }\n    },\n    {\n      \"column\": \"Fare\",\n      \"properties\": {\n        \"dtype\": \"number\",\n        \"std\": 49.6934285971809,\n        \"min\": 0.0,\n        \"max\": 512.3292,\n        \"num_unique_values\": 248,\n        \"samples\": [\n          11.2417,\n          51.8625\n        ],\n        \"semantic_type\": \"\",\n        \"description\": \"\"\n      }\n    },\n    {\n      \"column\": \"Cabin\",\n      \"properties\": {\n        \"dtype\": \"category\",\n        \"num_unique_values\": 147,\n        \"samples\": [\n          \"D45\",\n          \"B49\"\n        ],\n        \"semantic_type\": \"\",\n        \"description\": \"\"\n      }\n    },\n    {\n      \"column\": \"Embarked\",\n      \"properties\": {\n        \"dtype\": \"category\",\n        \"num_unique_values\": 3,\n        \"samples\": [\n          \"S\",\n          \"C\"\n        ],\n        \"semantic_type\": \"\",\n        \"description\": \"\"\n      }\n    }\n  ]\n}"
            }
          },
          "metadata": {},
          "execution_count": 5
        }
      ]
    },
    {
      "cell_type": "markdown",
      "source": [
        "**Step 2: Prepare the Data for the Decision Tree Model.**\n",
        "\n",
        "a) Replace string data with numeric labels\n",
        "We will use scikit-learn to create the decision trees. The decision tree model we will be using can only handle\n",
        "numeric data. The values for the Gender variable must be transformed into numeric representations. 0 will be\n",
        "used to represent \"male\" and 1 will represent \"female.\"\n",
        "In this code, a lambda expression is used with the apply() dataframe method. This lambda expression\n",
        "represents a function that uses a conditional statement to replace the text values in the columns with the\n",
        "appropriate numeric value. The lambda statement can be interpreted as \"if the parameter toLabel equals 'male',\n",
        "return 0, if the value is something else, return 1.\" The apply() method will execute this function on the values in\n",
        "every row of the \"Gender\" column of the dataframe."
      ],
      "metadata": {
        "id": "1q4K_8E1-7fk"
      }
    },
    {
      "cell_type": "code",
      "source": [
        "#code cell 4\n",
        "training[\"Sex\"] = training[\"Sex\"].apply(lambda toLabel: 0 if toLabel =='male' else 1)"
      ],
      "metadata": {
        "id": "y9QP0rUt_ILG"
      },
      "execution_count": null,
      "outputs": []
    },
    {
      "cell_type": "markdown",
      "source": [
        "\n",
        "\n",
        "---\n",
        "\n"
      ],
      "metadata": {
        "id": "rFqsYGRLAFcN"
      }
    },
    {
      "cell_type": "markdown",
      "source": [
        "b) Verify that the Gender variable has been changed.\n",
        "The output should show values of 0 or 1 for the Gender variable in the dataset."
      ],
      "metadata": {
        "id": "nDzQ_cp9_gb1"
      }
    },
    {
      "cell_type": "code",
      "source": [
        "#code cell 5\n",
        "training.head()"
      ],
      "metadata": {
        "colab": {
          "base_uri": "https://localhost:8080/",
          "height": 206
        },
        "id": "G7P3_ZXW_iUF",
        "outputId": "328a74d4-6173-4bc5-c462-d02745e0ca7a"
      },
      "execution_count": null,
      "outputs": [
        {
          "output_type": "execute_result",
          "data": {
            "text/plain": [
              "   PassengerId  Survived  Pclass  \\\n",
              "0            1         0       3   \n",
              "1            2         1       1   \n",
              "2            3         1       3   \n",
              "3            4         1       1   \n",
              "4            5         0       3   \n",
              "\n",
              "                                                Name  Sex   Age  SibSp  Parch  \\\n",
              "0                            Braund, Mr. Owen Harris    0  22.0      1      0   \n",
              "1  Cumings, Mrs. John Bradley (Florence Briggs Th...    1  38.0      1      0   \n",
              "2                             Heikkinen, Miss. Laina    1  26.0      0      0   \n",
              "3       Futrelle, Mrs. Jacques Heath (Lily May Peel)    1  35.0      1      0   \n",
              "4                           Allen, Mr. William Henry    0  35.0      0      0   \n",
              "\n",
              "             Ticket     Fare Cabin Embarked  \n",
              "0         A/5 21171   7.2500   NaN        S  \n",
              "1          PC 17599  71.2833   C85        C  \n",
              "2  STON/O2. 3101282   7.9250   NaN        S  \n",
              "3            113803  53.1000  C123        S  \n",
              "4            373450   8.0500   NaN        S  "
            ],
            "text/html": [
              "\n",
              "  <div id=\"df-332be6a1-ed18-4cb8-ac89-ee45c16b8cae\" class=\"colab-df-container\">\n",
              "    <div>\n",
              "<style scoped>\n",
              "    .dataframe tbody tr th:only-of-type {\n",
              "        vertical-align: middle;\n",
              "    }\n",
              "\n",
              "    .dataframe tbody tr th {\n",
              "        vertical-align: top;\n",
              "    }\n",
              "\n",
              "    .dataframe thead th {\n",
              "        text-align: right;\n",
              "    }\n",
              "</style>\n",
              "<table border=\"1\" class=\"dataframe\">\n",
              "  <thead>\n",
              "    <tr style=\"text-align: right;\">\n",
              "      <th></th>\n",
              "      <th>PassengerId</th>\n",
              "      <th>Survived</th>\n",
              "      <th>Pclass</th>\n",
              "      <th>Name</th>\n",
              "      <th>Sex</th>\n",
              "      <th>Age</th>\n",
              "      <th>SibSp</th>\n",
              "      <th>Parch</th>\n",
              "      <th>Ticket</th>\n",
              "      <th>Fare</th>\n",
              "      <th>Cabin</th>\n",
              "      <th>Embarked</th>\n",
              "    </tr>\n",
              "  </thead>\n",
              "  <tbody>\n",
              "    <tr>\n",
              "      <th>0</th>\n",
              "      <td>1</td>\n",
              "      <td>0</td>\n",
              "      <td>3</td>\n",
              "      <td>Braund, Mr. Owen Harris</td>\n",
              "      <td>0</td>\n",
              "      <td>22.0</td>\n",
              "      <td>1</td>\n",
              "      <td>0</td>\n",
              "      <td>A/5 21171</td>\n",
              "      <td>7.2500</td>\n",
              "      <td>NaN</td>\n",
              "      <td>S</td>\n",
              "    </tr>\n",
              "    <tr>\n",
              "      <th>1</th>\n",
              "      <td>2</td>\n",
              "      <td>1</td>\n",
              "      <td>1</td>\n",
              "      <td>Cumings, Mrs. John Bradley (Florence Briggs Th...</td>\n",
              "      <td>1</td>\n",
              "      <td>38.0</td>\n",
              "      <td>1</td>\n",
              "      <td>0</td>\n",
              "      <td>PC 17599</td>\n",
              "      <td>71.2833</td>\n",
              "      <td>C85</td>\n",
              "      <td>C</td>\n",
              "    </tr>\n",
              "    <tr>\n",
              "      <th>2</th>\n",
              "      <td>3</td>\n",
              "      <td>1</td>\n",
              "      <td>3</td>\n",
              "      <td>Heikkinen, Miss. Laina</td>\n",
              "      <td>1</td>\n",
              "      <td>26.0</td>\n",
              "      <td>0</td>\n",
              "      <td>0</td>\n",
              "      <td>STON/O2. 3101282</td>\n",
              "      <td>7.9250</td>\n",
              "      <td>NaN</td>\n",
              "      <td>S</td>\n",
              "    </tr>\n",
              "    <tr>\n",
              "      <th>3</th>\n",
              "      <td>4</td>\n",
              "      <td>1</td>\n",
              "      <td>1</td>\n",
              "      <td>Futrelle, Mrs. Jacques Heath (Lily May Peel)</td>\n",
              "      <td>1</td>\n",
              "      <td>35.0</td>\n",
              "      <td>1</td>\n",
              "      <td>0</td>\n",
              "      <td>113803</td>\n",
              "      <td>53.1000</td>\n",
              "      <td>C123</td>\n",
              "      <td>S</td>\n",
              "    </tr>\n",
              "    <tr>\n",
              "      <th>4</th>\n",
              "      <td>5</td>\n",
              "      <td>0</td>\n",
              "      <td>3</td>\n",
              "      <td>Allen, Mr. William Henry</td>\n",
              "      <td>0</td>\n",
              "      <td>35.0</td>\n",
              "      <td>0</td>\n",
              "      <td>0</td>\n",
              "      <td>373450</td>\n",
              "      <td>8.0500</td>\n",
              "      <td>NaN</td>\n",
              "      <td>S</td>\n",
              "    </tr>\n",
              "  </tbody>\n",
              "</table>\n",
              "</div>\n",
              "    <div class=\"colab-df-buttons\">\n",
              "\n",
              "  <div class=\"colab-df-container\">\n",
              "    <button class=\"colab-df-convert\" onclick=\"convertToInteractive('df-332be6a1-ed18-4cb8-ac89-ee45c16b8cae')\"\n",
              "            title=\"Convert this dataframe to an interactive table.\"\n",
              "            style=\"display:none;\">\n",
              "\n",
              "  <svg xmlns=\"http://www.w3.org/2000/svg\" height=\"24px\" viewBox=\"0 -960 960 960\">\n",
              "    <path d=\"M120-120v-720h720v720H120Zm60-500h600v-160H180v160Zm220 220h160v-160H400v160Zm0 220h160v-160H400v160ZM180-400h160v-160H180v160Zm440 0h160v-160H620v160ZM180-180h160v-160H180v160Zm440 0h160v-160H620v160Z\"/>\n",
              "  </svg>\n",
              "    </button>\n",
              "\n",
              "  <style>\n",
              "    .colab-df-container {\n",
              "      display:flex;\n",
              "      gap: 12px;\n",
              "    }\n",
              "\n",
              "    .colab-df-convert {\n",
              "      background-color: #E8F0FE;\n",
              "      border: none;\n",
              "      border-radius: 50%;\n",
              "      cursor: pointer;\n",
              "      display: none;\n",
              "      fill: #1967D2;\n",
              "      height: 32px;\n",
              "      padding: 0 0 0 0;\n",
              "      width: 32px;\n",
              "    }\n",
              "\n",
              "    .colab-df-convert:hover {\n",
              "      background-color: #E2EBFA;\n",
              "      box-shadow: 0px 1px 2px rgba(60, 64, 67, 0.3), 0px 1px 3px 1px rgba(60, 64, 67, 0.15);\n",
              "      fill: #174EA6;\n",
              "    }\n",
              "\n",
              "    .colab-df-buttons div {\n",
              "      margin-bottom: 4px;\n",
              "    }\n",
              "\n",
              "    [theme=dark] .colab-df-convert {\n",
              "      background-color: #3B4455;\n",
              "      fill: #D2E3FC;\n",
              "    }\n",
              "\n",
              "    [theme=dark] .colab-df-convert:hover {\n",
              "      background-color: #434B5C;\n",
              "      box-shadow: 0px 1px 3px 1px rgba(0, 0, 0, 0.15);\n",
              "      filter: drop-shadow(0px 1px 2px rgba(0, 0, 0, 0.3));\n",
              "      fill: #FFFFFF;\n",
              "    }\n",
              "  </style>\n",
              "\n",
              "    <script>\n",
              "      const buttonEl =\n",
              "        document.querySelector('#df-332be6a1-ed18-4cb8-ac89-ee45c16b8cae button.colab-df-convert');\n",
              "      buttonEl.style.display =\n",
              "        google.colab.kernel.accessAllowed ? 'block' : 'none';\n",
              "\n",
              "      async function convertToInteractive(key) {\n",
              "        const element = document.querySelector('#df-332be6a1-ed18-4cb8-ac89-ee45c16b8cae');\n",
              "        const dataTable =\n",
              "          await google.colab.kernel.invokeFunction('convertToInteractive',\n",
              "                                                    [key], {});\n",
              "        if (!dataTable) return;\n",
              "\n",
              "        const docLinkHtml = 'Like what you see? Visit the ' +\n",
              "          '<a target=\"_blank\" href=https://colab.research.google.com/notebooks/data_table.ipynb>data table notebook</a>'\n",
              "          + ' to learn more about interactive tables.';\n",
              "        element.innerHTML = '';\n",
              "        dataTable['output_type'] = 'display_data';\n",
              "        await google.colab.output.renderOutput(dataTable, element);\n",
              "        const docLink = document.createElement('div');\n",
              "        docLink.innerHTML = docLinkHtml;\n",
              "        element.appendChild(docLink);\n",
              "      }\n",
              "    </script>\n",
              "  </div>\n",
              "\n",
              "\n",
              "<div id=\"df-ea763765-7510-46da-ad30-d0403702dedd\">\n",
              "  <button class=\"colab-df-quickchart\" onclick=\"quickchart('df-ea763765-7510-46da-ad30-d0403702dedd')\"\n",
              "            title=\"Suggest charts\"\n",
              "            style=\"display:none;\">\n",
              "\n",
              "<svg xmlns=\"http://www.w3.org/2000/svg\" height=\"24px\"viewBox=\"0 0 24 24\"\n",
              "     width=\"24px\">\n",
              "    <g>\n",
              "        <path d=\"M19 3H5c-1.1 0-2 .9-2 2v14c0 1.1.9 2 2 2h14c1.1 0 2-.9 2-2V5c0-1.1-.9-2-2-2zM9 17H7v-7h2v7zm4 0h-2V7h2v10zm4 0h-2v-4h2v4z\"/>\n",
              "    </g>\n",
              "</svg>\n",
              "  </button>\n",
              "\n",
              "<style>\n",
              "  .colab-df-quickchart {\n",
              "      --bg-color: #E8F0FE;\n",
              "      --fill-color: #1967D2;\n",
              "      --hover-bg-color: #E2EBFA;\n",
              "      --hover-fill-color: #174EA6;\n",
              "      --disabled-fill-color: #AAA;\n",
              "      --disabled-bg-color: #DDD;\n",
              "  }\n",
              "\n",
              "  [theme=dark] .colab-df-quickchart {\n",
              "      --bg-color: #3B4455;\n",
              "      --fill-color: #D2E3FC;\n",
              "      --hover-bg-color: #434B5C;\n",
              "      --hover-fill-color: #FFFFFF;\n",
              "      --disabled-bg-color: #3B4455;\n",
              "      --disabled-fill-color: #666;\n",
              "  }\n",
              "\n",
              "  .colab-df-quickchart {\n",
              "    background-color: var(--bg-color);\n",
              "    border: none;\n",
              "    border-radius: 50%;\n",
              "    cursor: pointer;\n",
              "    display: none;\n",
              "    fill: var(--fill-color);\n",
              "    height: 32px;\n",
              "    padding: 0;\n",
              "    width: 32px;\n",
              "  }\n",
              "\n",
              "  .colab-df-quickchart:hover {\n",
              "    background-color: var(--hover-bg-color);\n",
              "    box-shadow: 0 1px 2px rgba(60, 64, 67, 0.3), 0 1px 3px 1px rgba(60, 64, 67, 0.15);\n",
              "    fill: var(--button-hover-fill-color);\n",
              "  }\n",
              "\n",
              "  .colab-df-quickchart-complete:disabled,\n",
              "  .colab-df-quickchart-complete:disabled:hover {\n",
              "    background-color: var(--disabled-bg-color);\n",
              "    fill: var(--disabled-fill-color);\n",
              "    box-shadow: none;\n",
              "  }\n",
              "\n",
              "  .colab-df-spinner {\n",
              "    border: 2px solid var(--fill-color);\n",
              "    border-color: transparent;\n",
              "    border-bottom-color: var(--fill-color);\n",
              "    animation:\n",
              "      spin 1s steps(1) infinite;\n",
              "  }\n",
              "\n",
              "  @keyframes spin {\n",
              "    0% {\n",
              "      border-color: transparent;\n",
              "      border-bottom-color: var(--fill-color);\n",
              "      border-left-color: var(--fill-color);\n",
              "    }\n",
              "    20% {\n",
              "      border-color: transparent;\n",
              "      border-left-color: var(--fill-color);\n",
              "      border-top-color: var(--fill-color);\n",
              "    }\n",
              "    30% {\n",
              "      border-color: transparent;\n",
              "      border-left-color: var(--fill-color);\n",
              "      border-top-color: var(--fill-color);\n",
              "      border-right-color: var(--fill-color);\n",
              "    }\n",
              "    40% {\n",
              "      border-color: transparent;\n",
              "      border-right-color: var(--fill-color);\n",
              "      border-top-color: var(--fill-color);\n",
              "    }\n",
              "    60% {\n",
              "      border-color: transparent;\n",
              "      border-right-color: var(--fill-color);\n",
              "    }\n",
              "    80% {\n",
              "      border-color: transparent;\n",
              "      border-right-color: var(--fill-color);\n",
              "      border-bottom-color: var(--fill-color);\n",
              "    }\n",
              "    90% {\n",
              "      border-color: transparent;\n",
              "      border-bottom-color: var(--fill-color);\n",
              "    }\n",
              "  }\n",
              "</style>\n",
              "\n",
              "  <script>\n",
              "    async function quickchart(key) {\n",
              "      const quickchartButtonEl =\n",
              "        document.querySelector('#' + key + ' button');\n",
              "      quickchartButtonEl.disabled = true;  // To prevent multiple clicks.\n",
              "      quickchartButtonEl.classList.add('colab-df-spinner');\n",
              "      try {\n",
              "        const charts = await google.colab.kernel.invokeFunction(\n",
              "            'suggestCharts', [key], {});\n",
              "      } catch (error) {\n",
              "        console.error('Error during call to suggestCharts:', error);\n",
              "      }\n",
              "      quickchartButtonEl.classList.remove('colab-df-spinner');\n",
              "      quickchartButtonEl.classList.add('colab-df-quickchart-complete');\n",
              "    }\n",
              "    (() => {\n",
              "      let quickchartButtonEl =\n",
              "        document.querySelector('#df-ea763765-7510-46da-ad30-d0403702dedd button');\n",
              "      quickchartButtonEl.style.display =\n",
              "        google.colab.kernel.accessAllowed ? 'block' : 'none';\n",
              "    })();\n",
              "  </script>\n",
              "</div>\n",
              "    </div>\n",
              "  </div>\n"
            ],
            "application/vnd.google.colaboratory.intrinsic+json": {
              "type": "dataframe",
              "variable_name": "training",
              "summary": "{\n  \"name\": \"training\",\n  \"rows\": 891,\n  \"fields\": [\n    {\n      \"column\": \"PassengerId\",\n      \"properties\": {\n        \"dtype\": \"number\",\n        \"std\": 257,\n        \"min\": 1,\n        \"max\": 891,\n        \"num_unique_values\": 891,\n        \"samples\": [\n          710,\n          440,\n          841\n        ],\n        \"semantic_type\": \"\",\n        \"description\": \"\"\n      }\n    },\n    {\n      \"column\": \"Survived\",\n      \"properties\": {\n        \"dtype\": \"number\",\n        \"std\": 0,\n        \"min\": 0,\n        \"max\": 1,\n        \"num_unique_values\": 2,\n        \"samples\": [\n          1,\n          0\n        ],\n        \"semantic_type\": \"\",\n        \"description\": \"\"\n      }\n    },\n    {\n      \"column\": \"Pclass\",\n      \"properties\": {\n        \"dtype\": \"number\",\n        \"std\": 0,\n        \"min\": 1,\n        \"max\": 3,\n        \"num_unique_values\": 3,\n        \"samples\": [\n          3,\n          1\n        ],\n        \"semantic_type\": \"\",\n        \"description\": \"\"\n      }\n    },\n    {\n      \"column\": \"Name\",\n      \"properties\": {\n        \"dtype\": \"string\",\n        \"num_unique_values\": 891,\n        \"samples\": [\n          \"Moubarek, Master. Halim Gonios (\\\"William George\\\")\",\n          \"Kvillner, Mr. Johan Henrik Johannesson\"\n        ],\n        \"semantic_type\": \"\",\n        \"description\": \"\"\n      }\n    },\n    {\n      \"column\": \"Sex\",\n      \"properties\": {\n        \"dtype\": \"number\",\n        \"std\": 0,\n        \"min\": 0,\n        \"max\": 1,\n        \"num_unique_values\": 2,\n        \"samples\": [\n          1,\n          0\n        ],\n        \"semantic_type\": \"\",\n        \"description\": \"\"\n      }\n    },\n    {\n      \"column\": \"Age\",\n      \"properties\": {\n        \"dtype\": \"number\",\n        \"std\": 14.526497332334042,\n        \"min\": 0.42,\n        \"max\": 80.0,\n        \"num_unique_values\": 88,\n        \"samples\": [\n          0.75,\n          22.0\n        ],\n        \"semantic_type\": \"\",\n        \"description\": \"\"\n      }\n    },\n    {\n      \"column\": \"SibSp\",\n      \"properties\": {\n        \"dtype\": \"number\",\n        \"std\": 1,\n        \"min\": 0,\n        \"max\": 8,\n        \"num_unique_values\": 7,\n        \"samples\": [\n          1,\n          0\n        ],\n        \"semantic_type\": \"\",\n        \"description\": \"\"\n      }\n    },\n    {\n      \"column\": \"Parch\",\n      \"properties\": {\n        \"dtype\": \"number\",\n        \"std\": 0,\n        \"min\": 0,\n        \"max\": 6,\n        \"num_unique_values\": 7,\n        \"samples\": [\n          0,\n          1\n        ],\n        \"semantic_type\": \"\",\n        \"description\": \"\"\n      }\n    },\n    {\n      \"column\": \"Ticket\",\n      \"properties\": {\n        \"dtype\": \"string\",\n        \"num_unique_values\": 681,\n        \"samples\": [\n          \"11774\",\n          \"248740\"\n        ],\n        \"semantic_type\": \"\",\n        \"description\": \"\"\n      }\n    },\n    {\n      \"column\": \"Fare\",\n      \"properties\": {\n        \"dtype\": \"number\",\n        \"std\": 49.6934285971809,\n        \"min\": 0.0,\n        \"max\": 512.3292,\n        \"num_unique_values\": 248,\n        \"samples\": [\n          11.2417,\n          51.8625\n        ],\n        \"semantic_type\": \"\",\n        \"description\": \"\"\n      }\n    },\n    {\n      \"column\": \"Cabin\",\n      \"properties\": {\n        \"dtype\": \"category\",\n        \"num_unique_values\": 147,\n        \"samples\": [\n          \"D45\",\n          \"B49\"\n        ],\n        \"semantic_type\": \"\",\n        \"description\": \"\"\n      }\n    },\n    {\n      \"column\": \"Embarked\",\n      \"properties\": {\n        \"dtype\": \"category\",\n        \"num_unique_values\": 3,\n        \"samples\": [\n          \"S\",\n          \"C\"\n        ],\n        \"semantic_type\": \"\",\n        \"description\": \"\"\n      }\n    }\n  ]\n}"
            }
          },
          "metadata": {},
          "execution_count": 8
        }
      ]
    },
    {
      "cell_type": "markdown",
      "source": [
        "c) Address Missing Values in the Dataset\n",
        "The output of the info() method above indicated that about 180 observations are missing the age value. The age\n",
        "value is important to our analysis. We must address these missing values in some way. While not ideal, we can\n",
        "replace these missing age values with the mean of the ages for the entire dataset.\n",
        "This is done by using the fillna() method on the \"Age\" column in the dataset. The fillna() method will\n",
        "change the original dataframe by using the inplace = True argument."
      ],
      "metadata": {
        "id": "RYocsnkZ_z91"
      }
    },
    {
      "cell_type": "code",
      "source": [
        "#code cell 6\n",
        "training[\"Age\"].fillna(training[\"Age\"].mean(), inplace=True)\n",
        "training.info()"
      ],
      "metadata": {
        "colab": {
          "base_uri": "https://localhost:8080/"
        },
        "id": "3L9Y9ljy_1G9",
        "outputId": "c1d83522-41eb-4705-e82f-df98de3fe51f"
      },
      "execution_count": null,
      "outputs": [
        {
          "output_type": "stream",
          "name": "stdout",
          "text": [
            "<class 'pandas.core.frame.DataFrame'>\n",
            "RangeIndex: 891 entries, 0 to 890\n",
            "Data columns (total 12 columns):\n",
            " #   Column       Non-Null Count  Dtype  \n",
            "---  ------       --------------  -----  \n",
            " 0   PassengerId  891 non-null    int64  \n",
            " 1   Survived     891 non-null    int64  \n",
            " 2   Pclass       891 non-null    int64  \n",
            " 3   Name         891 non-null    object \n",
            " 4   Sex          891 non-null    int64  \n",
            " 5   Age          891 non-null    float64\n",
            " 6   SibSp        891 non-null    int64  \n",
            " 7   Parch        891 non-null    int64  \n",
            " 8   Ticket       891 non-null    object \n",
            " 9   Fare         891 non-null    float64\n",
            " 10  Cabin        204 non-null    object \n",
            " 11  Embarked     889 non-null    object \n",
            "dtypes: float64(2), int64(6), object(4)\n",
            "memory usage: 83.7+ KB\n"
          ]
        }
      ]
    },
    {
      "cell_type": "markdown",
      "source": [
        "\n",
        "\n",
        "---\n",
        "\n"
      ],
      "metadata": {
        "id": "SCRi2bo-AC17"
      }
    },
    {
      "cell_type": "markdown",
      "source": [
        "d) Verify that the values have been replaced."
      ],
      "metadata": {
        "id": "VTl1DaUG_-LD"
      }
    },
    {
      "cell_type": "code",
      "source": [
        "#code cell 7\n",
        "training.head()"
      ],
      "metadata": {
        "colab": {
          "base_uri": "https://localhost:8080/",
          "height": 206
        },
        "id": "wJk_XdQPAWKk",
        "outputId": "675b430e-d22b-4012-a0e6-209bc6301b04"
      },
      "execution_count": null,
      "outputs": [
        {
          "output_type": "execute_result",
          "data": {
            "text/plain": [
              "   PassengerId  Survived  Pclass  \\\n",
              "0            1         0       3   \n",
              "1            2         1       1   \n",
              "2            3         1       3   \n",
              "3            4         1       1   \n",
              "4            5         0       3   \n",
              "\n",
              "                                                Name  Sex   Age  SibSp  Parch  \\\n",
              "0                            Braund, Mr. Owen Harris    0  22.0      1      0   \n",
              "1  Cumings, Mrs. John Bradley (Florence Briggs Th...    1  38.0      1      0   \n",
              "2                             Heikkinen, Miss. Laina    1  26.0      0      0   \n",
              "3       Futrelle, Mrs. Jacques Heath (Lily May Peel)    1  35.0      1      0   \n",
              "4                           Allen, Mr. William Henry    0  35.0      0      0   \n",
              "\n",
              "             Ticket     Fare Cabin Embarked  \n",
              "0         A/5 21171   7.2500   NaN        S  \n",
              "1          PC 17599  71.2833   C85        C  \n",
              "2  STON/O2. 3101282   7.9250   NaN        S  \n",
              "3            113803  53.1000  C123        S  \n",
              "4            373450   8.0500   NaN        S  "
            ],
            "text/html": [
              "\n",
              "  <div id=\"df-107e362c-0cd2-456d-9245-30e8db466e52\" class=\"colab-df-container\">\n",
              "    <div>\n",
              "<style scoped>\n",
              "    .dataframe tbody tr th:only-of-type {\n",
              "        vertical-align: middle;\n",
              "    }\n",
              "\n",
              "    .dataframe tbody tr th {\n",
              "        vertical-align: top;\n",
              "    }\n",
              "\n",
              "    .dataframe thead th {\n",
              "        text-align: right;\n",
              "    }\n",
              "</style>\n",
              "<table border=\"1\" class=\"dataframe\">\n",
              "  <thead>\n",
              "    <tr style=\"text-align: right;\">\n",
              "      <th></th>\n",
              "      <th>PassengerId</th>\n",
              "      <th>Survived</th>\n",
              "      <th>Pclass</th>\n",
              "      <th>Name</th>\n",
              "      <th>Sex</th>\n",
              "      <th>Age</th>\n",
              "      <th>SibSp</th>\n",
              "      <th>Parch</th>\n",
              "      <th>Ticket</th>\n",
              "      <th>Fare</th>\n",
              "      <th>Cabin</th>\n",
              "      <th>Embarked</th>\n",
              "    </tr>\n",
              "  </thead>\n",
              "  <tbody>\n",
              "    <tr>\n",
              "      <th>0</th>\n",
              "      <td>1</td>\n",
              "      <td>0</td>\n",
              "      <td>3</td>\n",
              "      <td>Braund, Mr. Owen Harris</td>\n",
              "      <td>0</td>\n",
              "      <td>22.0</td>\n",
              "      <td>1</td>\n",
              "      <td>0</td>\n",
              "      <td>A/5 21171</td>\n",
              "      <td>7.2500</td>\n",
              "      <td>NaN</td>\n",
              "      <td>S</td>\n",
              "    </tr>\n",
              "    <tr>\n",
              "      <th>1</th>\n",
              "      <td>2</td>\n",
              "      <td>1</td>\n",
              "      <td>1</td>\n",
              "      <td>Cumings, Mrs. John Bradley (Florence Briggs Th...</td>\n",
              "      <td>1</td>\n",
              "      <td>38.0</td>\n",
              "      <td>1</td>\n",
              "      <td>0</td>\n",
              "      <td>PC 17599</td>\n",
              "      <td>71.2833</td>\n",
              "      <td>C85</td>\n",
              "      <td>C</td>\n",
              "    </tr>\n",
              "    <tr>\n",
              "      <th>2</th>\n",
              "      <td>3</td>\n",
              "      <td>1</td>\n",
              "      <td>3</td>\n",
              "      <td>Heikkinen, Miss. Laina</td>\n",
              "      <td>1</td>\n",
              "      <td>26.0</td>\n",
              "      <td>0</td>\n",
              "      <td>0</td>\n",
              "      <td>STON/O2. 3101282</td>\n",
              "      <td>7.9250</td>\n",
              "      <td>NaN</td>\n",
              "      <td>S</td>\n",
              "    </tr>\n",
              "    <tr>\n",
              "      <th>3</th>\n",
              "      <td>4</td>\n",
              "      <td>1</td>\n",
              "      <td>1</td>\n",
              "      <td>Futrelle, Mrs. Jacques Heath (Lily May Peel)</td>\n",
              "      <td>1</td>\n",
              "      <td>35.0</td>\n",
              "      <td>1</td>\n",
              "      <td>0</td>\n",
              "      <td>113803</td>\n",
              "      <td>53.1000</td>\n",
              "      <td>C123</td>\n",
              "      <td>S</td>\n",
              "    </tr>\n",
              "    <tr>\n",
              "      <th>4</th>\n",
              "      <td>5</td>\n",
              "      <td>0</td>\n",
              "      <td>3</td>\n",
              "      <td>Allen, Mr. William Henry</td>\n",
              "      <td>0</td>\n",
              "      <td>35.0</td>\n",
              "      <td>0</td>\n",
              "      <td>0</td>\n",
              "      <td>373450</td>\n",
              "      <td>8.0500</td>\n",
              "      <td>NaN</td>\n",
              "      <td>S</td>\n",
              "    </tr>\n",
              "  </tbody>\n",
              "</table>\n",
              "</div>\n",
              "    <div class=\"colab-df-buttons\">\n",
              "\n",
              "  <div class=\"colab-df-container\">\n",
              "    <button class=\"colab-df-convert\" onclick=\"convertToInteractive('df-107e362c-0cd2-456d-9245-30e8db466e52')\"\n",
              "            title=\"Convert this dataframe to an interactive table.\"\n",
              "            style=\"display:none;\">\n",
              "\n",
              "  <svg xmlns=\"http://www.w3.org/2000/svg\" height=\"24px\" viewBox=\"0 -960 960 960\">\n",
              "    <path d=\"M120-120v-720h720v720H120Zm60-500h600v-160H180v160Zm220 220h160v-160H400v160Zm0 220h160v-160H400v160ZM180-400h160v-160H180v160Zm440 0h160v-160H620v160ZM180-180h160v-160H180v160Zm440 0h160v-160H620v160Z\"/>\n",
              "  </svg>\n",
              "    </button>\n",
              "\n",
              "  <style>\n",
              "    .colab-df-container {\n",
              "      display:flex;\n",
              "      gap: 12px;\n",
              "    }\n",
              "\n",
              "    .colab-df-convert {\n",
              "      background-color: #E8F0FE;\n",
              "      border: none;\n",
              "      border-radius: 50%;\n",
              "      cursor: pointer;\n",
              "      display: none;\n",
              "      fill: #1967D2;\n",
              "      height: 32px;\n",
              "      padding: 0 0 0 0;\n",
              "      width: 32px;\n",
              "    }\n",
              "\n",
              "    .colab-df-convert:hover {\n",
              "      background-color: #E2EBFA;\n",
              "      box-shadow: 0px 1px 2px rgba(60, 64, 67, 0.3), 0px 1px 3px 1px rgba(60, 64, 67, 0.15);\n",
              "      fill: #174EA6;\n",
              "    }\n",
              "\n",
              "    .colab-df-buttons div {\n",
              "      margin-bottom: 4px;\n",
              "    }\n",
              "\n",
              "    [theme=dark] .colab-df-convert {\n",
              "      background-color: #3B4455;\n",
              "      fill: #D2E3FC;\n",
              "    }\n",
              "\n",
              "    [theme=dark] .colab-df-convert:hover {\n",
              "      background-color: #434B5C;\n",
              "      box-shadow: 0px 1px 3px 1px rgba(0, 0, 0, 0.15);\n",
              "      filter: drop-shadow(0px 1px 2px rgba(0, 0, 0, 0.3));\n",
              "      fill: #FFFFFF;\n",
              "    }\n",
              "  </style>\n",
              "\n",
              "    <script>\n",
              "      const buttonEl =\n",
              "        document.querySelector('#df-107e362c-0cd2-456d-9245-30e8db466e52 button.colab-df-convert');\n",
              "      buttonEl.style.display =\n",
              "        google.colab.kernel.accessAllowed ? 'block' : 'none';\n",
              "\n",
              "      async function convertToInteractive(key) {\n",
              "        const element = document.querySelector('#df-107e362c-0cd2-456d-9245-30e8db466e52');\n",
              "        const dataTable =\n",
              "          await google.colab.kernel.invokeFunction('convertToInteractive',\n",
              "                                                    [key], {});\n",
              "        if (!dataTable) return;\n",
              "\n",
              "        const docLinkHtml = 'Like what you see? Visit the ' +\n",
              "          '<a target=\"_blank\" href=https://colab.research.google.com/notebooks/data_table.ipynb>data table notebook</a>'\n",
              "          + ' to learn more about interactive tables.';\n",
              "        element.innerHTML = '';\n",
              "        dataTable['output_type'] = 'display_data';\n",
              "        await google.colab.output.renderOutput(dataTable, element);\n",
              "        const docLink = document.createElement('div');\n",
              "        docLink.innerHTML = docLinkHtml;\n",
              "        element.appendChild(docLink);\n",
              "      }\n",
              "    </script>\n",
              "  </div>\n",
              "\n",
              "\n",
              "<div id=\"df-9aebd077-ef2c-425f-b195-40a9b83e4398\">\n",
              "  <button class=\"colab-df-quickchart\" onclick=\"quickchart('df-9aebd077-ef2c-425f-b195-40a9b83e4398')\"\n",
              "            title=\"Suggest charts\"\n",
              "            style=\"display:none;\">\n",
              "\n",
              "<svg xmlns=\"http://www.w3.org/2000/svg\" height=\"24px\"viewBox=\"0 0 24 24\"\n",
              "     width=\"24px\">\n",
              "    <g>\n",
              "        <path d=\"M19 3H5c-1.1 0-2 .9-2 2v14c0 1.1.9 2 2 2h14c1.1 0 2-.9 2-2V5c0-1.1-.9-2-2-2zM9 17H7v-7h2v7zm4 0h-2V7h2v10zm4 0h-2v-4h2v4z\"/>\n",
              "    </g>\n",
              "</svg>\n",
              "  </button>\n",
              "\n",
              "<style>\n",
              "  .colab-df-quickchart {\n",
              "      --bg-color: #E8F0FE;\n",
              "      --fill-color: #1967D2;\n",
              "      --hover-bg-color: #E2EBFA;\n",
              "      --hover-fill-color: #174EA6;\n",
              "      --disabled-fill-color: #AAA;\n",
              "      --disabled-bg-color: #DDD;\n",
              "  }\n",
              "\n",
              "  [theme=dark] .colab-df-quickchart {\n",
              "      --bg-color: #3B4455;\n",
              "      --fill-color: #D2E3FC;\n",
              "      --hover-bg-color: #434B5C;\n",
              "      --hover-fill-color: #FFFFFF;\n",
              "      --disabled-bg-color: #3B4455;\n",
              "      --disabled-fill-color: #666;\n",
              "  }\n",
              "\n",
              "  .colab-df-quickchart {\n",
              "    background-color: var(--bg-color);\n",
              "    border: none;\n",
              "    border-radius: 50%;\n",
              "    cursor: pointer;\n",
              "    display: none;\n",
              "    fill: var(--fill-color);\n",
              "    height: 32px;\n",
              "    padding: 0;\n",
              "    width: 32px;\n",
              "  }\n",
              "\n",
              "  .colab-df-quickchart:hover {\n",
              "    background-color: var(--hover-bg-color);\n",
              "    box-shadow: 0 1px 2px rgba(60, 64, 67, 0.3), 0 1px 3px 1px rgba(60, 64, 67, 0.15);\n",
              "    fill: var(--button-hover-fill-color);\n",
              "  }\n",
              "\n",
              "  .colab-df-quickchart-complete:disabled,\n",
              "  .colab-df-quickchart-complete:disabled:hover {\n",
              "    background-color: var(--disabled-bg-color);\n",
              "    fill: var(--disabled-fill-color);\n",
              "    box-shadow: none;\n",
              "  }\n",
              "\n",
              "  .colab-df-spinner {\n",
              "    border: 2px solid var(--fill-color);\n",
              "    border-color: transparent;\n",
              "    border-bottom-color: var(--fill-color);\n",
              "    animation:\n",
              "      spin 1s steps(1) infinite;\n",
              "  }\n",
              "\n",
              "  @keyframes spin {\n",
              "    0% {\n",
              "      border-color: transparent;\n",
              "      border-bottom-color: var(--fill-color);\n",
              "      border-left-color: var(--fill-color);\n",
              "    }\n",
              "    20% {\n",
              "      border-color: transparent;\n",
              "      border-left-color: var(--fill-color);\n",
              "      border-top-color: var(--fill-color);\n",
              "    }\n",
              "    30% {\n",
              "      border-color: transparent;\n",
              "      border-left-color: var(--fill-color);\n",
              "      border-top-color: var(--fill-color);\n",
              "      border-right-color: var(--fill-color);\n",
              "    }\n",
              "    40% {\n",
              "      border-color: transparent;\n",
              "      border-right-color: var(--fill-color);\n",
              "      border-top-color: var(--fill-color);\n",
              "    }\n",
              "    60% {\n",
              "      border-color: transparent;\n",
              "      border-right-color: var(--fill-color);\n",
              "    }\n",
              "    80% {\n",
              "      border-color: transparent;\n",
              "      border-right-color: var(--fill-color);\n",
              "      border-bottom-color: var(--fill-color);\n",
              "    }\n",
              "    90% {\n",
              "      border-color: transparent;\n",
              "      border-bottom-color: var(--fill-color);\n",
              "    }\n",
              "  }\n",
              "</style>\n",
              "\n",
              "  <script>\n",
              "    async function quickchart(key) {\n",
              "      const quickchartButtonEl =\n",
              "        document.querySelector('#' + key + ' button');\n",
              "      quickchartButtonEl.disabled = true;  // To prevent multiple clicks.\n",
              "      quickchartButtonEl.classList.add('colab-df-spinner');\n",
              "      try {\n",
              "        const charts = await google.colab.kernel.invokeFunction(\n",
              "            'suggestCharts', [key], {});\n",
              "      } catch (error) {\n",
              "        console.error('Error during call to suggestCharts:', error);\n",
              "      }\n",
              "      quickchartButtonEl.classList.remove('colab-df-spinner');\n",
              "      quickchartButtonEl.classList.add('colab-df-quickchart-complete');\n",
              "    }\n",
              "    (() => {\n",
              "      let quickchartButtonEl =\n",
              "        document.querySelector('#df-9aebd077-ef2c-425f-b195-40a9b83e4398 button');\n",
              "      quickchartButtonEl.style.display =\n",
              "        google.colab.kernel.accessAllowed ? 'block' : 'none';\n",
              "    })();\n",
              "  </script>\n",
              "</div>\n",
              "    </div>\n",
              "  </div>\n"
            ],
            "application/vnd.google.colaboratory.intrinsic+json": {
              "type": "dataframe",
              "variable_name": "training",
              "summary": "{\n  \"name\": \"training\",\n  \"rows\": 891,\n  \"fields\": [\n    {\n      \"column\": \"PassengerId\",\n      \"properties\": {\n        \"dtype\": \"number\",\n        \"std\": 257,\n        \"min\": 1,\n        \"max\": 891,\n        \"num_unique_values\": 891,\n        \"samples\": [\n          710,\n          440,\n          841\n        ],\n        \"semantic_type\": \"\",\n        \"description\": \"\"\n      }\n    },\n    {\n      \"column\": \"Survived\",\n      \"properties\": {\n        \"dtype\": \"number\",\n        \"std\": 0,\n        \"min\": 0,\n        \"max\": 1,\n        \"num_unique_values\": 2,\n        \"samples\": [\n          1,\n          0\n        ],\n        \"semantic_type\": \"\",\n        \"description\": \"\"\n      }\n    },\n    {\n      \"column\": \"Pclass\",\n      \"properties\": {\n        \"dtype\": \"number\",\n        \"std\": 0,\n        \"min\": 1,\n        \"max\": 3,\n        \"num_unique_values\": 3,\n        \"samples\": [\n          3,\n          1\n        ],\n        \"semantic_type\": \"\",\n        \"description\": \"\"\n      }\n    },\n    {\n      \"column\": \"Name\",\n      \"properties\": {\n        \"dtype\": \"string\",\n        \"num_unique_values\": 891,\n        \"samples\": [\n          \"Moubarek, Master. Halim Gonios (\\\"William George\\\")\",\n          \"Kvillner, Mr. Johan Henrik Johannesson\"\n        ],\n        \"semantic_type\": \"\",\n        \"description\": \"\"\n      }\n    },\n    {\n      \"column\": \"Sex\",\n      \"properties\": {\n        \"dtype\": \"number\",\n        \"std\": 0,\n        \"min\": 0,\n        \"max\": 1,\n        \"num_unique_values\": 2,\n        \"samples\": [\n          1,\n          0\n        ],\n        \"semantic_type\": \"\",\n        \"description\": \"\"\n      }\n    },\n    {\n      \"column\": \"Age\",\n      \"properties\": {\n        \"dtype\": \"number\",\n        \"std\": 13.002015226002882,\n        \"min\": 0.42,\n        \"max\": 80.0,\n        \"num_unique_values\": 89,\n        \"samples\": [\n          59.0,\n          36.5\n        ],\n        \"semantic_type\": \"\",\n        \"description\": \"\"\n      }\n    },\n    {\n      \"column\": \"SibSp\",\n      \"properties\": {\n        \"dtype\": \"number\",\n        \"std\": 1,\n        \"min\": 0,\n        \"max\": 8,\n        \"num_unique_values\": 7,\n        \"samples\": [\n          1,\n          0\n        ],\n        \"semantic_type\": \"\",\n        \"description\": \"\"\n      }\n    },\n    {\n      \"column\": \"Parch\",\n      \"properties\": {\n        \"dtype\": \"number\",\n        \"std\": 0,\n        \"min\": 0,\n        \"max\": 6,\n        \"num_unique_values\": 7,\n        \"samples\": [\n          0,\n          1\n        ],\n        \"semantic_type\": \"\",\n        \"description\": \"\"\n      }\n    },\n    {\n      \"column\": \"Ticket\",\n      \"properties\": {\n        \"dtype\": \"string\",\n        \"num_unique_values\": 681,\n        \"samples\": [\n          \"11774\",\n          \"248740\"\n        ],\n        \"semantic_type\": \"\",\n        \"description\": \"\"\n      }\n    },\n    {\n      \"column\": \"Fare\",\n      \"properties\": {\n        \"dtype\": \"number\",\n        \"std\": 49.6934285971809,\n        \"min\": 0.0,\n        \"max\": 512.3292,\n        \"num_unique_values\": 248,\n        \"samples\": [\n          11.2417,\n          51.8625\n        ],\n        \"semantic_type\": \"\",\n        \"description\": \"\"\n      }\n    },\n    {\n      \"column\": \"Cabin\",\n      \"properties\": {\n        \"dtype\": \"category\",\n        \"num_unique_values\": 147,\n        \"samples\": [\n          \"D45\",\n          \"B49\"\n        ],\n        \"semantic_type\": \"\",\n        \"description\": \"\"\n      }\n    },\n    {\n      \"column\": \"Embarked\",\n      \"properties\": {\n        \"dtype\": \"category\",\n        \"num_unique_values\": 3,\n        \"samples\": [\n          \"S\",\n          \"C\"\n        ],\n        \"semantic_type\": \"\",\n        \"description\": \"\"\n      }\n    }\n  ]\n}"
            }
          },
          "metadata": {},
          "execution_count": 10
        }
      ]
    },
    {
      "cell_type": "markdown",
      "source": [
        "What is the value that was used to replace the missing ages?\n",
        "\n",
        "**Answer: 48**\n",
        "\n",
        "---\n",
        "\n"
      ],
      "metadata": {
        "id": "E3zqQgW5BzKk"
      }
    },
    {
      "cell_type": "markdown",
      "source": [
        "**Step 3: Train and Score the Decision Tree Model.**\n",
        "\n",
        "a) Create an array object with the variable that will be the target for the model"
      ],
      "metadata": {
        "id": "GeVK84kkCJIc"
      }
    },
    {
      "cell_type": "code",
      "source": [
        "#code cell 8\n",
        "#create the array for the target values\n",
        "y_target = training[\"Survived\"].values"
      ],
      "metadata": {
        "id": "z4gTn7GLCMqG"
      },
      "execution_count": null,
      "outputs": []
    },
    {
      "cell_type": "markdown",
      "source": [
        "b) Create an array of the values that will be the input for the model."
      ],
      "metadata": {
        "id": "ge2a73zQCTd1"
      }
    },
    {
      "cell_type": "code",
      "source": [
        "#code cell 9\n",
        "columns = [\"Fare\", \"Pclass\", \"Sex\", \"Age\", \"SibSp\"]\n",
        "#create the variable to hold the features that the classifier will use\n",
        "X_input = training[list(columns)].values"
      ],
      "metadata": {
        "id": "vBpBzoFwCUKM"
      },
      "execution_count": null,
      "outputs": []
    },
    {
      "cell_type": "markdown",
      "source": [
        "c) Create the learned model."
      ],
      "metadata": {
        "id": "7puJtSHRCgGP"
      }
    },
    {
      "cell_type": "code",
      "source": [
        "#code cell 10\n",
        "#import the tree module from the sklearn library\n",
        "from sklearn import tree\n",
        "#create clf_train as a decision tree classifier object\n",
        "clf_train = tree.DecisionTreeClassifier(criterion=\"entropy\", max_depth=3)\n",
        "#train the model using the fit() method of the decision tree object.\n",
        "#Supply the method with the input variable X_input and the target variable y_target\n",
        "clf_train = clf_train.fit(X_input, y_target)"
      ],
      "metadata": {
        "id": "VIu8QoWIChrW"
      },
      "execution_count": null,
      "outputs": []
    },
    {
      "cell_type": "markdown",
      "source": [
        "d) Evaluate the model"
      ],
      "metadata": {
        "id": "BxfNMj3ZCtJU"
      }
    },
    {
      "cell_type": "code",
      "source": [
        "#code cell 11\n",
        "clf_train.score(X_input,y_target)"
      ],
      "metadata": {
        "colab": {
          "base_uri": "https://localhost:8080/"
        },
        "id": "_l_g9VSpCtts",
        "outputId": "0c2b19e7-763d-437d-dca5-9e569b3b7b68"
      },
      "execution_count": null,
      "outputs": [
        {
          "output_type": "execute_result",
          "data": {
            "text/plain": [
              "0.8226711560044894"
            ]
          },
          "metadata": {},
          "execution_count": 14
        }
      ]
    },
    {
      "cell_type": "markdown",
      "source": [
        "\n",
        "\n",
        "---\n",
        "\n"
      ],
      "metadata": {
        "id": "WJ0AlLzpC0h8"
      }
    },
    {
      "cell_type": "markdown",
      "source": [
        "**Step 6: Visualize the Tree**\n",
        "\n",
        "a) Create the intermediate file output"
      ],
      "metadata": {
        "id": "59uYj6MdC1xU"
      }
    },
    {
      "cell_type": "code",
      "source": [
        "#code cell 12\n",
        "from six import StringIO\n",
        "with open('/content/titanic.dot', 'w') as f:\n",
        "  f = tree.export_graphviz(clf_train, out_file=f, feature_names=columns)"
      ],
      "metadata": {
        "id": "gR_0rURgC7yk"
      },
      "execution_count": null,
      "outputs": []
    },
    {
      "cell_type": "markdown",
      "source": [
        "b) Install Graphviz\n",
        "\n",
        "**- Done**\n",
        "\n",
        "c) Convert the intermediate file to a graphic\n"
      ],
      "metadata": {
        "id": "g0IQyYUwFRac"
      }
    },
    {
      "cell_type": "code",
      "source": [
        "!apt -qqq install graphviz\n",
        "from IPython.display import Image"
      ],
      "metadata": {
        "id": "es1sVF8EGY0G"
      },
      "execution_count": null,
      "outputs": []
    },
    {
      "cell_type": "code",
      "source": [
        "#code cell 13\n",
        "#run the Graphviz dot command to convert the .dot file to .png\n",
        "!dot -Tpng /content/titanic.dot -o /content/titanic.png"
      ],
      "metadata": {
        "id": "trBWm_c5FfKn"
      },
      "execution_count": null,
      "outputs": []
    },
    {
      "cell_type": "markdown",
      "source": [
        "d) Display the image"
      ],
      "metadata": {
        "id": "nwtanfXUHWHc"
      }
    },
    {
      "cell_type": "code",
      "source": [
        "#code cell 14\n",
        "#import the Image module from the Ipython.display libary\n",
        "from IPython.display import Image\n",
        "#display the decison tree graphic\n",
        "Image('/content/titanic.png')\n"
      ],
      "metadata": {
        "colab": {
          "base_uri": "https://localhost:8080/",
          "height": 466
        },
        "id": "Kug3zolUHXO-",
        "outputId": "b6bde0d0-795e-4ac2-aba0-a536b6ddc45d"
      },
      "execution_count": null,
      "outputs": [
        {
          "output_type": "execute_result",
          "data": {
            "image/png": "[encoded data removed]",
            "text/plain": [
              "<IPython.core.display.Image object>"
            ]
          },
          "metadata": {},
          "execution_count": 22
        }
      ]
    },
    {
      "cell_type": "markdown",
      "source": [
        "e) Interpret the tree\n",
        "\n",
        "What describes the group that had the most deaths by number? Which group had the most survivors?\n",
        "\n",
        "**Answer:**\n",
        "\n",
        "The group that had experienced the **most death are the Male group** with the Fare of 26.269. And lastly the group that **Survived the most are the Female Group**\n",
        "\n",
        "---\n",
        "\n"
      ],
      "metadata": {
        "id": "CNxeIuLPHOHf"
      }
    },
    {
      "cell_type": "markdown",
      "source": [
        "# **Part 2: Apply the Decision Tree Model**"
      ],
      "metadata": {
        "id": "CfW-mO2fIUeb"
      }
    },
    {
      "cell_type": "markdown",
      "source": [
        "*Step 1: Import and Prepare the Data*\n",
        "\n",
        "\n",
        "\n"
      ],
      "metadata": {
        "id": "vjXL5X9RIb7t"
      }
    },
    {
      "cell_type": "code",
      "source": [
        "#code cell 15\n",
        "import pandas as pd\n",
        "from sklearn.tree import DecisionTreeClassifier\n",
        "\n",
        "#import the file into the 'testing' dataframe.\n",
        "testing = pd.read_csv('/content/titanic_test.csv')"
      ],
      "metadata": {
        "id": "haOJjZMbIxjF"
      },
      "execution_count": null,
      "outputs": []
    },
    {
      "cell_type": "markdown",
      "source": [
        "How many records in the Data set?"
      ],
      "metadata": {
        "id": "1j8J1a6RJY74"
      }
    },
    {
      "cell_type": "code",
      "source": [
        "#records in the Data Set\n",
        "\n",
        "records = testing.shape[0]\n",
        "\n",
        "print(\"There are\", testing, \"records in the Data Set!\")"
      ],
      "metadata": {
        "colab": {
          "base_uri": "https://localhost:8080/"
        },
        "id": "xKpm2SLRJdbS",
        "outputId": "3658cf05-f04f-4dc7-f41a-e532aadbb4e1"
      },
      "execution_count": null,
      "outputs": [
        {
          "output_type": "stream",
          "name": "stdout",
          "text": [
            "There are      PassengerId  Pclass                                          Name  \\\n",
            "0            892       3                              Kelly, Mr. James   \n",
            "1            893       3              Wilkes, Mrs. James (Ellen Needs)   \n",
            "2            894       2                     Myles, Mr. Thomas Francis   \n",
            "3            895       3                              Wirz, Mr. Albert   \n",
            "4            896       3  Hirvonen, Mrs. Alexander (Helga E Lindqvist)   \n",
            "..           ...     ...                                           ...   \n",
            "413         1305       3                            Spector, Mr. Woolf   \n",
            "414         1306       1                  Oliva y Ocana, Dona. Fermina   \n",
            "415         1307       3                  Saether, Mr. Simon Sivertsen   \n",
            "416         1308       3                           Ware, Mr. Frederick   \n",
            "417         1309       3                      Peter, Master. Michael J   \n",
            "\n",
            "        Sex   Age  SibSp  Parch              Ticket      Fare Cabin Embarked  \n",
            "0      male  34.5      0      0              330911    7.8292   NaN        Q  \n",
            "1    female  47.0      1      0              363272    7.0000   NaN        S  \n",
            "2      male  62.0      0      0              240276    9.6875   NaN        Q  \n",
            "3      male  27.0      0      0              315154    8.6625   NaN        S  \n",
            "4    female  22.0      1      1             3101298   12.2875   NaN        S  \n",
            "..      ...   ...    ...    ...                 ...       ...   ...      ...  \n",
            "413    male   NaN      0      0           A.5. 3236    8.0500   NaN        S  \n",
            "414  female  39.0      0      0            PC 17758  108.9000  C105        C  \n",
            "415    male  38.5      0      0  SOTON/O.Q. 3101262    7.2500   NaN        S  \n",
            "416    male   NaN      0      0              359309    8.0500   NaN        S  \n",
            "417    male   NaN      1      1                2668   22.3583   NaN        C  \n",
            "\n",
            "[418 rows x 11 columns] records in the Data Set!\n"
          ]
        }
      ]
    },
    {
      "cell_type": "markdown",
      "source": [
        "\n",
        "\n",
        "---\n",
        "\n",
        "\n",
        "Which important variables(s) are missing values and how many are missing?\n",
        "\n",
        "\n"
      ],
      "metadata": {
        "id": "hzWzLKA0K5vd"
      }
    },
    {
      "cell_type": "code",
      "source": [
        "# Check for missing values and count them for each column\n",
        "m_values = testing.isna().sum()\n",
        "\n",
        "# Filter for columns with missing values\n",
        "columns_with_m_values = m_values[m_values > 0]\n",
        "\n",
        "# Output\n",
        "print(columns_with_m_values)\n"
      ],
      "metadata": {
        "colab": {
          "base_uri": "https://localhost:8080/"
        },
        "id": "feizasWtLD4A",
        "outputId": "cf9cbe2b-cc14-45bb-cfcc-681f945704ab"
      },
      "execution_count": null,
      "outputs": [
        {
          "output_type": "stream",
          "name": "stdout",
          "text": [
            "Cabin    327\n",
            "dtype: int64\n"
          ]
        }
      ]
    },
    {
      "cell_type": "markdown",
      "source": [
        "b) Use a lambda expression to replace the \"male\" and \"female\" values with 0 for male and 1 for female.."
      ],
      "metadata": {
        "id": "TGY769dXfQVx"
      }
    },
    {
      "cell_type": "code",
      "source": [
        "testing[\"Sex\"] = testing[\"Sex\"].apply(lambda toLabel: 0 if toLabel =='male' else 1)"
      ],
      "metadata": {
        "id": "y-Sw0TmsfVsM"
      },
      "execution_count": null,
      "outputs": []
    },
    {
      "cell_type": "markdown",
      "source": [],
      "metadata": {
        "id": "BXLTHStwnMfq"
      }
    },
    {
      "cell_type": "markdown",
      "source": [
        "c) Replace the missing age values with the mean of the ages.\n"
      ],
      "metadata": {
        "id": "MVKeUOIsfhSk"
      }
    },
    {
      "cell_type": "code",
      "source": [
        "#code cell 17\n",
        "#Use the fillna method of the testing dataframe column \"Age\"\n",
        "#to replace missing values with the mean of the age values.\n",
        "testing[\"Age\"].fillna(testing[\"Age\"].mean(), inplace=True)\n",
        "testing[\"Fare\"].fillna(testing[\"Fare\"].mean(), inplace=True)"
      ],
      "metadata": {
        "id": "9cYqDQLhfkPb"
      },
      "execution_count": null,
      "outputs": []
    },
    {
      "cell_type": "markdown",
      "source": [
        "d) Verify that the values have been replaced.\n"
      ],
      "metadata": {
        "id": "mCCbnaE1fowB"
      }
    },
    {
      "cell_type": "code",
      "source": [
        "print(testing.info())\n",
        "\n",
        "print(testing.head())"
      ],
      "metadata": {
        "colab": {
          "base_uri": "https://localhost:8080/"
        },
        "id": "gNsVLq0sfqrl",
        "outputId": "62fd33e5-1efd-419c-8ab0-591c8c22262c"
      },
      "execution_count": null,
      "outputs": [
        {
          "output_type": "stream",
          "name": "stdout",
          "text": [
            "<class 'pandas.core.frame.DataFrame'>\n",
            "RangeIndex: 418 entries, 0 to 417\n",
            "Data columns (total 11 columns):\n",
            " #   Column       Non-Null Count  Dtype  \n",
            "---  ------       --------------  -----  \n",
            " 0   PassengerId  418 non-null    int64  \n",
            " 1   Pclass       418 non-null    int64  \n",
            " 2   Name         418 non-null    object \n",
            " 3   Sex          418 non-null    int64  \n",
            " 4   Age          418 non-null    float64\n",
            " 5   SibSp        418 non-null    int64  \n",
            " 6   Parch        418 non-null    int64  \n",
            " 7   Ticket       418 non-null    object \n",
            " 8   Fare         418 non-null    float64\n",
            " 9   Cabin        91 non-null     object \n",
            " 10  Embarked     418 non-null    object \n",
            "dtypes: float64(2), int64(5), object(4)\n",
            "memory usage: 36.0+ KB\n",
            "None\n",
            "   PassengerId  Pclass                                          Name  Sex  \\\n",
            "0          892       3                              Kelly, Mr. James    0   \n",
            "1          893       3              Wilkes, Mrs. James (Ellen Needs)    1   \n",
            "2          894       2                     Myles, Mr. Thomas Francis    0   \n",
            "3          895       3                              Wirz, Mr. Albert    0   \n",
            "4          896       3  Hirvonen, Mrs. Alexander (Helga E Lindqvist)    1   \n",
            "\n",
            "    Age  SibSp  Parch   Ticket     Fare Cabin Embarked  \n",
            "0  34.5      0      0   330911   7.8292   NaN        Q  \n",
            "1  47.0      1      0   363272   7.0000   NaN        S  \n",
            "2  62.0      0      0   240276   9.6875   NaN        Q  \n",
            "3  27.0      0      0   315154   8.6625   NaN        S  \n",
            "4  22.0      1      1  3101298  12.2875   NaN        S  \n"
          ]
        }
      ]
    },
    {
      "cell_type": "markdown",
      "source": [
        "*Step 2: Label the testing dataset*"
      ],
      "metadata": {
        "id": "SgVzSudjgZqO"
      }
    },
    {
      "cell_type": "markdown",
      "source": [
        "a) Create the array of input variables from the testing data set.\n"
      ],
      "metadata": {
        "id": "BxWm0k-lggIQ"
      }
    },
    {
      "cell_type": "code",
      "source": [
        "#code cell 19\n",
        "#create the variable X_input to hold the features that the classifier will use\n",
        "X_input = testing[list(columns)].values"
      ],
      "metadata": {
        "id": "ZTjYMmNFgddM"
      },
      "execution_count": null,
      "outputs": []
    },
    {
      "cell_type": "markdown",
      "source": [
        "b) Apply the model to the testing data set."
      ],
      "metadata": {
        "id": "G-0lw9JtgmKZ"
      }
    },
    {
      "cell_type": "code",
      "source": [
        "#code cell 20\n",
        "\n",
        "#apply the model to the testing data and store the result in a pandas dataframe.\n",
        "\n",
        "#Use X_input as the argurment for the predict() method of the clf_train classifier object\n",
        "target_labels = clf_train.predict(X_input)\n",
        "\n",
        "#convert the target array into a pandas dataframe using the pd.DataFrame() method and target as argument\n",
        "target_labels = pd.DataFrame({'Est_Survival':target_labels, 'Name':testing['Name']})\n",
        "\n",
        "#display the first few rows of the data set\n",
        "print(target_labels.head())\n"
      ],
      "metadata": {
        "colab": {
          "base_uri": "https://localhost:8080/"
        },
        "id": "q2aWUqj7goX-",
        "outputId": "548177fd-4aaa-4012-a47d-de2d6b690085"
      },
      "execution_count": null,
      "outputs": [
        {
          "output_type": "stream",
          "name": "stdout",
          "text": [
            "   Est_Survival                                          Name\n",
            "0             0                              Kelly, Mr. James\n",
            "1             1              Wilkes, Mrs. James (Ellen Needs)\n",
            "2             0                     Myles, Mr. Thomas Francis\n",
            "3             0                              Wirz, Mr. Albert\n",
            "4             1  Hirvonen, Mrs. Alexander (Helga E Lindqvist)\n"
          ]
        }
      ]
    },
    {
      "cell_type": "markdown",
      "source": [
        "c) Evaluate the accuracy of the estimated labels"
      ],
      "metadata": {
        "id": "yKcAfd2hn4tE"
      }
    },
    {
      "cell_type": "code",
      "source": [
        "#code cell 21\n",
        "#import the numpy library as np\n",
        "\n",
        "import numpy as np\n",
        "\n",
        "# Load data for all passengers in the variable all_data\n",
        "all_data = pd.read_csv('/content/titanic_all.csv')\n",
        "\n",
        "# Merging using the field Name as key, selects only the rows of the two datasets that refer to the same passenger\n",
        "testing_results = pd.merge(target_labels, all_data[['Name','Survived']], on=['Name'])\n",
        "\n",
        "# Compute the accuracy as a ratio of matching observations to total osbervations. Store this in in the variable acc.\n",
        "acc = np.sum(testing_results['Est_Survival'] == testing_results['Survived']) / float(len(testing_results))\n",
        "\n",
        "# Print the result\n",
        "print(\"The accuracy is:\", acc)"
      ],
      "metadata": {
        "colab": {
          "base_uri": "https://localhost:8080/"
        },
        "id": "CH_jQdvwn_2u",
        "outputId": "105e8552-3464-4219-ea3b-cb4a9d862826"
      },
      "execution_count": null,
      "outputs": [
        {
          "output_type": "stream",
          "name": "stdout",
          "text": [
            "The accuracy is: 0.7682619647355163\n"
          ]
        }
      ]
    },
    {
      "cell_type": "markdown",
      "source": [
        "# Part 3: Evaluate the Decision Tree Model"
      ],
      "metadata": {
        "id": "6gYQJo4Doqog"
      }
    },
    {
      "cell_type": "markdown",
      "source": [
        "*Step 1: Import the data*"
      ],
      "metadata": {
        "id": "7LxJtp0Zov6O"
      }
    },
    {
      "cell_type": "code",
      "source": [
        "#code cell 22\n",
        "\n",
        "#import the titanic_all.csv file into a dataframe called all_data. Specify the list of columns to import.\n",
        "all_data = pd.read_csv('/content/titanic_all.csv', usecols=['Survived','Pclass','Gender','Age','SibSp','Fare'])\n",
        "\n",
        "#View info for the new dataframe\n",
        "all_data.info()"
      ],
      "metadata": {
        "colab": {
          "base_uri": "https://localhost:8080/"
        },
        "id": "vQ-Hctm-ozkK",
        "outputId": "f4fd90b7-085b-4f5e-9797-86875c8e6543"
      },
      "execution_count": null,
      "outputs": [
        {
          "output_type": "stream",
          "name": "stdout",
          "text": [
            "<class 'pandas.core.frame.DataFrame'>\n",
            "RangeIndex: 1308 entries, 0 to 1307\n",
            "Data columns (total 6 columns):\n",
            " #   Column    Non-Null Count  Dtype  \n",
            "---  ------    --------------  -----  \n",
            " 0   Survived  1308 non-null   int64  \n",
            " 1   Pclass    1308 non-null   int64  \n",
            " 2   Gender    1308 non-null   object \n",
            " 3   Age       1045 non-null   float64\n",
            " 4   SibSp     1308 non-null   int64  \n",
            " 5   Fare      1308 non-null   float64\n",
            "dtypes: float64(2), int64(3), object(1)\n",
            "memory usage: 61.4+ KB\n"
          ]
        }
      ]
    },
    {
      "cell_type": "markdown",
      "source": [
        "How many records are in the data set?\n",
        "\n",
        "**Answer: There are 1,308 records in this data set.**\n",
        "\n",
        "\n",
        "---\n",
        "\n",
        "\n",
        "Which important variables(s) are missing values and how many are missing?\n",
        "\n",
        "**Answer: The Age Column has the only missing values in the column given in this data set. Since it has only 1,045 not null entries, this means there are still 263 missing values under the Age column.**\n",
        "\n",
        "---\n",
        "\n"
      ],
      "metadata": {
        "id": "D5cusR54pNVu"
      }
    },
    {
      "cell_type": "markdown",
      "source": [
        "*Step 2: Prepare the data.*"
      ],
      "metadata": {
        "id": "OaddxIfLqOxp"
      }
    },
    {
      "cell_type": "markdown",
      "source": [
        "a) Remove the \"male\" and \"female\" strings and replace them with 0 and 1 respectively."
      ],
      "metadata": {
        "id": "NoK_YSOQqbCh"
      }
    },
    {
      "cell_type": "code",
      "source": [
        "#code cell 23\n",
        "#Label the gender variable with 0 and 1\n",
        "\n",
        "all_data[\"Gender\"] = all_data[\"Gender\"].replace({'male': 0, 'female': 1})"
      ],
      "metadata": {
        "id": "wiVYSBarqYap"
      },
      "execution_count": null,
      "outputs": []
    },
    {
      "cell_type": "markdown",
      "source": [
        "c) Replace the missing age values with the mean of the age of all members of the data set."
      ],
      "metadata": {
        "id": "Lacuroc3rDqZ"
      }
    },
    {
      "cell_type": "code",
      "source": [
        "#code cell 24\n",
        "#replace missing Age values with the mean age\n",
        "all_data[\"Age\"].fillna(all_data[\"Age\"].mean(), inplace=True)\n",
        "\n",
        "#display the first few rows of the data set\n",
        "all_data.head()"
      ],
      "metadata": {
        "colab": {
          "base_uri": "https://localhost:8080/",
          "height": 206
        },
        "id": "-cqr3oZjrGgW",
        "outputId": "37658c82-ce92-4894-da6a-e0d181ad065d"
      },
      "execution_count": null,
      "outputs": [
        {
          "output_type": "execute_result",
          "data": {
            "text/plain": [
              "   Survived  Pclass  Gender      Age  SibSp      Fare\n",
              "0         1       1       1  29.0000      0  211.3375\n",
              "1         1       1       0   0.9167      1  151.5500\n",
              "2         0       1       1   2.0000      1  151.5500\n",
              "3         0       1       0  30.0000      1  151.5500\n",
              "4         0       1       1  25.0000      1  151.5500"
            ],
            "text/html": [
              "\n",
              "  <div id=\"df-08682509-3a21-410f-be66-4a3fa55bc8c3\" class=\"colab-df-container\">\n",
              "    <div>\n",
              "<style scoped>\n",
              "    .dataframe tbody tr th:only-of-type {\n",
              "        vertical-align: middle;\n",
              "    }\n",
              "\n",
              "    .dataframe tbody tr th {\n",
              "        vertical-align: top;\n",
              "    }\n",
              "\n",
              "    .dataframe thead th {\n",
              "        text-align: right;\n",
              "    }\n",
              "</style>\n",
              "<table border=\"1\" class=\"dataframe\">\n",
              "  <thead>\n",
              "    <tr style=\"text-align: right;\">\n",
              "      <th></th>\n",
              "      <th>Survived</th>\n",
              "      <th>Pclass</th>\n",
              "      <th>Gender</th>\n",
              "      <th>Age</th>\n",
              "      <th>SibSp</th>\n",
              "      <th>Fare</th>\n",
              "    </tr>\n",
              "  </thead>\n",
              "  <tbody>\n",
              "    <tr>\n",
              "      <th>0</th>\n",
              "      <td>1</td>\n",
              "      <td>1</td>\n",
              "      <td>1</td>\n",
              "      <td>29.0000</td>\n",
              "      <td>0</td>\n",
              "      <td>211.3375</td>\n",
              "    </tr>\n",
              "    <tr>\n",
              "      <th>1</th>\n",
              "      <td>1</td>\n",
              "      <td>1</td>\n",
              "      <td>0</td>\n",
              "      <td>0.9167</td>\n",
              "      <td>1</td>\n",
              "      <td>151.5500</td>\n",
              "    </tr>\n",
              "    <tr>\n",
              "      <th>2</th>\n",
              "      <td>0</td>\n",
              "      <td>1</td>\n",
              "      <td>1</td>\n",
              "      <td>2.0000</td>\n",
              "      <td>1</td>\n",
              "      <td>151.5500</td>\n",
              "    </tr>\n",
              "    <tr>\n",
              "      <th>3</th>\n",
              "      <td>0</td>\n",
              "      <td>1</td>\n",
              "      <td>0</td>\n",
              "      <td>30.0000</td>\n",
              "      <td>1</td>\n",
              "      <td>151.5500</td>\n",
              "    </tr>\n",
              "    <tr>\n",
              "      <th>4</th>\n",
              "      <td>0</td>\n",
              "      <td>1</td>\n",
              "      <td>1</td>\n",
              "      <td>25.0000</td>\n",
              "      <td>1</td>\n",
              "      <td>151.5500</td>\n",
              "    </tr>\n",
              "  </tbody>\n",
              "</table>\n",
              "</div>\n",
              "    <div class=\"colab-df-buttons\">\n",
              "\n",
              "  <div class=\"colab-df-container\">\n",
              "    <button class=\"colab-df-convert\" onclick=\"convertToInteractive('df-08682509-3a21-410f-be66-4a3fa55bc8c3')\"\n",
              "            title=\"Convert this dataframe to an interactive table.\"\n",
              "            style=\"display:none;\">\n",
              "\n",
              "  <svg xmlns=\"http://www.w3.org/2000/svg\" height=\"24px\" viewBox=\"0 -960 960 960\">\n",
              "    <path d=\"M120-120v-720h720v720H120Zm60-500h600v-160H180v160Zm220 220h160v-160H400v160Zm0 220h160v-160H400v160ZM180-400h160v-160H180v160Zm440 0h160v-160H620v160ZM180-180h160v-160H180v160Zm440 0h160v-160H620v160Z\"/>\n",
              "  </svg>\n",
              "    </button>\n",
              "\n",
              "  <style>\n",
              "    .colab-df-container {\n",
              "      display:flex;\n",
              "      gap: 12px;\n",
              "    }\n",
              "\n",
              "    .colab-df-convert {\n",
              "      background-color: #E8F0FE;\n",
              "      border: none;\n",
              "      border-radius: 50%;\n",
              "      cursor: pointer;\n",
              "      display: none;\n",
              "      fill: #1967D2;\n",
              "      height: 32px;\n",
              "      padding: 0 0 0 0;\n",
              "      width: 32px;\n",
              "    }\n",
              "\n",
              "    .colab-df-convert:hover {\n",
              "      background-color: #E2EBFA;\n",
              "      box-shadow: 0px 1px 2px rgba(60, 64, 67, 0.3), 0px 1px 3px 1px rgba(60, 64, 67, 0.15);\n",
              "      fill: #174EA6;\n",
              "    }\n",
              "\n",
              "    .colab-df-buttons div {\n",
              "      margin-bottom: 4px;\n",
              "    }\n",
              "\n",
              "    [theme=dark] .colab-df-convert {\n",
              "      background-color: #3B4455;\n",
              "      fill: #D2E3FC;\n",
              "    }\n",
              "\n",
              "    [theme=dark] .colab-df-convert:hover {\n",
              "      background-color: #434B5C;\n",
              "      box-shadow: 0px 1px 3px 1px rgba(0, 0, 0, 0.15);\n",
              "      filter: drop-shadow(0px 1px 2px rgba(0, 0, 0, 0.3));\n",
              "      fill: #FFFFFF;\n",
              "    }\n",
              "  </style>\n",
              "\n",
              "    <script>\n",
              "      const buttonEl =\n",
              "        document.querySelector('#df-08682509-3a21-410f-be66-4a3fa55bc8c3 button.colab-df-convert');\n",
              "      buttonEl.style.display =\n",
              "        google.colab.kernel.accessAllowed ? 'block' : 'none';\n",
              "\n",
              "      async function convertToInteractive(key) {\n",
              "        const element = document.querySelector('#df-08682509-3a21-410f-be66-4a3fa55bc8c3');\n",
              "        const dataTable =\n",
              "          await google.colab.kernel.invokeFunction('convertToInteractive',\n",
              "                                                    [key], {});\n",
              "        if (!dataTable) return;\n",
              "\n",
              "        const docLinkHtml = 'Like what you see? Visit the ' +\n",
              "          '<a target=\"_blank\" href=https://colab.research.google.com/notebooks/data_table.ipynb>data table notebook</a>'\n",
              "          + ' to learn more about interactive tables.';\n",
              "        element.innerHTML = '';\n",
              "        dataTable['output_type'] = 'display_data';\n",
              "        await google.colab.output.renderOutput(dataTable, element);\n",
              "        const docLink = document.createElement('div');\n",
              "        docLink.innerHTML = docLinkHtml;\n",
              "        element.appendChild(docLink);\n",
              "      }\n",
              "    </script>\n",
              "  </div>\n",
              "\n",
              "\n",
              "<div id=\"df-dc159d07-0db1-442c-a405-eb6ab45eac9b\">\n",
              "  <button class=\"colab-df-quickchart\" onclick=\"quickchart('df-dc159d07-0db1-442c-a405-eb6ab45eac9b')\"\n",
              "            title=\"Suggest charts\"\n",
              "            style=\"display:none;\">\n",
              "\n",
              "<svg xmlns=\"http://www.w3.org/2000/svg\" height=\"24px\"viewBox=\"0 0 24 24\"\n",
              "     width=\"24px\">\n",
              "    <g>\n",
              "        <path d=\"M19 3H5c-1.1 0-2 .9-2 2v14c0 1.1.9 2 2 2h14c1.1 0 2-.9 2-2V5c0-1.1-.9-2-2-2zM9 17H7v-7h2v7zm4 0h-2V7h2v10zm4 0h-2v-4h2v4z\"/>\n",
              "    </g>\n",
              "</svg>\n",
              "  </button>\n",
              "\n",
              "<style>\n",
              "  .colab-df-quickchart {\n",
              "      --bg-color: #E8F0FE;\n",
              "      --fill-color: #1967D2;\n",
              "      --hover-bg-color: #E2EBFA;\n",
              "      --hover-fill-color: #174EA6;\n",
              "      --disabled-fill-color: #AAA;\n",
              "      --disabled-bg-color: #DDD;\n",
              "  }\n",
              "\n",
              "  [theme=dark] .colab-df-quickchart {\n",
              "      --bg-color: #3B4455;\n",
              "      --fill-color: #D2E3FC;\n",
              "      --hover-bg-color: #434B5C;\n",
              "      --hover-fill-color: #FFFFFF;\n",
              "      --disabled-bg-color: #3B4455;\n",
              "      --disabled-fill-color: #666;\n",
              "  }\n",
              "\n",
              "  .colab-df-quickchart {\n",
              "    background-color: var(--bg-color);\n",
              "    border: none;\n",
              "    border-radius: 50%;\n",
              "    cursor: pointer;\n",
              "    display: none;\n",
              "    fill: var(--fill-color);\n",
              "    height: 32px;\n",
              "    padding: 0;\n",
              "    width: 32px;\n",
              "  }\n",
              "\n",
              "  .colab-df-quickchart:hover {\n",
              "    background-color: var(--hover-bg-color);\n",
              "    box-shadow: 0 1px 2px rgba(60, 64, 67, 0.3), 0 1px 3px 1px rgba(60, 64, 67, 0.15);\n",
              "    fill: var(--button-hover-fill-color);\n",
              "  }\n",
              "\n",
              "  .colab-df-quickchart-complete:disabled,\n",
              "  .colab-df-quickchart-complete:disabled:hover {\n",
              "    background-color: var(--disabled-bg-color);\n",
              "    fill: var(--disabled-fill-color);\n",
              "    box-shadow: none;\n",
              "  }\n",
              "\n",
              "  .colab-df-spinner {\n",
              "    border: 2px solid var(--fill-color);\n",
              "    border-color: transparent;\n",
              "    border-bottom-color: var(--fill-color);\n",
              "    animation:\n",
              "      spin 1s steps(1) infinite;\n",
              "  }\n",
              "\n",
              "  @keyframes spin {\n",
              "    0% {\n",
              "      border-color: transparent;\n",
              "      border-bottom-color: var(--fill-color);\n",
              "      border-left-color: var(--fill-color);\n",
              "    }\n",
              "    20% {\n",
              "      border-color: transparent;\n",
              "      border-left-color: var(--fill-color);\n",
              "      border-top-color: var(--fill-color);\n",
              "    }\n",
              "    30% {\n",
              "      border-color: transparent;\n",
              "      border-left-color: var(--fill-color);\n",
              "      border-top-color: var(--fill-color);\n",
              "      border-right-color: var(--fill-color);\n",
              "    }\n",
              "    40% {\n",
              "      border-color: transparent;\n",
              "      border-right-color: var(--fill-color);\n",
              "      border-top-color: var(--fill-color);\n",
              "    }\n",
              "    60% {\n",
              "      border-color: transparent;\n",
              "      border-right-color: var(--fill-color);\n",
              "    }\n",
              "    80% {\n",
              "      border-color: transparent;\n",
              "      border-right-color: var(--fill-color);\n",
              "      border-bottom-color: var(--fill-color);\n",
              "    }\n",
              "    90% {\n",
              "      border-color: transparent;\n",
              "      border-bottom-color: var(--fill-color);\n",
              "    }\n",
              "  }\n",
              "</style>\n",
              "\n",
              "  <script>\n",
              "    async function quickchart(key) {\n",
              "      const quickchartButtonEl =\n",
              "        document.querySelector('#' + key + ' button');\n",
              "      quickchartButtonEl.disabled = true;  // To prevent multiple clicks.\n",
              "      quickchartButtonEl.classList.add('colab-df-spinner');\n",
              "      try {\n",
              "        const charts = await google.colab.kernel.invokeFunction(\n",
              "            'suggestCharts', [key], {});\n",
              "      } catch (error) {\n",
              "        console.error('Error during call to suggestCharts:', error);\n",
              "      }\n",
              "      quickchartButtonEl.classList.remove('colab-df-spinner');\n",
              "      quickchartButtonEl.classList.add('colab-df-quickchart-complete');\n",
              "    }\n",
              "    (() => {\n",
              "      let quickchartButtonEl =\n",
              "        document.querySelector('#df-dc159d07-0db1-442c-a405-eb6ab45eac9b button');\n",
              "      quickchartButtonEl.style.display =\n",
              "        google.colab.kernel.accessAllowed ? 'block' : 'none';\n",
              "    })();\n",
              "  </script>\n",
              "</div>\n",
              "    </div>\n",
              "  </div>\n"
            ],
            "application/vnd.google.colaboratory.intrinsic+json": {
              "type": "dataframe",
              "variable_name": "all_data",
              "summary": "{\n  \"name\": \"all_data\",\n  \"rows\": 1308,\n  \"fields\": [\n    {\n      \"column\": \"Survived\",\n      \"properties\": {\n        \"dtype\": \"number\",\n        \"std\": 0,\n        \"min\": 0,\n        \"max\": 1,\n        \"num_unique_values\": 2,\n        \"samples\": [\n          0,\n          1\n        ],\n        \"semantic_type\": \"\",\n        \"description\": \"\"\n      }\n    },\n    {\n      \"column\": \"Pclass\",\n      \"properties\": {\n        \"dtype\": \"number\",\n        \"std\": 0,\n        \"min\": 1,\n        \"max\": 3,\n        \"num_unique_values\": 3,\n        \"samples\": [\n          1,\n          2\n        ],\n        \"semantic_type\": \"\",\n        \"description\": \"\"\n      }\n    },\n    {\n      \"column\": \"Gender\",\n      \"properties\": {\n        \"dtype\": \"number\",\n        \"std\": 0,\n        \"min\": 0,\n        \"max\": 1,\n        \"num_unique_values\": 2,\n        \"samples\": [\n          0,\n          1\n        ],\n        \"semantic_type\": \"\",\n        \"description\": \"\"\n      }\n    },\n    {\n      \"column\": \"Age\",\n      \"properties\": {\n        \"dtype\": \"number\",\n        \"std\": 12.860241791360886,\n        \"min\": 0.1667,\n        \"max\": 80.0,\n        \"num_unique_values\": 98,\n        \"samples\": [\n          6.0,\n          64.0\n        ],\n        \"semantic_type\": \"\",\n        \"description\": \"\"\n      }\n    },\n    {\n      \"column\": \"SibSp\",\n      \"properties\": {\n        \"dtype\": \"number\",\n        \"std\": 1,\n        \"min\": 0,\n        \"max\": 8,\n        \"num_unique_values\": 7,\n        \"samples\": [\n          0,\n          1\n        ],\n        \"semantic_type\": \"\",\n        \"description\": \"\"\n      }\n    },\n    {\n      \"column\": \"Fare\",\n      \"properties\": {\n        \"dtype\": \"number\",\n        \"std\": 51.75866823917411,\n        \"min\": 0.0,\n        \"max\": 512.3292,\n        \"num_unique_values\": 281,\n        \"samples\": [\n          5.0,\n          9.35\n        ],\n        \"semantic_type\": \"\",\n        \"description\": \"\"\n      }\n    }\n  ]\n}"
            }
          },
          "metadata": {},
          "execution_count": 106
        }
      ]
    },
    {
      "cell_type": "markdown",
      "source": [
        "*Step 2: Create the input and output variables for the training and testing data.*"
      ],
      "metadata": {
        "id": "ygEUfT-TrrQC"
      }
    },
    {
      "cell_type": "markdown",
      "source": [
        "a) Designate the input variables and output variables and generate the arrays."
      ],
      "metadata": {
        "id": "sEmAb1jZrwG_"
      }
    },
    {
      "cell_type": "code",
      "source": [
        "#code cell 25\n",
        "\n",
        "#Import train_test_split() from the sklearn.model_selection libary\n",
        "from sklearn.model_selection import train_test_split\n",
        "\n",
        "#Input columns\n",
        "columns = ['Pclass', 'Gender', 'Age', 'SibSp', 'Fare']\n",
        "\n",
        "#create the input and target variables as uppercase X and lowercase y. Reuse the columns variable.\n",
        "X = all_data[list(columns)].values\n",
        "y = all_data[\"Survived\"].values\n",
        "\n",
        "#generate the four testing and training data arrays with the train_test_split() method\n",
        "X_train,X_test,y_train,y_test=train_test_split(X, y, test_size=0.40, random_state=0)"
      ],
      "metadata": {
        "id": "zhxlQEFNrz3w"
      },
      "execution_count": null,
      "outputs": []
    },
    {
      "cell_type": "markdown",
      "source": [
        "b) Train the model and fit it to the testing data.\n"
      ],
      "metadata": {
        "id": "yrmE_QZmsu0o"
      }
    },
    {
      "cell_type": "code",
      "source": [
        "#code cell 26\n",
        "#create the training decision tree object\n",
        "clf_train = tree.DecisionTreeClassifier(criterion=\"entropy\", max_depth=3)\n",
        "\n",
        "#fit the training model using the input and target variables\n",
        "clf_train = clf_train.fit(X_train, y_train)"
      ],
      "metadata": {
        "id": "l0wUfE3UsyRd"
      },
      "execution_count": null,
      "outputs": []
    },
    {
      "cell_type": "markdown",
      "source": [
        "c) Compare models by scoring each."
      ],
      "metadata": {
        "id": "1tZl7mYKs9Ss"
      }
    },
    {
      "cell_type": "code",
      "source": [
        "#code cell 27\n",
        "#score the model on the two datasets and store the scores in variables. Convert the scores to strings using str()\n",
        "train_score = str(clf_train.score(X_train,y_train))\n",
        "test_score = str(clf_train.score(X_test,y_test))\n",
        "#output the values in a test string\n",
        "print('Training score = '+ train_score+' Testing score = '+test_score)"
      ],
      "metadata": {
        "colab": {
          "base_uri": "https://localhost:8080/"
        },
        "id": "cG-Lh383s_4p",
        "outputId": "863b7066-130b-4828-eaf5-a2229f56059b"
      },
      "execution_count": null,
      "outputs": [
        {
          "output_type": "stream",
          "name": "stdout",
          "text": [
            "Training score = 0.8201530612244898 Testing score = 0.8053435114503816\n"
          ]
        }
      ]
    },
    {
      "cell_type": "markdown",
      "source": [
        "# **Conclusion**\n",
        "\n",
        "In this Hands on activity 4.1, I have learned that the importance of making your data as organized as possible. Because I learned in this activity that in the files that we were tasked to plot, some of them have missing values which will now make the plotting impossible. Because the code does not accept missing values, to solve this encountered problem we have to use now the fillna() code in order to fill the columns with the missing values. After that it is now possible to do the plotting since we have now values in the columns that were initially missing. In this activity I was able to further my knowledge about the decision tree classifier."
      ],
      "metadata": {
        "id": "41NP6myRtLmR"
      }
    }
  ]
}