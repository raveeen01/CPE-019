{
  "cells": [
    {
      "cell_type": "markdown",
      "metadata": {
        "id": "9NQKWM1YZj8G"
      },
      "source": [
        "Name: Escalicas, Peter Allen  <br>\n",
        "Course and Section: CPE019-CPE32S3 <br>\n",
        "Date of Submission: 1/31/24 <br>\n",
        "Instructor: Engr. Roman <br>\n",
        "\n",
        "### Working with Python and SQLite\n",
        "\n",
        "Objectives:<br>\n",
        "Use the sqlite3 module to interact with a SQL database.<br>\n",
        "Access data stored in SQLite using Python.<br>\n",
        "Describe the difference in interacting with data stored as a CSV file versus in SQLite.<br>\n",
        "Describe the benefits of accessing data using a database compared to a CSV file.<br>\n",
        "\n",
        "\n",
        "#### Required Resources\n",
        "1 PC with Internet access<br>\n",
        "Jupyter notebook<br>\n",
        "\n",
        "#### SQL refresh\n",
        "Very brief introduction to relational databases (temporary): http://searchsqlserver.techtarget.com/definition/relational-database</li>\n",
        "More videos on relational databases: https://www.youtube.com/watch?v=jyju2P-7hPA&list=PLAwxTw4SYaPm4R6j_wzVOCV9fJaiQDYx4</li>\n",
        "Introduction to SQL: http://www.w3schools.com/sql/sql_intro.asp</li>\n",
        "Working with SQLite via the command-line: https://www.sqlite.org/cli.html"
      ]
    },
    {
      "cell_type": "markdown",
      "metadata": {
        "id": "uCCZeVb6Zj8K"
      },
      "source": [
        "#### Part 1: Python and SQL\n",
        "When you open a CSV in python, and assign it to a variable name, you are using your computers memory to save that variable. Accessing data from a database like SQL is not only more efficient, but also it allows you to subset and import only the parts of the data that you need.\n",
        "\n",
        "<b>The sqlite3 module</b><br>\n",
        "The sqlite3 module provides a straightforward interface for interacting with SQLite databases. A connection object is created using sqlite3.connect(); the connection must be closed at the end of the session with the .close() command. While the connection is open, any interactions with the database require you to make a cursor object with the .cursor() command. The cursor is then ready to perform all kinds of operations with .execute().\n",
        "\n",
        "<b>Step 1: Create a SQL connection to our SQLite database </b><br>\n",
        "Creating a new SQLite database is as simple as creating a connection using the sqlite3 module in the Python standard library. To establish a connection all you need to do is pass a file path to the connect(...) method in the sqlite3 module, and if the database represented by the file does not exists one will be created at that path."
      ]
    },
    {
      "cell_type": "code",
      "execution_count": null,
      "metadata": {
        "id": "HRbC72U1Zj8L"
      },
      "outputs": [],
      "source": [
        "import sqlite3\n",
        "con = sqlite3.connect('sqlite.db')"
      ]
    },
    {
      "cell_type": "markdown",
      "metadata": {
        "id": "pXKo40c0Zj8M"
      },
      "source": [
        "You will find that in everyday database programming you will be constantly creating connections to your database, so it is a good idea to wrap this simple connection statement into a reusable generalized function."
      ]
    },
    {
      "cell_type": "code",
      "execution_count": null,
      "metadata": {
        "id": "Kg0-oH4jZj8M"
      },
      "outputs": [],
      "source": [
        "import os\n",
        "import sqlite3\n",
        "\n",
        "# create a default path to connect to and create (if necessary) a database\n",
        "# called 'database.sqlite3' in the same directory as this script\n",
        "DEFAULT_PATH = os.path.join('sqlite.db')\n",
        "\n",
        "def db_connect(db_path=DEFAULT_PATH):\n",
        "    con = sqlite3.connect(db_path)\n",
        "    return con"
      ]
    },
    {
      "cell_type": "markdown",
      "metadata": {
        "id": "nPAFi7GeZj8O"
      },
      "source": [
        "<b>Step 2: Create a table on the SQLite database </b><br>\n",
        "The code below creates a table on the sqlite.db database. The cursor() command is needed to make a cursor object to interact with the created database. The cursor is then ready to perform all kinds of operations with .execute(). The execute() command performs a query that creates a table using the parameters as shown. The commit() command\n",
        "\n",
        "In order to create database tables you need to have an idea of the structure of the data you are interested in storing. There are many design considerations that go into defining the tables of a relational database. To aid in the discussion of SQLite database programming with Python, we will be working off the premise that a database needs to be created for a fictitious book store that has the below data already collected on book sales.\n",
        "\n",
        "<table style=\"width:75%\">\n",
        "  <tr>\n",
        "    <th>Customer</th>\n",
        "    <th>Date</th>\n",
        "    <th>Product</th>\n",
        "      <th>Price</th>\n",
        "  </tr>\n",
        "  <tr>\n",
        "    <td>Allan Turing</td>\n",
        "    <td>2/22/1944</td>\n",
        "    <td>Introduction to Combinatorics</td>\n",
        "    <td>7.99</td>\n",
        "  </tr>\n",
        "  <tr>\n",
        "    <td>Donald Knuth</td>\n",
        "    <td>7/3/1967</td>\n",
        "    <td>A Guide to Writing Short Stories</td>\n",
        "    <td>17.99</td>\n",
        "  </tr>\n",
        "    <td>Donald Knuth</td>\n",
        "    <td>7/3/1967</td>\n",
        "    <td>Data Structures and Algorithms</td>\n",
        "    <td>11.99</td>\n",
        "   <tr>\n",
        "    <td>Edgar Codd</td>\n",
        "    <td>1/12/1969</td>\n",
        "    <td>Advanced Set Theory</td>\n",
        "    <td>16.99</td>\n",
        "  </tr>\n",
        "</table>\n",
        "Upon inspecting this data, it is evident that it contains information about customers, products, and orders. A common pattern in database design for transactional systems of this type are to break the orders into two additional tables, orders and line items (sometimes referred to as order details) to achieve greater normalization.\n",
        "\n",
        "Enter the SQL for creating the customers and products tables follows:"
      ]
    },
    {
      "cell_type": "code",
      "execution_count": null,
      "metadata": {
        "colab": {
          "base_uri": "https://localhost:8080/"
        },
        "id": "sDpNqxlFZj8Q",
        "outputId": "d7f98531-dde0-4c5a-d75b-31bdd31f2dc2"
      },
      "outputs": [
        {
          "output_type": "execute_result",
          "data": {
            "text/plain": [
              "<sqlite3.Cursor at 0x7a3c1248d340>"
            ]
          },
          "metadata": {},
          "execution_count": 3
        }
      ],
      "source": [
        "con = db_connect() # connect to the database\n",
        "cur = con.cursor() # instantiate a cursor object\n",
        "customers_sql = \"\"\"CREATE TABLE customers(id integer PRIMARY KEY, first_name text NOT NULL, last_name text NOT NULL)\"\"\"\n",
        "cur.execute(customers_sql)\n",
        "products_sql = \"\"\"CREATE TABLE products (id integer PRIMARY KEY,name text NOT NULL,price real NOT NULL)\"\"\"\n",
        "cur.execute(products_sql)"
      ]
    },
    {
      "cell_type": "markdown",
      "metadata": {
        "id": "PZp9Fu9TZj8R"
      },
      "source": [
        "The above code creates a connection object then uses it to instantiate a cursor object. The cursor object is used to execute SQL statements on the SQLite database.\n",
        "\n",
        "With the cursor created, we write the SQL to create the customers table, giving it a primary key along with a first and last name text field and assign it to a variable called customers_sql. Then we call the execute(...) method of the cursor object passing it the customers_sql variable. Similar steps were don for the products table.\n",
        "\n",
        "You can query the sqlite_master table, a built-in SQLite metadata table, to verify that the above commands were successful.\n",
        "\n",
        "To see all the tables in the currently connected database query the name column of the sqlite_master table where the type is equal to \"table\"."
      ]
    },
    {
      "cell_type": "code",
      "execution_count": null,
      "metadata": {
        "colab": {
          "base_uri": "https://localhost:8080/"
        },
        "id": "8RSx9qa6Zj8R",
        "outputId": "4210fecc-e7f6-493f-8a5e-35e13130750b"
      },
      "outputs": [
        {
          "output_type": "stream",
          "name": "stdout",
          "text": [
            "[('customers',), ('products',)]\n"
          ]
        }
      ],
      "source": [
        "cur.execute(\"SELECT name FROM sqlite_master WHERE type='table'\")\n",
        "\n",
        "print(cur.fetchall())\n"
      ]
    },
    {
      "cell_type": "markdown",
      "metadata": {
        "id": "J8-26KiGZj8S"
      },
      "source": [
        "To get a look at the schema of the tables query the sql column of the same table where the type is still \"table\" and the name is equal to \"customers\" and/or \"products\"."
      ]
    },
    {
      "cell_type": "code",
      "execution_count": null,
      "metadata": {
        "colab": {
          "base_uri": "https://localhost:8080/"
        },
        "id": "z2KoN7DuZj8T",
        "outputId": "ca20d1e4-40e6-4513-d34a-a916119dcd29"
      },
      "outputs": [
        {
          "output_type": "stream",
          "name": "stdout",
          "text": [
            "CREATE TABLE customers(id integer PRIMARY KEY, first_name text NOT NULL, last_name text NOT NULL)\n"
          ]
        }
      ],
      "source": [
        "cur.execute(\"\"\"SELECT sql FROM sqlite_master WHERE type='table'AND name='customers'\"\"\")\n",
        "print(cur.fetchone()[0])"
      ]
    },
    {
      "cell_type": "markdown",
      "metadata": {
        "id": "mfCbHmdnZj8T"
      },
      "source": [
        "The next table to define will be the orders table which associates customers to orders via a foreign key and the date of their purchase. Since SQLite does not support an actual date/time data type (or data class to be consistent with the SQLite vernacular) all dates will be represented as text values."
      ]
    },
    {
      "cell_type": "code",
      "execution_count": null,
      "metadata": {
        "colab": {
          "base_uri": "https://localhost:8080/"
        },
        "id": "jhwVZQDJZj8U",
        "outputId": "bb858d60-8bb0-42cb-b8e4-0ce852561515"
      },
      "outputs": [
        {
          "output_type": "execute_result",
          "data": {
            "text/plain": [
              "<sqlite3.Cursor at 0x7a3c1248d340>"
            ]
          },
          "metadata": {},
          "execution_count": 6
        }
      ],
      "source": [
        "orders_sql = \"\"\"\n",
        "... CREATE TABLE orders (\n",
        "...     id integer PRIMARY KEY,\n",
        "...     date text NOT NULL,\n",
        "...     customer_id integer,\n",
        "...     FOREIGN KEY (customer_id) REFERENCES customers (id))\"\"\"\n",
        "cur.execute(orders_sql)"
      ]
    },
    {
      "cell_type": "markdown",
      "metadata": {
        "id": "gZXLfWfkZj8U"
      },
      "source": [
        "The final table to define will be the line items table which gives a detailed accounting of the products in each order."
      ]
    },
    {
      "cell_type": "code",
      "execution_count": null,
      "metadata": {
        "colab": {
          "base_uri": "https://localhost:8080/"
        },
        "id": "HOPyPSX4Zj8U",
        "outputId": "406b68d0-d9aa-479d-b449-b321851cc336"
      },
      "outputs": [
        {
          "output_type": "execute_result",
          "data": {
            "text/plain": [
              "<sqlite3.Cursor at 0x7a3c1248d340>"
            ]
          },
          "metadata": {},
          "execution_count": 7
        }
      ],
      "source": [
        "lineitems_sql = \"\"\"\n",
        "... CREATE TABLE lineitems (\n",
        "...     id integer PRIMARY KEY,\n",
        "...     quantity integer NOT NULL,\n",
        "...     total real NOT NULL,\n",
        "...     product_id integer,\n",
        "...     order_id integer,\n",
        "...     FOREIGN KEY (product_id) REFERENCES products (id),\n",
        "...     FOREIGN KEY (order_id) REFERENCES orders (id))\"\"\"\n",
        "cur.execute(lineitems_sql)"
      ]
    },
    {
      "cell_type": "markdown",
      "metadata": {
        "id": "r81Ia0p5Zj8V"
      },
      "source": [
        "<b>Step 3: Loading the Data</b><br>\n",
        "In this section we will use INSERT to our sample data into the tables just created. A natural starting place would be to populate the products table first because without products we cannot have a sale and thus would not have the foreign keys to relate to the line items and orders. Looking at the sample data, we see that there are four products:\n",
        "\n",
        "1. Introduction to Combinatorics - 7.99\n",
        "2. A Guide to Writing Short Stories -17.99\n",
        "3. Data Structures and Algorithms - 11.99\n",
        "4. Advanced Set Theory - 16.99\n",
        "\n",
        "The workflow for executing INSERT statements is simply:\n",
        "\n",
        "1. Connect to the database<br>\n",
        "2. Create a cursor object<br>\n",
        "3. Write a parameterized insert SQL statement and store as a variable<br>\n",
        "4. Call the execute method on the cursor object passing it the sql variable and the values, as a tuple, to be inserted into the table<br><br>\n",
        "Given this general outline let us write some more code."
      ]
    },
    {
      "cell_type": "code",
      "execution_count": null,
      "metadata": {
        "id": "Xp_fazopZj8V"
      },
      "outputs": [],
      "source": [
        "con = db_connect()\n",
        "cur = con.cursor()\n",
        "product_sql = \"INSERT INTO products (name, price) VALUES (?, ?)\"\n",
        "cur.execute(product_sql, ('Introduction to Combinatorics', 7.99))\n",
        "cur.execute(product_sql, ('A Guide to Writing Short Stories', 17.99))\n",
        "cur.execute(product_sql, ('Data Structures and Algorithms', 11.99))\n",
        "cur.execute(product_sql, ('Advanced Set Theory', 16.99))\n",
        "con.commit()"
      ]
    },
    {
      "cell_type": "markdown",
      "metadata": {
        "id": "QjH4OI4nZj8W"
      },
      "source": [
        "The insert statement follows the standard SQL syntax except for the ? bit. The ?'s are actually placeholders in what is known as a \"parameterized query\".\n",
        "\n",
        "Parameterized queries are an important feature of essentially all database interfaces to modern high level programming languages such as the sqlite3 module in Python. This type of query serves to improve the efficiency of queries that are repeated several times. Perhaps more important, they also sanitize inputs that take the place of the ? placeholders which are passed in during the call to the execute method of the cursor object to prevent nefarious inputs leading to SQL injection."
      ]
    },
    {
      "cell_type": "markdown",
      "metadata": {
        "id": "TiH9wSicZj8W"
      },
      "source": [
        "To populate the remaining tables we are going to follow a slightly different pattern to change things up a bit. The workflow for each order, identified by a combination of customer first and last name and the purchase date, will be:\n",
        "\n",
        "1. Insert the new customer into the customers table and retrieve its primary key id\n",
        "2. Create an order entry based off the customer id and the purchase date then retrieve its primary key id\n",
        "3. For each product in the order determine its primary key id and create a line item entry associating the order and the product\n",
        "4. To make things simpler on ourselves let us do a quick look up of all our products. For now do not worry too much about the mechanics of the SELECT SQL statement as we will devote a section to it shortly."
      ]
    },
    {
      "cell_type": "code",
      "execution_count": null,
      "metadata": {
        "colab": {
          "base_uri": "https://localhost:8080/"
        },
        "id": "zk5p7Di5Zj8X",
        "outputId": "9be60f30-63e4-453e-c425-40000ddc3a24"
      },
      "outputs": [
        {
          "output_type": "stream",
          "name": "stdout",
          "text": [
            "Id   Product                            Price\n",
            "1    Introduction to Combinatorics       7.99\n",
            "2    A Guide to Writing Short Stories   17.99\n",
            "3    Data Structures and Algorithms     11.99\n",
            "4    Advanced Set Theory                16.99\n"
          ]
        }
      ],
      "source": [
        "cur.execute(\"SELECT id, name, price FROM products\")\n",
        "formatted_result = [f\"{id:<5}{name:<35}{price:>5}\" for id, name, price in cur.fetchall()]\n",
        "id, product, price = \"Id\", \"Product\", \"Price\"\n",
        "print('\\n'.join([f\"{id:<5}{product:<35}{price:>5}\"] + formatted_result))"
      ]
    },
    {
      "cell_type": "markdown",
      "metadata": {
        "id": "MpQ1gjCfZj8X"
      },
      "source": [
        "The first order was placed on Feb 22, 1944 by Alan Turing who purchased Introduction to Combinatorics for $7.99.\n",
        "\n",
        "Start by making a new customer record for Mr. Turing then determine his primary key id by accessing the lastrowid field of the cursor object."
      ]
    },
    {
      "cell_type": "code",
      "execution_count": null,
      "metadata": {
        "colab": {
          "base_uri": "https://localhost:8080/"
        },
        "id": "PUi8ZK4fZj8X",
        "outputId": "e71a6622-d6c2-40ba-f283-161c8a059d64"
      },
      "outputs": [
        {
          "output_type": "stream",
          "name": "stdout",
          "text": [
            "1\n"
          ]
        }
      ],
      "source": [
        "customer_sql = \"INSERT INTO customers (first_name, last_name) VALUES (?, ?)\"\n",
        "cur.execute(customer_sql, ('Alan', 'Turing'))\n",
        "customer_id = cur.lastrowid\n",
        "print(customer_id)\n",
        "con.commit()"
      ]
    },
    {
      "cell_type": "markdown",
      "metadata": {
        "id": "pH38m6o6Zj8Y"
      },
      "source": [
        "<b style=\"color:red;\">Task 1: Insert 3 more records on the customers table</b>\n",
        "<br>\n",
        "Insert the following records:\n",
        "1. Donald Knuth\n",
        "2. Edgar Codd\n",
        "3. Martin Forest\n"
      ]
    },
    {
      "cell_type": "code",
      "execution_count": null,
      "metadata": {
        "colab": {
          "base_uri": "https://localhost:8080/"
        },
        "id": "5vO7-ZD5Zj8Y",
        "outputId": "1d35e7bc-309f-4dfc-c38e-de815e0e6e1b"
      },
      "outputs": [
        {
          "output_type": "stream",
          "name": "stdout",
          "text": [
            "2\n",
            "3\n",
            "4\n"
          ]
        }
      ],
      "source": [
        "#code here\n",
        "\n",
        "cur.execute(customer_sql, ('Donald', 'Knuth'))\n",
        "customer_id = cur.lastrowid\n",
        "print(customer_id)\n",
        "\n",
        "cur.execute(customer_sql, ('Edgar', 'Codd'))\n",
        "customer_id = cur.lastrowid\n",
        "print(customer_id)\n",
        "\n",
        "cur.execute(customer_sql, ('Martin', 'Forest'))\n",
        "customer_id = cur.lastrowid\n",
        "print(customer_id)\n",
        "\n",
        "con.commit()"
      ]
    },
    {
      "cell_type": "markdown",
      "metadata": {
        "id": "IXFOcG4RZj8Z"
      },
      "source": [
        "We can now create an order entry, collect the new order id value and associate it to a line item entry along with the product Mr. Turing ordered."
      ]
    },
    {
      "cell_type": "code",
      "execution_count": null,
      "metadata": {
        "colab": {
          "base_uri": "https://localhost:8080/"
        },
        "id": "QQs0tMEsZj8Z",
        "outputId": "f59b8c80-eb54-4fd8-db7c-a78710300cd2"
      },
      "outputs": [
        {
          "output_type": "stream",
          "name": "stdout",
          "text": [
            "1\n"
          ]
        }
      ],
      "source": [
        "order_sql = \"INSERT INTO orders (date, customer_id) VALUES (?, ?)\"\n",
        "date = \"1944-02-22\" # ISO formatted date\n",
        "cur.execute(order_sql, (date, customer_id))\n",
        "order_id = cur.lastrowid\n",
        "print(order_id)\n",
        "con.commit()"
      ]
    },
    {
      "cell_type": "markdown",
      "metadata": {
        "id": "yVTtDJ53Zj8a"
      },
      "source": [
        "<b style=\"color:red;\">Task 2: Insert 3 more records on the orders table</b>\n",
        "<br>\n",
        "Insert the following records:\n",
        "1. for Donald Knuth, date is 7/3/1967\n",
        "2. Edgar Codd, date is 1/12/1969\n",
        "3. Martin Forest, date is 1/15/2021"
      ]
    },
    {
      "cell_type": "code",
      "execution_count": null,
      "metadata": {
        "colab": {
          "base_uri": "https://localhost:8080/"
        },
        "id": "DXxvIZ94Zj8b",
        "outputId": "7224666a-9d54-4684-d93e-3ccce9c82dbe"
      },
      "outputs": [
        {
          "output_type": "stream",
          "name": "stdout",
          "text": [
            "2\n",
            "3\n",
            "4\n"
          ]
        }
      ],
      "source": [
        "# code here\n",
        "\n",
        "date = \"1967-07-03\" # ISO formatted date\n",
        "cur.execute(order_sql, (date, customer_id))\n",
        "order_id = cur.lastrowid\n",
        "print(order_id)\n",
        "\n",
        "date = \"1969-01-12\" # ISO formatted date\n",
        "cur.execute(order_sql, (date, customer_id))\n",
        "order_id = cur.lastrowid\n",
        "print(order_id)\n",
        "\n",
        "date = \"2021-01-15\" # ISO formatted date\n",
        "cur.execute(order_sql, (date, customer_id))\n",
        "order_id = cur.lastrowid\n",
        "print(order_id)\n",
        "con.rollback()"
      ]
    },
    {
      "cell_type": "markdown",
      "metadata": {
        "id": "tfxbQ8tKZj8b"
      },
      "source": [
        "Each order can be inserted into the lineitems as shown below."
      ]
    },
    {
      "cell_type": "code",
      "execution_count": null,
      "metadata": {
        "id": "9ZUguHTBZj8b"
      },
      "outputs": [],
      "source": [
        "li_sql = \"\"\"INSERT INTO lineitems\n",
        "...       (order_id, product_id, quantity, total)\n",
        "...     VALUES (?, ?, ?, ?)\"\"\"\n",
        "product_id = 1\n",
        "cur.execute(li_sql, (order_id, 1, 1, 7.99))\n",
        "con.commit()"
      ]
    },
    {
      "cell_type": "markdown",
      "metadata": {
        "id": "zTOG2RxCZj8b"
      },
      "source": [
        "The remaining records are loaded exactly the same except for the order made to Donald Knuth, which will receive two line item entries."
      ]
    },
    {
      "cell_type": "markdown",
      "metadata": {
        "id": "0iOzUzI5Zj8b"
      },
      "source": [
        "<b style=\"color:red;\">Task 3: Insert 3 more records on the lineitems</b>\n",
        "<br>\n",
        "Insert the following records:\n",
        "1. for Donald Knuth, insert (order_id, 2, 2, 17.99)\n",
        "2. Edgar Codd, insert (order_id, 3, 3, 11.99)\n",
        "3. Martin Forest, insert (order_id, 4, 4, 10.99)"
      ]
    },
    {
      "cell_type": "code",
      "execution_count": null,
      "metadata": {
        "id": "1v_zGNIxZj8c"
      },
      "outputs": [],
      "source": [
        "#code here\n",
        "\n",
        "#Product 2\n",
        "product_id = 2\n",
        "cur.execute(li_sql, (order_id, 2, 2, 17.99))\n",
        "\n",
        "#Product 3\n",
        "product_id = 3\n",
        "cur.execute(li_sql, (order_id, 3, 3, 11.99))\n",
        "\n",
        "#Product 4\n",
        "product_id = 4\n",
        "cur.execute(li_sql, (order_id, 4, 4, 10.99))\n",
        "\n",
        "con.commit()"
      ]
    },
    {
      "cell_type": "markdown",
      "metadata": {
        "id": "cQjPdX-5Zj8c"
      },
      "source": [
        "<b>Step 3: Querying the Database</b><br>\n",
        "\n",
        "Generally the most common action performed on a database is a retrieval of some of the data stored in it via a SELECT statement. For this section, we will be demonstrating how to use the sqlite3 interface to perform simple SELECT queries.\n",
        "\n",
        "To perform a basic multirow query of the customers table you pass a SELECT statement to the execute(...) method of the cursor object. After this you can iterate over the results of the query by calling the fetchall() method of the same cursor object."
      ]
    },
    {
      "cell_type": "code",
      "execution_count": null,
      "metadata": {
        "colab": {
          "base_uri": "https://localhost:8080/"
        },
        "id": "50KYtwAyZj8d",
        "outputId": "232464dc-b479-4e52-a45a-44c010ace91c"
      },
      "outputs": [
        {
          "output_type": "stream",
          "name": "stdout",
          "text": [
            "<sqlite3.Row object at 0x7a3c124eb5e0>\n",
            "<sqlite3.Row object at 0x7a3c124e9660>\n",
            "<sqlite3.Row object at 0x7a3c124e90f0>\n",
            "<sqlite3.Row object at 0x7a3c124ebaf0>\n"
          ]
        }
      ],
      "source": [
        "cur.execute(\"SELECT * FROM customers\")\n",
        "results = cur.fetchall()\n",
        "for row in results:\n",
        "    print(row)"
      ]
    },
    {
      "cell_type": "markdown",
      "metadata": {
        "id": "Tunp7y2qZj8d"
      },
      "source": [
        "Lets say you would like to instead just retrieve one record from the database. You can do this by writing a more specific query, say for Donald Knuth's id of 2, and following that up by calling fetchone() method of the cursor object."
      ]
    },
    {
      "cell_type": "code",
      "execution_count": null,
      "metadata": {
        "colab": {
          "base_uri": "https://localhost:8080/"
        },
        "id": "t5Hzc7sFZj8d",
        "outputId": "b4e696c2-d9ba-42cc-885d-3eb433ed35f7"
      },
      "outputs": [
        {
          "output_type": "stream",
          "name": "stdout",
          "text": [
            "(2, 'Donald', 'Knuth')\n"
          ]
        }
      ],
      "source": [
        "cur.execute(\"SELECT id, first_name, last_name FROM customers WHERE id = 2\")\n",
        "result = cur.fetchone()\n",
        "print(result)"
      ]
    },
    {
      "cell_type": "markdown",
      "metadata": {
        "id": "C2FLBNrEZj8d"
      },
      "source": [
        "See how the individual row of each result is in the form of a tuple? Well while tuples are a very useful Pythonic data structure for some programming use cases many people find them a bit hindering when it comes to the task of data retrieval. It just so happens that there is a way to represent the data in a way that is perhaps more flexible to some. All you need to do is set the row_factory method of the connection object to something more suitable such as sqlite3.Row. This will give you the ability to access the individual items of a row by position or keyword value."
      ]
    },
    {
      "cell_type": "code",
      "execution_count": null,
      "metadata": {
        "colab": {
          "base_uri": "https://localhost:8080/"
        },
        "id": "QPXQn135Zj8e",
        "outputId": "8df2c279-bf6d-495b-f2b8-831379c24d2c"
      },
      "outputs": [
        {
          "output_type": "stream",
          "name": "stdout",
          "text": [
            "Customer: Alan Turing's id is 1\n"
          ]
        }
      ],
      "source": [
        "con.row_factory = sqlite3.Row\n",
        "cur = con.cursor()\n",
        "cur.execute(\"SELECT id, first_name, last_name FROM customers WHERE id = 1\")\n",
        "result = cur.fetchone()\n",
        "id, first_name, last_name = result['id'], result['first_name'], result['last_name']\n",
        "print(f\"Customer: {first_name} {last_name}'s id is {id}\")"
      ]
    },
    {
      "cell_type": "markdown",
      "metadata": {
        "id": "LAmHqtJsZj8e"
      },
      "source": [
        "<b style=\"color:red;\">Supplementary Activity:</b>\n",
        "1. Create a database and call it user.db\n",
        "2. Create a table named \"users\" and insert the following: (id int, name TEXT, email TEXT)\n",
        "3. Insert the following data: <br>\n",
        "(1, 'Jonathan','jvtaylar@gmail.com'),<br>\n",
        "(2, 'John','jonathan@gmail.com'),<br>\n",
        "(3,'cpeEncoders','encoders@gmail.com')<br>\n",
        "4. Select all data from users.\n",
        "5. Select id = 3 from users.\n",
        "6. Update user id = 3 name and set it to \"James.\"\n",
        "7. Insert the following data: (4, 'Cynthia','cynthia@gmail.com')\n",
        "8. Delete id = 4 from users.\n",
        "9. Display all contents in a formatted way."
      ]
    },
    {
      "cell_type": "code",
      "source": [
        "#1\n",
        "import os\n",
        "import sqlite3\n",
        "con = sqlite3.connect('user.db')"
      ],
      "metadata": {
        "id": "BfkcMmyOu6FR"
      },
      "execution_count": null,
      "outputs": []
    },
    {
      "cell_type": "code",
      "source": [
        "#2\n",
        "DEFAULT_PATH = os.path.join('user.db')\n",
        "\n",
        "def db_connect(db_path=DEFAULT_PATH):\n",
        "    con = sqlite3.connect(db_path)\n",
        "    return con\n",
        "\n",
        "con = db_connect() # connect to the database\n",
        "cur = con.cursor() # instantiate a cursor object\n",
        "user_sql = \"\"\"CREATE TABLE user(id integer PRIMARY KEY, name text NOT NULL, email text NOT NULL)\"\"\"\n",
        "cur.execute(user_sql)\n"
      ],
      "metadata": {
        "colab": {
          "base_uri": "https://localhost:8080/"
        },
        "id": "q-x3PNeku9Ro",
        "outputId": "7cb217d2-6c53-42b5-af37-42091f7e02c6"
      },
      "execution_count": null,
      "outputs": [
        {
          "output_type": "execute_result",
          "data": {
            "text/plain": [
              "<sqlite3.Cursor at 0x7a3bf5e52c40>"
            ]
          },
          "metadata": {},
          "execution_count": 27
        }
      ]
    },
    {
      "cell_type": "code",
      "source": [
        "#3\n",
        "cur.execute(\"SELECT name FROM sqlite_master WHERE type='table'\")\n",
        "\n",
        "print(cur.fetchall())"
      ],
      "metadata": {
        "colab": {
          "base_uri": "https://localhost:8080/"
        },
        "id": "pGTDLbIDu-sn",
        "outputId": "0c7a88fd-17b8-483a-a63d-fbc61084c640"
      },
      "execution_count": null,
      "outputs": [
        {
          "output_type": "stream",
          "name": "stdout",
          "text": [
            "[('user',)]\n"
          ]
        }
      ]
    },
    {
      "cell_type": "code",
      "source": [
        "#3\n",
        "con = db_connect()\n",
        "cur = con.cursor()\n",
        "user_sql = \"INSERT INTO user (id, name, email) VALUES (?, ?, ?)\"\n",
        "cur.execute(user_sql, ('1','Jonathan','jvtaylar@gmail.com'))\n",
        "cur.execute(user_sql, ('2','John','jonathan@gmail.com'))\n",
        "cur.execute(user_sql, ('3','cpeEncoders','encoders@gmail.com' ))\n",
        "con.commit()"
      ],
      "metadata": {
        "id": "Fn_NJNzHvBiT"
      },
      "execution_count": null,
      "outputs": []
    },
    {
      "cell_type": "code",
      "source": [
        "#4\n",
        "cur.execute(\"SELECT * FROM user\")\n",
        "results = cur.fetchall()\n",
        "for row in results:\n",
        "    print(row)"
      ],
      "metadata": {
        "colab": {
          "base_uri": "https://localhost:8080/"
        },
        "id": "iqG4YdfbvHBP",
        "outputId": "b836bcfd-8813-4194-e7f5-f0206426f49c"
      },
      "execution_count": null,
      "outputs": [
        {
          "output_type": "stream",
          "name": "stdout",
          "text": [
            "(1, 'Jonathan', 'jvtaylar@gmail.com')\n",
            "(2, 'John', 'jonathan@gmail.com')\n",
            "(3, 'cpeEncoders', 'encoders@gmail.com')\n"
          ]
        }
      ]
    },
    {
      "cell_type": "code",
      "source": [
        "#5\n",
        "cur.execute(\"SELECT id FROM user WHERE id = 3\")\n",
        "result = cur.fetchone()\n",
        "print(result)"
      ],
      "metadata": {
        "colab": {
          "base_uri": "https://localhost:8080/"
        },
        "id": "IeP8Qg2bvJWH",
        "outputId": "a514b973-91a9-4a00-fc53-53a1ee9be04b"
      },
      "execution_count": null,
      "outputs": [
        {
          "output_type": "stream",
          "name": "stdout",
          "text": [
            "(3,)\n"
          ]
        }
      ]
    },
    {
      "cell_type": "code",
      "source": [
        "#6\n",
        "cur.execute(\"UPDATE user SET name = 'James' WHERE id = 3\")\n",
        "result = cur.fetchone()\n",
        "print(result)"
      ],
      "metadata": {
        "colab": {
          "base_uri": "https://localhost:8080/"
        },
        "id": "_QRMshTOvLK2",
        "outputId": "cef49f0a-92b6-4a90-fac5-97ac014f6a69"
      },
      "execution_count": null,
      "outputs": [
        {
          "output_type": "stream",
          "name": "stdout",
          "text": [
            "None\n"
          ]
        }
      ]
    },
    {
      "cell_type": "code",
      "source": [
        "#7\n",
        "user_sql = \"INSERT INTO user (id, name, email) VALUES (?, ?, ?)\"\n",
        "cur.execute(user_sql, ('4','Cynthia','cynthia@gmail.com'))\n",
        "con.commit()"
      ],
      "metadata": {
        "id": "WlIN-yRvvMWo"
      },
      "execution_count": null,
      "outputs": []
    },
    {
      "cell_type": "code",
      "source": [
        "#7 testing\n",
        "cur.execute(\"SELECT * FROM user\")\n",
        "results = cur.fetchall()\n",
        "for row in results:\n",
        "    print(row)"
      ],
      "metadata": {
        "colab": {
          "base_uri": "https://localhost:8080/"
        },
        "id": "vO1_uhbLvc_X",
        "outputId": "ba47711c-9c46-489b-8942-e291829d34f1"
      },
      "execution_count": null,
      "outputs": [
        {
          "output_type": "stream",
          "name": "stdout",
          "text": [
            "(1, 'Jonathan', 'jvtaylar@gmail.com')\n",
            "(2, 'John', 'jonathan@gmail.com')\n",
            "(3, 'James', 'encoders@gmail.com')\n",
            "(4, 'Cynthia', 'cynthia@gmail.com')\n"
          ]
        }
      ]
    },
    {
      "cell_type": "code",
      "source": [
        "#8\n",
        "cur.execute(\"DELETE from user WHERE id = 4\")\n",
        "result = cur.fetchone()\n",
        "print(result)"
      ],
      "metadata": {
        "colab": {
          "base_uri": "https://localhost:8080/"
        },
        "id": "oIBwb0tNvOXP",
        "outputId": "7b6c5daa-fa43-4bff-9baf-c311118b70ca"
      },
      "execution_count": null,
      "outputs": [
        {
          "output_type": "stream",
          "name": "stdout",
          "text": [
            "None\n"
          ]
        }
      ]
    },
    {
      "cell_type": "code",
      "source": [
        "#9\n",
        "cur.execute(\"SELECT * FROM user\")\n",
        "results = cur.fetchall()\n",
        "for row in results:\n",
        "    print(row)"
      ],
      "metadata": {
        "colab": {
          "base_uri": "https://localhost:8080/"
        },
        "id": "QOJhaIo8vPhH",
        "outputId": "5bb0b55b-bd0c-4ed7-f733-79452e7f9719"
      },
      "execution_count": null,
      "outputs": [
        {
          "output_type": "stream",
          "name": "stdout",
          "text": [
            "(1, 'Jonathan', 'jvtaylar@gmail.com')\n",
            "(2, 'John', 'jonathan@gmail.com')\n",
            "(3, 'James', 'encoders@gmail.com')\n"
          ]
        }
      ]
    },
    {
      "cell_type": "markdown",
      "metadata": {
        "id": "unIlY6dFZj8e"
      },
      "source": [
        "<b style=\"color:red;\">Conclusions/Observations:</b>\n"
      ]
    },
    {
      "cell_type": "markdown",
      "source": [
        "From todays activity I have learned about on how to implement Sqlite using python language. I have observed that we are able to use our knowledge from our past DBMS subject, specifically the commands on how to INSERT,UPDATE and DELETE data from a database. Although I did find myself having a hardtime to recall some of the commands and some of the python functions. I did have a hard time on implementing the number 6 problem since I forgot the command to do it."
      ],
      "metadata": {
        "id": "U8ACpgPrv9cf"
      }
    }
  ],
  "metadata": {
    "kernelspec": {
      "display_name": "Python 3",
      "language": "python",
      "name": "python3"
    },
    "language_info": {
      "codemirror_mode": {
        "name": "ipython",
        "version": 3
      },
      "file_extension": ".py",
      "mimetype": "text/x-python",
      "name": "python",
      "nbconvert_exporter": "python",
      "pygments_lexer": "ipython3",
      "version": "3.7.7"
    },
    "colab": {
      "provenance": []
    }
  },
  "nbformat": 4,
  "nbformat_minor": 0
}