{
  "nbformat": 4,
  "nbformat_minor": 0,
  "metadata": {
    "colab": {
      "provenance": []
    },
    "kernelspec": {
      "name": "python3",
      "display_name": "Python 3"
    },
    "language_info": {
      "name": "python"
    }
  },
  "cells": [
    {
      "cell_type": "markdown",
      "source": [
        "**Name: Escalicas Peter Allen**\n",
        "\n",
        "**Section: BSCPE32S3**\n",
        "\n",
        "**Date Of Submission: March 26, 2024**\n",
        "\n",
        "**Activity: Assignment 5.2 Multilayer Perceptron **"
      ],
      "metadata": {
        "id": "r8ere8o1d1fb"
      }
    },
    {
      "cell_type": "markdown",
      "source": [
        "# Explain the problem you are trying to solve:\n",
        "\n",
        "The problem that I am trying to solve with my dataset is that to determine whether a patient survived or is deceased at a time of about 9 days after collecting their medical record at the hospital.\n"
      ],
      "metadata": {
        "id": "lQFBuesuFd7C"
      }
    },
    {
      "cell_type": "markdown",
      "source": [
        "# Importing Libraries"
      ],
      "metadata": {
        "id": "T_le91PXeZdt"
      }
    },
    {
      "cell_type": "code",
      "execution_count": 117,
      "metadata": {
        "id": "Yaqeq-KjdLzt"
      },
      "outputs": [],
      "source": [
        "#importing the libraries and checking if there are null values\n",
        "#https://archive.ics.uci.edu/dataset/827/sepsis+survival+minimal+clinical+records link for my dataset\n",
        "import pandas as pd\n",
        "import seaborn as sns\n",
        "import tensorflow as tf\n",
        "import sklearn\n",
        "import matplotlib.pyplot as plt\n",
        "from sklearn.model_selection import train_test_split\n",
        "from sklearn.preprocessing import MinMaxScaler"
      ]
    },
    {
      "cell_type": "markdown",
      "source": [
        "# Loading of Dataset"
      ],
      "metadata": {
        "id": "eiqmn1MZegof"
      }
    },
    {
      "cell_type": "code",
      "source": [
        "#loading of Dataset and checking of data types.\n",
        "sepsis = pd.read_csv('/content/sepsis2.csv')\n",
        "print(sepsis.info())"
      ],
      "metadata": {
        "colab": {
          "base_uri": "https://localhost:8080/"
        },
        "id": "yiHs82bOej5B",
        "outputId": "b0fea7fb-3aee-462b-8cf7-7a4d1d67e282"
      },
      "execution_count": 118,
      "outputs": [
        {
          "output_type": "stream",
          "name": "stdout",
          "text": [
            "<class 'pandas.core.frame.DataFrame'>\n",
            "RangeIndex: 19051 entries, 0 to 19050\n",
            "Data columns (total 4 columns):\n",
            " #   Column                         Non-Null Count  Dtype\n",
            "---  ------                         --------------  -----\n",
            " 0   age_years                      19051 non-null  int64\n",
            " 1   sex_0male_1female              19051 non-null  int64\n",
            " 2   episode_number                 19051 non-null  int64\n",
            " 3   hospital_outcome_1alive_0dead  19051 non-null  int64\n",
            "dtypes: int64(4)\n",
            "memory usage: 595.5 KB\n",
            "None\n"
          ]
        }
      ]
    },
    {
      "cell_type": "markdown",
      "source": [
        "Observation:\n",
        "\n",
        "I checked first the dataset if there are null values, As we can see by the print above there are no null values in my dataset."
      ],
      "metadata": {
        "id": "_D05MKr3dxbg"
      }
    },
    {
      "cell_type": "code",
      "source": [
        "#finding of Null Values\n",
        "sepsis.isnull().sum()"
      ],
      "metadata": {
        "colab": {
          "base_uri": "https://localhost:8080/"
        },
        "id": "yjGPI-TcdZ8T",
        "outputId": "9e350ccf-fe1c-4c95-c661-27a03a6e0240"
      },
      "execution_count": 119,
      "outputs": [
        {
          "output_type": "execute_result",
          "data": {
            "text/plain": [
              "age_years                        0\n",
              "sex_0male_1female                0\n",
              "episode_number                   0\n",
              "hospital_outcome_1alive_0dead    0\n",
              "dtype: int64"
            ]
          },
          "metadata": {},
          "execution_count": 119
        }
      ]
    },
    {
      "cell_type": "markdown",
      "source": [
        "Observation:\n",
        "\n",
        "To be extra sure, I did a double checking on null values and thankfully there aren't null values in my dataset."
      ],
      "metadata": {
        "id": "NgNlX1J7djwI"
      }
    },
    {
      "cell_type": "code",
      "source": [
        "#Cheking if the Dataset is loading\n",
        "sepsis.head()"
      ],
      "metadata": {
        "colab": {
          "base_uri": "https://localhost:8080/",
          "height": 206
        },
        "id": "baK25CuKawuR",
        "outputId": "799307a9-3e4f-4d06-cfb5-bba75832efc1"
      },
      "execution_count": 120,
      "outputs": [
        {
          "output_type": "execute_result",
          "data": {
            "text/plain": [
              "   age_years  sex_0male_1female  episode_number  hospital_outcome_1alive_0dead\n",
              "0          7                  1               1                              1\n",
              "1         17                  0               2                              1\n",
              "2         70                  0               1                              1\n",
              "3         76                  0               1                              1\n",
              "4          8                  0               1                              1"
            ],
            "text/html": [
              "\n",
              "  <div id=\"df-85d7fd4b-36c9-4540-8a41-9bd5f39938f6\" class=\"colab-df-container\">\n",
              "    <div>\n",
              "<style scoped>\n",
              "    .dataframe tbody tr th:only-of-type {\n",
              "        vertical-align: middle;\n",
              "    }\n",
              "\n",
              "    .dataframe tbody tr th {\n",
              "        vertical-align: top;\n",
              "    }\n",
              "\n",
              "    .dataframe thead th {\n",
              "        text-align: right;\n",
              "    }\n",
              "</style>\n",
              "<table border=\"1\" class=\"dataframe\">\n",
              "  <thead>\n",
              "    <tr style=\"text-align: right;\">\n",
              "      <th></th>\n",
              "      <th>age_years</th>\n",
              "      <th>sex_0male_1female</th>\n",
              "      <th>episode_number</th>\n",
              "      <th>hospital_outcome_1alive_0dead</th>\n",
              "    </tr>\n",
              "  </thead>\n",
              "  <tbody>\n",
              "    <tr>\n",
              "      <th>0</th>\n",
              "      <td>7</td>\n",
              "      <td>1</td>\n",
              "      <td>1</td>\n",
              "      <td>1</td>\n",
              "    </tr>\n",
              "    <tr>\n",
              "      <th>1</th>\n",
              "      <td>17</td>\n",
              "      <td>0</td>\n",
              "      <td>2</td>\n",
              "      <td>1</td>\n",
              "    </tr>\n",
              "    <tr>\n",
              "      <th>2</th>\n",
              "      <td>70</td>\n",
              "      <td>0</td>\n",
              "      <td>1</td>\n",
              "      <td>1</td>\n",
              "    </tr>\n",
              "    <tr>\n",
              "      <th>3</th>\n",
              "      <td>76</td>\n",
              "      <td>0</td>\n",
              "      <td>1</td>\n",
              "      <td>1</td>\n",
              "    </tr>\n",
              "    <tr>\n",
              "      <th>4</th>\n",
              "      <td>8</td>\n",
              "      <td>0</td>\n",
              "      <td>1</td>\n",
              "      <td>1</td>\n",
              "    </tr>\n",
              "  </tbody>\n",
              "</table>\n",
              "</div>\n",
              "    <div class=\"colab-df-buttons\">\n",
              "\n",
              "  <div class=\"colab-df-container\">\n",
              "    <button class=\"colab-df-convert\" onclick=\"convertToInteractive('df-85d7fd4b-36c9-4540-8a41-9bd5f39938f6')\"\n",
              "            title=\"Convert this dataframe to an interactive table.\"\n",
              "            style=\"display:none;\">\n",
              "\n",
              "  <svg xmlns=\"http://www.w3.org/2000/svg\" height=\"24px\" viewBox=\"0 -960 960 960\">\n",
              "    <path d=\"M120-120v-720h720v720H120Zm60-500h600v-160H180v160Zm220 220h160v-160H400v160Zm0 220h160v-160H400v160ZM180-400h160v-160H180v160Zm440 0h160v-160H620v160ZM180-180h160v-160H180v160Zm440 0h160v-160H620v160Z\"/>\n",
              "  </svg>\n",
              "    </button>\n",
              "\n",
              "  <style>\n",
              "    .colab-df-container {\n",
              "      display:flex;\n",
              "      gap: 12px;\n",
              "    }\n",
              "\n",
              "    .colab-df-convert {\n",
              "      background-color: #E8F0FE;\n",
              "      border: none;\n",
              "      border-radius: 50%;\n",
              "      cursor: pointer;\n",
              "      display: none;\n",
              "      fill: #1967D2;\n",
              "      height: 32px;\n",
              "      padding: 0 0 0 0;\n",
              "      width: 32px;\n",
              "    }\n",
              "\n",
              "    .colab-df-convert:hover {\n",
              "      background-color: #E2EBFA;\n",
              "      box-shadow: 0px 1px 2px rgba(60, 64, 67, 0.3), 0px 1px 3px 1px rgba(60, 64, 67, 0.15);\n",
              "      fill: #174EA6;\n",
              "    }\n",
              "\n",
              "    .colab-df-buttons div {\n",
              "      margin-bottom: 4px;\n",
              "    }\n",
              "\n",
              "    [theme=dark] .colab-df-convert {\n",
              "      background-color: #3B4455;\n",
              "      fill: #D2E3FC;\n",
              "    }\n",
              "\n",
              "    [theme=dark] .colab-df-convert:hover {\n",
              "      background-color: #434B5C;\n",
              "      box-shadow: 0px 1px 3px 1px rgba(0, 0, 0, 0.15);\n",
              "      filter: drop-shadow(0px 1px 2px rgba(0, 0, 0, 0.3));\n",
              "      fill: #FFFFFF;\n",
              "    }\n",
              "  </style>\n",
              "\n",
              "    <script>\n",
              "      const buttonEl =\n",
              "        document.querySelector('#df-85d7fd4b-36c9-4540-8a41-9bd5f39938f6 button.colab-df-convert');\n",
              "      buttonEl.style.display =\n",
              "        google.colab.kernel.accessAllowed ? 'block' : 'none';\n",
              "\n",
              "      async function convertToInteractive(key) {\n",
              "        const element = document.querySelector('#df-85d7fd4b-36c9-4540-8a41-9bd5f39938f6');\n",
              "        const dataTable =\n",
              "          await google.colab.kernel.invokeFunction('convertToInteractive',\n",
              "                                                    [key], {});\n",
              "        if (!dataTable) return;\n",
              "\n",
              "        const docLinkHtml = 'Like what you see? Visit the ' +\n",
              "          '<a target=\"_blank\" href=https://colab.research.google.com/notebooks/data_table.ipynb>data table notebook</a>'\n",
              "          + ' to learn more about interactive tables.';\n",
              "        element.innerHTML = '';\n",
              "        dataTable['output_type'] = 'display_data';\n",
              "        await google.colab.output.renderOutput(dataTable, element);\n",
              "        const docLink = document.createElement('div');\n",
              "        docLink.innerHTML = docLinkHtml;\n",
              "        element.appendChild(docLink);\n",
              "      }\n",
              "    </script>\n",
              "  </div>\n",
              "\n",
              "\n",
              "<div id=\"df-139620d8-029b-4688-b6a0-22e9e1814002\">\n",
              "  <button class=\"colab-df-quickchart\" onclick=\"quickchart('df-139620d8-029b-4688-b6a0-22e9e1814002')\"\n",
              "            title=\"Suggest charts\"\n",
              "            style=\"display:none;\">\n",
              "\n",
              "<svg xmlns=\"http://www.w3.org/2000/svg\" height=\"24px\"viewBox=\"0 0 24 24\"\n",
              "     width=\"24px\">\n",
              "    <g>\n",
              "        <path d=\"M19 3H5c-1.1 0-2 .9-2 2v14c0 1.1.9 2 2 2h14c1.1 0 2-.9 2-2V5c0-1.1-.9-2-2-2zM9 17H7v-7h2v7zm4 0h-2V7h2v10zm4 0h-2v-4h2v4z\"/>\n",
              "    </g>\n",
              "</svg>\n",
              "  </button>\n",
              "\n",
              "<style>\n",
              "  .colab-df-quickchart {\n",
              "      --bg-color: #E8F0FE;\n",
              "      --fill-color: #1967D2;\n",
              "      --hover-bg-color: #E2EBFA;\n",
              "      --hover-fill-color: #174EA6;\n",
              "      --disabled-fill-color: #AAA;\n",
              "      --disabled-bg-color: #DDD;\n",
              "  }\n",
              "\n",
              "  [theme=dark] .colab-df-quickchart {\n",
              "      --bg-color: #3B4455;\n",
              "      --fill-color: #D2E3FC;\n",
              "      --hover-bg-color: #434B5C;\n",
              "      --hover-fill-color: #FFFFFF;\n",
              "      --disabled-bg-color: #3B4455;\n",
              "      --disabled-fill-color: #666;\n",
              "  }\n",
              "\n",
              "  .colab-df-quickchart {\n",
              "    background-color: var(--bg-color);\n",
              "    border: none;\n",
              "    border-radius: 50%;\n",
              "    cursor: pointer;\n",
              "    display: none;\n",
              "    fill: var(--fill-color);\n",
              "    height: 32px;\n",
              "    padding: 0;\n",
              "    width: 32px;\n",
              "  }\n",
              "\n",
              "  .colab-df-quickchart:hover {\n",
              "    background-color: var(--hover-bg-color);\n",
              "    box-shadow: 0 1px 2px rgba(60, 64, 67, 0.3), 0 1px 3px 1px rgba(60, 64, 67, 0.15);\n",
              "    fill: var(--button-hover-fill-color);\n",
              "  }\n",
              "\n",
              "  .colab-df-quickchart-complete:disabled,\n",
              "  .colab-df-quickchart-complete:disabled:hover {\n",
              "    background-color: var(--disabled-bg-color);\n",
              "    fill: var(--disabled-fill-color);\n",
              "    box-shadow: none;\n",
              "  }\n",
              "\n",
              "  .colab-df-spinner {\n",
              "    border: 2px solid var(--fill-color);\n",
              "    border-color: transparent;\n",
              "    border-bottom-color: var(--fill-color);\n",
              "    animation:\n",
              "      spin 1s steps(1) infinite;\n",
              "  }\n",
              "\n",
              "  @keyframes spin {\n",
              "    0% {\n",
              "      border-color: transparent;\n",
              "      border-bottom-color: var(--fill-color);\n",
              "      border-left-color: var(--fill-color);\n",
              "    }\n",
              "    20% {\n",
              "      border-color: transparent;\n",
              "      border-left-color: var(--fill-color);\n",
              "      border-top-color: var(--fill-color);\n",
              "    }\n",
              "    30% {\n",
              "      border-color: transparent;\n",
              "      border-left-color: var(--fill-color);\n",
              "      border-top-color: var(--fill-color);\n",
              "      border-right-color: var(--fill-color);\n",
              "    }\n",
              "    40% {\n",
              "      border-color: transparent;\n",
              "      border-right-color: var(--fill-color);\n",
              "      border-top-color: var(--fill-color);\n",
              "    }\n",
              "    60% {\n",
              "      border-color: transparent;\n",
              "      border-right-color: var(--fill-color);\n",
              "    }\n",
              "    80% {\n",
              "      border-color: transparent;\n",
              "      border-right-color: var(--fill-color);\n",
              "      border-bottom-color: var(--fill-color);\n",
              "    }\n",
              "    90% {\n",
              "      border-color: transparent;\n",
              "      border-bottom-color: var(--fill-color);\n",
              "    }\n",
              "  }\n",
              "</style>\n",
              "\n",
              "  <script>\n",
              "    async function quickchart(key) {\n",
              "      const quickchartButtonEl =\n",
              "        document.querySelector('#' + key + ' button');\n",
              "      quickchartButtonEl.disabled = true;  // To prevent multiple clicks.\n",
              "      quickchartButtonEl.classList.add('colab-df-spinner');\n",
              "      try {\n",
              "        const charts = await google.colab.kernel.invokeFunction(\n",
              "            'suggestCharts', [key], {});\n",
              "      } catch (error) {\n",
              "        console.error('Error during call to suggestCharts:', error);\n",
              "      }\n",
              "      quickchartButtonEl.classList.remove('colab-df-spinner');\n",
              "      quickchartButtonEl.classList.add('colab-df-quickchart-complete');\n",
              "    }\n",
              "    (() => {\n",
              "      let quickchartButtonEl =\n",
              "        document.querySelector('#df-139620d8-029b-4688-b6a0-22e9e1814002 button');\n",
              "      quickchartButtonEl.style.display =\n",
              "        google.colab.kernel.accessAllowed ? 'block' : 'none';\n",
              "    })();\n",
              "  </script>\n",
              "</div>\n",
              "    </div>\n",
              "  </div>\n"
            ],
            "application/vnd.google.colaboratory.intrinsic+json": {
              "type": "dataframe",
              "variable_name": "sepsis",
              "summary": "{\n  \"name\": \"sepsis\",\n  \"rows\": 19051,\n  \"fields\": [\n    {\n      \"column\": \"age_years\",\n      \"properties\": {\n        \"dtype\": \"number\",\n        \"std\": 18,\n        \"min\": 0,\n        \"max\": 100,\n        \"num_unique_values\": 101,\n        \"samples\": [\n          43,\n          57,\n          22\n        ],\n        \"semantic_type\": \"\",\n        \"description\": \"\"\n      }\n    },\n    {\n      \"column\": \"sex_0male_1female\",\n      \"properties\": {\n        \"dtype\": \"number\",\n        \"std\": 0,\n        \"min\": 0,\n        \"max\": 1,\n        \"num_unique_values\": 2,\n        \"samples\": [\n          0,\n          1\n        ],\n        \"semantic_type\": \"\",\n        \"description\": \"\"\n      }\n    },\n    {\n      \"column\": \"episode_number\",\n      \"properties\": {\n        \"dtype\": \"number\",\n        \"std\": 0,\n        \"min\": 1,\n        \"max\": 5,\n        \"num_unique_values\": 5,\n        \"samples\": [\n          2,\n          5\n        ],\n        \"semantic_type\": \"\",\n        \"description\": \"\"\n      }\n    },\n    {\n      \"column\": \"hospital_outcome_1alive_0dead\",\n      \"properties\": {\n        \"dtype\": \"number\",\n        \"std\": 0,\n        \"min\": 0,\n        \"max\": 1,\n        \"num_unique_values\": 2,\n        \"samples\": [\n          0,\n          1\n        ],\n        \"semantic_type\": \"\",\n        \"description\": \"\"\n      }\n    }\n  ]\n}"
            }
          },
          "metadata": {},
          "execution_count": 120
        }
      ]
    },
    {
      "cell_type": "markdown",
      "source": [
        "Observation:\n",
        "\n",
        "As we can observe, the dataset is loading and working perfectly fine as I run the .head which outputs the first 5 entries."
      ],
      "metadata": {
        "id": "1YLKgY9hbQcv"
      }
    },
    {
      "cell_type": "code",
      "source": [
        "#Describing the Dataset\n",
        "sepsis.describe()"
      ],
      "metadata": {
        "colab": {
          "base_uri": "https://localhost:8080/",
          "height": 300
        },
        "id": "u1vi2H4DbdC8",
        "outputId": "0fcc011b-3ecd-414d-d213-0c6069ba91c4"
      },
      "execution_count": 94,
      "outputs": [
        {
          "output_type": "execute_result",
          "data": {
            "text/plain": [
              "          age_years  sex_0male_1female  episode_number  \\\n",
              "count  19051.000000       19051.000000    19051.000000   \n",
              "mean      72.503228           0.448585        1.396252   \n",
              "std       18.614470           0.497363        0.783749   \n",
              "min        0.000000           0.000000        1.000000   \n",
              "25%       65.000000           0.000000        1.000000   \n",
              "50%       77.000000           0.000000        1.000000   \n",
              "75%       85.000000           1.000000        2.000000   \n",
              "max      100.000000           1.000000        5.000000   \n",
              "\n",
              "       hospital_outcome_1alive_0dead  \n",
              "count                   19051.000000  \n",
              "mean                        0.810719  \n",
              "std                         0.391742  \n",
              "min                         0.000000  \n",
              "25%                         1.000000  \n",
              "50%                         1.000000  \n",
              "75%                         1.000000  \n",
              "max                         1.000000  "
            ],
            "text/html": [
              "\n",
              "  <div id=\"df-06dcd30f-df73-40eb-abdb-75c90b1a2535\" class=\"colab-df-container\">\n",
              "    <div>\n",
              "<style scoped>\n",
              "    .dataframe tbody tr th:only-of-type {\n",
              "        vertical-align: middle;\n",
              "    }\n",
              "\n",
              "    .dataframe tbody tr th {\n",
              "        vertical-align: top;\n",
              "    }\n",
              "\n",
              "    .dataframe thead th {\n",
              "        text-align: right;\n",
              "    }\n",
              "</style>\n",
              "<table border=\"1\" class=\"dataframe\">\n",
              "  <thead>\n",
              "    <tr style=\"text-align: right;\">\n",
              "      <th></th>\n",
              "      <th>age_years</th>\n",
              "      <th>sex_0male_1female</th>\n",
              "      <th>episode_number</th>\n",
              "      <th>hospital_outcome_1alive_0dead</th>\n",
              "    </tr>\n",
              "  </thead>\n",
              "  <tbody>\n",
              "    <tr>\n",
              "      <th>count</th>\n",
              "      <td>19051.000000</td>\n",
              "      <td>19051.000000</td>\n",
              "      <td>19051.000000</td>\n",
              "      <td>19051.000000</td>\n",
              "    </tr>\n",
              "    <tr>\n",
              "      <th>mean</th>\n",
              "      <td>72.503228</td>\n",
              "      <td>0.448585</td>\n",
              "      <td>1.396252</td>\n",
              "      <td>0.810719</td>\n",
              "    </tr>\n",
              "    <tr>\n",
              "      <th>std</th>\n",
              "      <td>18.614470</td>\n",
              "      <td>0.497363</td>\n",
              "      <td>0.783749</td>\n",
              "      <td>0.391742</td>\n",
              "    </tr>\n",
              "    <tr>\n",
              "      <th>min</th>\n",
              "      <td>0.000000</td>\n",
              "      <td>0.000000</td>\n",
              "      <td>1.000000</td>\n",
              "      <td>0.000000</td>\n",
              "    </tr>\n",
              "    <tr>\n",
              "      <th>25%</th>\n",
              "      <td>65.000000</td>\n",
              "      <td>0.000000</td>\n",
              "      <td>1.000000</td>\n",
              "      <td>1.000000</td>\n",
              "    </tr>\n",
              "    <tr>\n",
              "      <th>50%</th>\n",
              "      <td>77.000000</td>\n",
              "      <td>0.000000</td>\n",
              "      <td>1.000000</td>\n",
              "      <td>1.000000</td>\n",
              "    </tr>\n",
              "    <tr>\n",
              "      <th>75%</th>\n",
              "      <td>85.000000</td>\n",
              "      <td>1.000000</td>\n",
              "      <td>2.000000</td>\n",
              "      <td>1.000000</td>\n",
              "    </tr>\n",
              "    <tr>\n",
              "      <th>max</th>\n",
              "      <td>100.000000</td>\n",
              "      <td>1.000000</td>\n",
              "      <td>5.000000</td>\n",
              "      <td>1.000000</td>\n",
              "    </tr>\n",
              "  </tbody>\n",
              "</table>\n",
              "</div>\n",
              "    <div class=\"colab-df-buttons\">\n",
              "\n",
              "  <div class=\"colab-df-container\">\n",
              "    <button class=\"colab-df-convert\" onclick=\"convertToInteractive('df-06dcd30f-df73-40eb-abdb-75c90b1a2535')\"\n",
              "            title=\"Convert this dataframe to an interactive table.\"\n",
              "            style=\"display:none;\">\n",
              "\n",
              "  <svg xmlns=\"http://www.w3.org/2000/svg\" height=\"24px\" viewBox=\"0 -960 960 960\">\n",
              "    <path d=\"M120-120v-720h720v720H120Zm60-500h600v-160H180v160Zm220 220h160v-160H400v160Zm0 220h160v-160H400v160ZM180-400h160v-160H180v160Zm440 0h160v-160H620v160ZM180-180h160v-160H180v160Zm440 0h160v-160H620v160Z\"/>\n",
              "  </svg>\n",
              "    </button>\n",
              "\n",
              "  <style>\n",
              "    .colab-df-container {\n",
              "      display:flex;\n",
              "      gap: 12px;\n",
              "    }\n",
              "\n",
              "    .colab-df-convert {\n",
              "      background-color: #E8F0FE;\n",
              "      border: none;\n",
              "      border-radius: 50%;\n",
              "      cursor: pointer;\n",
              "      display: none;\n",
              "      fill: #1967D2;\n",
              "      height: 32px;\n",
              "      padding: 0 0 0 0;\n",
              "      width: 32px;\n",
              "    }\n",
              "\n",
              "    .colab-df-convert:hover {\n",
              "      background-color: #E2EBFA;\n",
              "      box-shadow: 0px 1px 2px rgba(60, 64, 67, 0.3), 0px 1px 3px 1px rgba(60, 64, 67, 0.15);\n",
              "      fill: #174EA6;\n",
              "    }\n",
              "\n",
              "    .colab-df-buttons div {\n",
              "      margin-bottom: 4px;\n",
              "    }\n",
              "\n",
              "    [theme=dark] .colab-df-convert {\n",
              "      background-color: #3B4455;\n",
              "      fill: #D2E3FC;\n",
              "    }\n",
              "\n",
              "    [theme=dark] .colab-df-convert:hover {\n",
              "      background-color: #434B5C;\n",
              "      box-shadow: 0px 1px 3px 1px rgba(0, 0, 0, 0.15);\n",
              "      filter: drop-shadow(0px 1px 2px rgba(0, 0, 0, 0.3));\n",
              "      fill: #FFFFFF;\n",
              "    }\n",
              "  </style>\n",
              "\n",
              "    <script>\n",
              "      const buttonEl =\n",
              "        document.querySelector('#df-06dcd30f-df73-40eb-abdb-75c90b1a2535 button.colab-df-convert');\n",
              "      buttonEl.style.display =\n",
              "        google.colab.kernel.accessAllowed ? 'block' : 'none';\n",
              "\n",
              "      async function convertToInteractive(key) {\n",
              "        const element = document.querySelector('#df-06dcd30f-df73-40eb-abdb-75c90b1a2535');\n",
              "        const dataTable =\n",
              "          await google.colab.kernel.invokeFunction('convertToInteractive',\n",
              "                                                    [key], {});\n",
              "        if (!dataTable) return;\n",
              "\n",
              "        const docLinkHtml = 'Like what you see? Visit the ' +\n",
              "          '<a target=\"_blank\" href=https://colab.research.google.com/notebooks/data_table.ipynb>data table notebook</a>'\n",
              "          + ' to learn more about interactive tables.';\n",
              "        element.innerHTML = '';\n",
              "        dataTable['output_type'] = 'display_data';\n",
              "        await google.colab.output.renderOutput(dataTable, element);\n",
              "        const docLink = document.createElement('div');\n",
              "        docLink.innerHTML = docLinkHtml;\n",
              "        element.appendChild(docLink);\n",
              "      }\n",
              "    </script>\n",
              "  </div>\n",
              "\n",
              "\n",
              "<div id=\"df-f9d6ca47-3536-4e5c-8f39-c6fc39004f7c\">\n",
              "  <button class=\"colab-df-quickchart\" onclick=\"quickchart('df-f9d6ca47-3536-4e5c-8f39-c6fc39004f7c')\"\n",
              "            title=\"Suggest charts\"\n",
              "            style=\"display:none;\">\n",
              "\n",
              "<svg xmlns=\"http://www.w3.org/2000/svg\" height=\"24px\"viewBox=\"0 0 24 24\"\n",
              "     width=\"24px\">\n",
              "    <g>\n",
              "        <path d=\"M19 3H5c-1.1 0-2 .9-2 2v14c0 1.1.9 2 2 2h14c1.1 0 2-.9 2-2V5c0-1.1-.9-2-2-2zM9 17H7v-7h2v7zm4 0h-2V7h2v10zm4 0h-2v-4h2v4z\"/>\n",
              "    </g>\n",
              "</svg>\n",
              "  </button>\n",
              "\n",
              "<style>\n",
              "  .colab-df-quickchart {\n",
              "      --bg-color: #E8F0FE;\n",
              "      --fill-color: #1967D2;\n",
              "      --hover-bg-color: #E2EBFA;\n",
              "      --hover-fill-color: #174EA6;\n",
              "      --disabled-fill-color: #AAA;\n",
              "      --disabled-bg-color: #DDD;\n",
              "  }\n",
              "\n",
              "  [theme=dark] .colab-df-quickchart {\n",
              "      --bg-color: #3B4455;\n",
              "      --fill-color: #D2E3FC;\n",
              "      --hover-bg-color: #434B5C;\n",
              "      --hover-fill-color: #FFFFFF;\n",
              "      --disabled-bg-color: #3B4455;\n",
              "      --disabled-fill-color: #666;\n",
              "  }\n",
              "\n",
              "  .colab-df-quickchart {\n",
              "    background-color: var(--bg-color);\n",
              "    border: none;\n",
              "    border-radius: 50%;\n",
              "    cursor: pointer;\n",
              "    display: none;\n",
              "    fill: var(--fill-color);\n",
              "    height: 32px;\n",
              "    padding: 0;\n",
              "    width: 32px;\n",
              "  }\n",
              "\n",
              "  .colab-df-quickchart:hover {\n",
              "    background-color: var(--hover-bg-color);\n",
              "    box-shadow: 0 1px 2px rgba(60, 64, 67, 0.3), 0 1px 3px 1px rgba(60, 64, 67, 0.15);\n",
              "    fill: var(--button-hover-fill-color);\n",
              "  }\n",
              "\n",
              "  .colab-df-quickchart-complete:disabled,\n",
              "  .colab-df-quickchart-complete:disabled:hover {\n",
              "    background-color: var(--disabled-bg-color);\n",
              "    fill: var(--disabled-fill-color);\n",
              "    box-shadow: none;\n",
              "  }\n",
              "\n",
              "  .colab-df-spinner {\n",
              "    border: 2px solid var(--fill-color);\n",
              "    border-color: transparent;\n",
              "    border-bottom-color: var(--fill-color);\n",
              "    animation:\n",
              "      spin 1s steps(1) infinite;\n",
              "  }\n",
              "\n",
              "  @keyframes spin {\n",
              "    0% {\n",
              "      border-color: transparent;\n",
              "      border-bottom-color: var(--fill-color);\n",
              "      border-left-color: var(--fill-color);\n",
              "    }\n",
              "    20% {\n",
              "      border-color: transparent;\n",
              "      border-left-color: var(--fill-color);\n",
              "      border-top-color: var(--fill-color);\n",
              "    }\n",
              "    30% {\n",
              "      border-color: transparent;\n",
              "      border-left-color: var(--fill-color);\n",
              "      border-top-color: var(--fill-color);\n",
              "      border-right-color: var(--fill-color);\n",
              "    }\n",
              "    40% {\n",
              "      border-color: transparent;\n",
              "      border-right-color: var(--fill-color);\n",
              "      border-top-color: var(--fill-color);\n",
              "    }\n",
              "    60% {\n",
              "      border-color: transparent;\n",
              "      border-right-color: var(--fill-color);\n",
              "    }\n",
              "    80% {\n",
              "      border-color: transparent;\n",
              "      border-right-color: var(--fill-color);\n",
              "      border-bottom-color: var(--fill-color);\n",
              "    }\n",
              "    90% {\n",
              "      border-color: transparent;\n",
              "      border-bottom-color: var(--fill-color);\n",
              "    }\n",
              "  }\n",
              "</style>\n",
              "\n",
              "  <script>\n",
              "    async function quickchart(key) {\n",
              "      const quickchartButtonEl =\n",
              "        document.querySelector('#' + key + ' button');\n",
              "      quickchartButtonEl.disabled = true;  // To prevent multiple clicks.\n",
              "      quickchartButtonEl.classList.add('colab-df-spinner');\n",
              "      try {\n",
              "        const charts = await google.colab.kernel.invokeFunction(\n",
              "            'suggestCharts', [key], {});\n",
              "      } catch (error) {\n",
              "        console.error('Error during call to suggestCharts:', error);\n",
              "      }\n",
              "      quickchartButtonEl.classList.remove('colab-df-spinner');\n",
              "      quickchartButtonEl.classList.add('colab-df-quickchart-complete');\n",
              "    }\n",
              "    (() => {\n",
              "      let quickchartButtonEl =\n",
              "        document.querySelector('#df-f9d6ca47-3536-4e5c-8f39-c6fc39004f7c button');\n",
              "      quickchartButtonEl.style.display =\n",
              "        google.colab.kernel.accessAllowed ? 'block' : 'none';\n",
              "    })();\n",
              "  </script>\n",
              "</div>\n",
              "    </div>\n",
              "  </div>\n"
            ],
            "application/vnd.google.colaboratory.intrinsic+json": {
              "type": "dataframe",
              "summary": "{\n  \"name\": \"sepsis\",\n  \"rows\": 8,\n  \"fields\": [\n    {\n      \"column\": \"age_years\",\n      \"properties\": {\n        \"dtype\": \"number\",\n        \"std\": 6714.512696090098,\n        \"min\": 0.0,\n        \"max\": 19051.0,\n        \"num_unique_values\": 8,\n        \"samples\": [\n          72.50322817699858,\n          77.0,\n          19051.0\n        ],\n        \"semantic_type\": \"\",\n        \"description\": \"\"\n      }\n    },\n    {\n      \"column\": \"sex_0male_1female\",\n      \"properties\": {\n        \"dtype\": \"number\",\n        \"std\": 6735.396864171255,\n        \"min\": 0.0,\n        \"max\": 19051.0,\n        \"num_unique_values\": 5,\n        \"samples\": [\n          0.448585376095743,\n          1.0,\n          0.4973625649803903\n        ],\n        \"semantic_type\": \"\",\n        \"description\": \"\"\n      }\n    },\n    {\n      \"column\": \"episode_number\",\n      \"properties\": {\n        \"dtype\": \"number\",\n        \"std\": 6734.930603051906,\n        \"min\": 0.7837487278987089,\n        \"max\": 19051.0,\n        \"num_unique_values\": 6,\n        \"samples\": [\n          19051.0,\n          1.3962521652406699,\n          5.0\n        ],\n        \"semantic_type\": \"\",\n        \"description\": \"\"\n      }\n    },\n    {\n      \"column\": \"hospital_outcome_1alive_0dead\",\n      \"properties\": {\n        \"dtype\": \"number\",\n        \"std\": 6735.282890251642,\n        \"min\": 0.0,\n        \"max\": 19051.0,\n        \"num_unique_values\": 5,\n        \"samples\": [\n          0.8107185974489528,\n          1.0,\n          0.39174227308905907\n        ],\n        \"semantic_type\": \"\",\n        \"description\": \"\"\n      }\n    }\n  ]\n}"
            }
          },
          "metadata": {},
          "execution_count": 94
        }
      ]
    },
    {
      "cell_type": "code",
      "source": [
        "# Calculate the correlation matrix\n",
        "correlation_matrix = sepsis.corr()\n",
        "\n",
        "# Plot the correlation matrix using Seaborn's heatmap\n",
        "plt.figure(figsize=(12, 8))\n",
        "sns.heatmap(correlation_matrix, annot=True, cmap='coolwarm', fmt=\".2f\")\n",
        "plt.title('Correlation Heatmap of Dataset Variables')\n",
        "plt.show()"
      ],
      "metadata": {
        "id": "ccjCwz4gmPq_",
        "colab": {
          "base_uri": "https://localhost:8080/",
          "height": 699
        },
        "outputId": "5c988dff-0660-49f8-cdda-1f743691d8ff"
      },
      "execution_count": 95,
      "outputs": [
        {
          "output_type": "display_data",
          "data": {
            "text/plain": [
              "<Figure size 1200x800 with 2 Axes>"
            ],
            "image/png": "[encoded data removed]"
          },
          "metadata": {}
        }
      ]
    },
    {
      "cell_type": "markdown",
      "source": [
        "Observation:\n",
        "\n",
        "As shown in this heatmap, it is confirmed that the variables in this data set is non-linear since all of them has the values that are far from 1."
      ],
      "metadata": {
        "id": "hckeoMCU5xaO"
      }
    },
    {
      "cell_type": "markdown",
      "source": [
        "# Feature selection"
      ],
      "metadata": {
        "id": "0QUnbo5HiMZK"
      }
    },
    {
      "cell_type": "code",
      "source": [
        "# Feature Selection\n",
        "X = sepsis.drop(columns=['hospital_outcome_1alive_0dead'])\n",
        "y = sepsis['hospital_outcome_1alive_0dead']"
      ],
      "metadata": {
        "id": "_lqEH4fVm2ih"
      },
      "execution_count": 121,
      "outputs": []
    },
    {
      "cell_type": "markdown",
      "source": [
        "# Data Splitting"
      ],
      "metadata": {
        "id": "mR6SrOiuitnS"
      }
    },
    {
      "cell_type": "code",
      "source": [
        "# Splitting the data into training and testing sets 80% and 20%\n",
        "X_train, X_test, y_train, y_test = train_test_split(X, y, test_size=0.2, random_state=42)\n",
        "\n",
        "# Splitting the data into testing and validation sets 50% and 50%\n",
        "X_train, X_val, y_train, y_val = train_test_split(X_train, y_train, test_size=0.5, random_state=42)\n",
        "\n",
        "X_train.shape"
      ],
      "metadata": {
        "id": "b72s5u-QXzvi",
        "colab": {
          "base_uri": "https://localhost:8080/"
        },
        "outputId": "35b2e1fe-967c-4cce-a911-83c5dac6ebc6"
      },
      "execution_count": 122,
      "outputs": [
        {
          "output_type": "execute_result",
          "data": {
            "text/plain": [
              "(7620, 3)"
            ]
          },
          "metadata": {},
          "execution_count": 122
        }
      ]
    },
    {
      "cell_type": "markdown",
      "source": [
        "Observation:\n",
        "\n",
        "In this part of the Activity I have done the Data splitting, the X_train & X_test, and also the y_train & y_test. In this code we can see the test_size that I used is 0.2, it means I splitted the training data to 80% and testing data to 20% hence that is why it is configured to 0.2."
      ],
      "metadata": {
        "id": "ft3i1XQQpK4Y"
      }
    },
    {
      "cell_type": "code",
      "source": [
        "#checking the values of our split data\n",
        "print(X_train.shape)\n",
        "\n",
        "print(X_test.shape)\n",
        "\n",
        "print(y_train.shape)\n",
        "\n",
        "print(y_test.shape)"
      ],
      "metadata": {
        "colab": {
          "base_uri": "https://localhost:8080/"
        },
        "id": "3toQWuhsTQ2j",
        "outputId": "5735715b-1b3b-4c83-c8f1-327abaaad5ad"
      },
      "execution_count": 98,
      "outputs": [
        {
          "output_type": "stream",
          "name": "stdout",
          "text": [
            "(7620, 3)\n",
            "(3811, 3)\n",
            "(7620,)\n",
            "(3811,)\n"
          ]
        }
      ]
    },
    {
      "cell_type": "code",
      "source": [
        "# Scaling the Features\n",
        "scaler = MinMaxScaler()                                                                 #minmax scaler = use to transform the features\n",
        "X_train_scaled = scaler.fit_transform(X_train)                                          #fits the scaler to the X_train then transforms it\n",
        "X_test_scaled = scaler.transform(X_test)                                                #transforms the test data (X_test) using the mean and standard deviation calculated from the training data.\n",
        "X_val_scaled = scaler.transform(X_val)"
      ],
      "metadata": {
        "id": "mtCEtZqJX1y7"
      },
      "execution_count": 131,
      "outputs": []
    },
    {
      "cell_type": "code",
      "source": [
        "model = tf.keras.Sequential([\n",
        "    tf.keras.layers.Dense(units = 3, input_dim = 3),\n",
        "    tf.keras.layers.Dense(4, activation='relu'),\n",
        "    tf.keras.layers.Dropout(0.4),\n",
        "    tf.keras.layers.Dense(2, activation='relu'),\n",
        "    tf.keras.layers.Dropout(0.4),\n",
        "    tf.keras.layers.Dense(1, activation='sigmoid')                                              #Sigmoid = it is used on the last layer to make the output 0's and 1's\n",
        "])\n",
        "\n"
      ],
      "metadata": {
        "id": "9x7dp_2eX5Qr"
      },
      "execution_count": 133,
      "outputs": []
    },
    {
      "cell_type": "code",
      "source": [
        "# Compiling the model\n",
        "model.compile(\n",
        "              optimizer = tf.keras.optimizers.Adam(learning_rate = 0.00001),   #without this the firts initial accuracy will be 0.81% and it will remain as is. In this way we can see how the model learns as it progresses.\n",
        "              loss='binary_crossentropy',\n",
        "              metrics=['accuracy'])"
      ],
      "metadata": {
        "id": "lPUJrp_XYHfV"
      },
      "execution_count": 134,
      "outputs": []
    },
    {
      "cell_type": "code",
      "source": [
        "#training the model\n",
        "model.fit(X_train_scaled, y_train, epochs=60, batch_size=32)                                                 #result of the training model"
      ],
      "metadata": {
        "colab": {
          "base_uri": "https://localhost:8080/"
        },
        "id": "0g_QpV2GYKDs",
        "outputId": "67042b36-4963-4171-9043-18bc28e4c044"
      },
      "execution_count": 135,
      "outputs": [
        {
          "output_type": "stream",
          "name": "stdout",
          "text": [
            "Epoch 1/60\n",
            "239/239 [==============================] - 2s 2ms/step - loss: 0.6988 - accuracy: 0.6051\n",
            "Epoch 2/60\n",
            "239/239 [==============================] - 1s 2ms/step - loss: 0.6972 - accuracy: 0.6230\n",
            "Epoch 3/60\n",
            "239/239 [==============================] - 0s 2ms/step - loss: 0.6940 - accuracy: 0.6294\n",
            "Epoch 4/60\n",
            "239/239 [==============================] - 1s 2ms/step - loss: 0.6914 - accuracy: 0.6297\n",
            "Epoch 5/60\n",
            "239/239 [==============================] - 1s 2ms/step - loss: 0.6894 - accuracy: 0.6479\n",
            "Epoch 6/60\n",
            "239/239 [==============================] - 1s 2ms/step - loss: 0.6861 - accuracy: 0.6741\n",
            "Epoch 7/60\n",
            "239/239 [==============================] - 1s 3ms/step - loss: 0.6836 - accuracy: 0.7039\n",
            "Epoch 8/60\n",
            "239/239 [==============================] - 1s 3ms/step - loss: 0.6816 - accuracy: 0.7180\n",
            "Epoch 9/60\n",
            "239/239 [==============================] - 1s 4ms/step - loss: 0.6779 - accuracy: 0.7257\n",
            "Epoch 10/60\n",
            "239/239 [==============================] - 1s 2ms/step - loss: 0.6763 - accuracy: 0.7332\n",
            "Epoch 11/60\n",
            "239/239 [==============================] - 0s 2ms/step - loss: 0.6743 - accuracy: 0.7382\n",
            "Epoch 12/60\n",
            "239/239 [==============================] - 0s 2ms/step - loss: 0.6719 - accuracy: 0.7496\n",
            "Epoch 13/60\n",
            "239/239 [==============================] - 0s 2ms/step - loss: 0.6682 - accuracy: 0.7592\n",
            "Epoch 14/60\n",
            "239/239 [==============================] - 1s 2ms/step - loss: 0.6675 - accuracy: 0.7596\n",
            "Epoch 15/60\n",
            "239/239 [==============================] - 0s 2ms/step - loss: 0.6656 - accuracy: 0.7761\n",
            "Epoch 16/60\n",
            "239/239 [==============================] - 1s 2ms/step - loss: 0.6626 - accuracy: 0.7825\n",
            "Epoch 17/60\n",
            "239/239 [==============================] - 0s 2ms/step - loss: 0.6602 - accuracy: 0.7839\n",
            "Epoch 18/60\n",
            "239/239 [==============================] - 1s 2ms/step - loss: 0.6591 - accuracy: 0.7845\n",
            "Epoch 19/60\n",
            "239/239 [==============================] - 0s 2ms/step - loss: 0.6566 - accuracy: 0.7783\n",
            "Epoch 20/60\n",
            "239/239 [==============================] - 0s 2ms/step - loss: 0.6531 - accuracy: 0.7850\n",
            "Epoch 21/60\n",
            "239/239 [==============================] - 1s 2ms/step - loss: 0.6496 - accuracy: 0.7885\n",
            "Epoch 22/60\n",
            "239/239 [==============================] - 1s 2ms/step - loss: 0.6482 - accuracy: 0.7870\n",
            "Epoch 23/60\n",
            "239/239 [==============================] - 0s 2ms/step - loss: 0.6479 - accuracy: 0.7858\n",
            "Epoch 24/60\n",
            "239/239 [==============================] - 0s 2ms/step - loss: 0.6458 - accuracy: 0.7840\n",
            "Epoch 25/60\n",
            "239/239 [==============================] - 0s 2ms/step - loss: 0.6411 - accuracy: 0.7850\n",
            "Epoch 26/60\n",
            "239/239 [==============================] - 0s 2ms/step - loss: 0.6424 - accuracy: 0.7888\n",
            "Epoch 27/60\n",
            "239/239 [==============================] - 0s 2ms/step - loss: 0.6375 - accuracy: 0.7946\n",
            "Epoch 28/60\n",
            "239/239 [==============================] - 1s 2ms/step - loss: 0.6379 - accuracy: 0.7955\n",
            "Epoch 29/60\n",
            "239/239 [==============================] - 1s 2ms/step - loss: 0.6362 - accuracy: 0.7987\n",
            "Epoch 30/60\n",
            "239/239 [==============================] - 1s 3ms/step - loss: 0.6324 - accuracy: 0.8026\n",
            "Epoch 31/60\n",
            "239/239 [==============================] - 1s 3ms/step - loss: 0.6309 - accuracy: 0.8046\n",
            "Epoch 32/60\n",
            "239/239 [==============================] - 1s 3ms/step - loss: 0.6261 - accuracy: 0.8060\n",
            "Epoch 33/60\n",
            "239/239 [==============================] - 1s 3ms/step - loss: 0.6255 - accuracy: 0.8037\n",
            "Epoch 34/60\n",
            "239/239 [==============================] - 0s 2ms/step - loss: 0.6231 - accuracy: 0.8041\n",
            "Epoch 35/60\n",
            "239/239 [==============================] - 0s 2ms/step - loss: 0.6214 - accuracy: 0.8050\n",
            "Epoch 36/60\n",
            "239/239 [==============================] - 1s 2ms/step - loss: 0.6191 - accuracy: 0.8058\n",
            "Epoch 37/60\n",
            "239/239 [==============================] - 0s 2ms/step - loss: 0.6173 - accuracy: 0.8052\n",
            "Epoch 38/60\n",
            "239/239 [==============================] - 1s 2ms/step - loss: 0.6147 - accuracy: 0.8058\n",
            "Epoch 39/60\n",
            "239/239 [==============================] - 1s 2ms/step - loss: 0.6151 - accuracy: 0.8055\n",
            "Epoch 40/60\n",
            "239/239 [==============================] - 1s 2ms/step - loss: 0.6126 - accuracy: 0.8066\n",
            "Epoch 41/60\n",
            "239/239 [==============================] - 0s 2ms/step - loss: 0.6100 - accuracy: 0.8081\n",
            "Epoch 42/60\n",
            "239/239 [==============================] - 1s 2ms/step - loss: 0.6089 - accuracy: 0.8094\n",
            "Epoch 43/60\n",
            "239/239 [==============================] - 0s 2ms/step - loss: 0.6080 - accuracy: 0.8096\n",
            "Epoch 44/60\n",
            "239/239 [==============================] - 0s 2ms/step - loss: 0.6060 - accuracy: 0.8096\n",
            "Epoch 45/60\n",
            "239/239 [==============================] - 1s 2ms/step - loss: 0.6044 - accuracy: 0.8093\n",
            "Epoch 46/60\n",
            "239/239 [==============================] - 0s 2ms/step - loss: 0.6012 - accuracy: 0.8096\n",
            "Epoch 47/60\n",
            "239/239 [==============================] - 1s 2ms/step - loss: 0.6038 - accuracy: 0.8093\n",
            "Epoch 48/60\n",
            "239/239 [==============================] - 1s 2ms/step - loss: 0.5987 - accuracy: 0.8094\n",
            "Epoch 49/60\n",
            "239/239 [==============================] - 0s 2ms/step - loss: 0.6011 - accuracy: 0.8101\n",
            "Epoch 50/60\n",
            "239/239 [==============================] - 1s 2ms/step - loss: 0.5988 - accuracy: 0.8104\n",
            "Epoch 51/60\n",
            "239/239 [==============================] - 1s 2ms/step - loss: 0.5938 - accuracy: 0.8096\n",
            "Epoch 52/60\n",
            "239/239 [==============================] - 1s 2ms/step - loss: 0.5940 - accuracy: 0.8112\n",
            "Epoch 53/60\n",
            "239/239 [==============================] - 1s 3ms/step - loss: 0.5906 - accuracy: 0.8101\n",
            "Epoch 54/60\n",
            "239/239 [==============================] - 1s 3ms/step - loss: 0.5881 - accuracy: 0.8108\n",
            "Epoch 55/60\n",
            "239/239 [==============================] - 1s 3ms/step - loss: 0.5903 - accuracy: 0.8113\n",
            "Epoch 56/60\n",
            "239/239 [==============================] - 1s 3ms/step - loss: 0.5895 - accuracy: 0.8114\n",
            "Epoch 57/60\n",
            "239/239 [==============================] - 0s 2ms/step - loss: 0.5900 - accuracy: 0.8117\n",
            "Epoch 58/60\n",
            "239/239 [==============================] - 1s 2ms/step - loss: 0.5859 - accuracy: 0.8113\n",
            "Epoch 59/60\n",
            "239/239 [==============================] - 1s 2ms/step - loss: 0.5881 - accuracy: 0.8115\n",
            "Epoch 60/60\n",
            "239/239 [==============================] - 1s 2ms/step - loss: 0.5819 - accuracy: 0.8115\n"
          ]
        },
        {
          "output_type": "execute_result",
          "data": {
            "text/plain": [
              "<keras.src.callbacks.History at 0x7aa015aaf010>"
            ]
          },
          "metadata": {},
          "execution_count": 135
        }
      ]
    },
    {
      "cell_type": "markdown",
      "source": [
        "Observation:\n",
        "\n",
        "After training my model, we can see that after the 60th epoch it has reached the optimal accuracy for this dataset.  The accuracy is 0.8115 or 81% which is a pretty good accuracy for this model."
      ],
      "metadata": {
        "id": "a8Kt0fNMSSWo"
      }
    },
    {
      "cell_type": "code",
      "source": [
        "#Evaluating\n",
        "model.fit(X_val_scaled, y_val, epochs=60, batch_size=32)"
      ],
      "metadata": {
        "colab": {
          "base_uri": "https://localhost:8080/"
        },
        "id": "S45UnEfp8Zzb",
        "outputId": "ff23fd18-09ad-422a-dd39-d0dd0829a63b"
      },
      "execution_count": 136,
      "outputs": [
        {
          "output_type": "stream",
          "name": "stdout",
          "text": [
            "Epoch 1/60\n",
            "239/239 [==============================] - 1s 2ms/step - loss: 0.5873 - accuracy: 0.8054\n",
            "Epoch 2/60\n",
            "239/239 [==============================] - 1s 3ms/step - loss: 0.5823 - accuracy: 0.8055\n",
            "Epoch 3/60\n",
            "239/239 [==============================] - 1s 3ms/step - loss: 0.5856 - accuracy: 0.8055\n",
            "Epoch 4/60\n",
            "239/239 [==============================] - 1s 2ms/step - loss: 0.5855 - accuracy: 0.8055\n",
            "Epoch 5/60\n",
            "239/239 [==============================] - 0s 2ms/step - loss: 0.5876 - accuracy: 0.8055\n",
            "Epoch 6/60\n",
            "239/239 [==============================] - 1s 3ms/step - loss: 0.5825 - accuracy: 0.8055\n",
            "Epoch 7/60\n",
            "239/239 [==============================] - 1s 3ms/step - loss: 0.5839 - accuracy: 0.8055\n",
            "Epoch 8/60\n",
            "239/239 [==============================] - 1s 3ms/step - loss: 0.5808 - accuracy: 0.8055\n",
            "Epoch 9/60\n",
            "239/239 [==============================] - 1s 3ms/step - loss: 0.5791 - accuracy: 0.8055\n",
            "Epoch 10/60\n",
            "239/239 [==============================] - 1s 2ms/step - loss: 0.5818 - accuracy: 0.8055\n",
            "Epoch 11/60\n",
            "239/239 [==============================] - 0s 2ms/step - loss: 0.5851 - accuracy: 0.8055\n",
            "Epoch 12/60\n",
            "239/239 [==============================] - 0s 2ms/step - loss: 0.5805 - accuracy: 0.8055\n",
            "Epoch 13/60\n",
            "239/239 [==============================] - 1s 2ms/step - loss: 0.5782 - accuracy: 0.8055\n",
            "Epoch 14/60\n",
            "239/239 [==============================] - 0s 2ms/step - loss: 0.5743 - accuracy: 0.8055\n",
            "Epoch 15/60\n",
            "239/239 [==============================] - 1s 2ms/step - loss: 0.5764 - accuracy: 0.8055\n",
            "Epoch 16/60\n",
            "239/239 [==============================] - 1s 2ms/step - loss: 0.5717 - accuracy: 0.8055\n",
            "Epoch 17/60\n",
            "239/239 [==============================] - 1s 2ms/step - loss: 0.5764 - accuracy: 0.8055\n",
            "Epoch 18/60\n",
            "239/239 [==============================] - 0s 2ms/step - loss: 0.5771 - accuracy: 0.8055\n",
            "Epoch 19/60\n",
            "239/239 [==============================] - 0s 2ms/step - loss: 0.5742 - accuracy: 0.8055\n",
            "Epoch 20/60\n",
            "239/239 [==============================] - 0s 2ms/step - loss: 0.5677 - accuracy: 0.8055\n",
            "Epoch 21/60\n",
            "239/239 [==============================] - 1s 2ms/step - loss: 0.5715 - accuracy: 0.8055\n",
            "Epoch 22/60\n",
            "239/239 [==============================] - 0s 2ms/step - loss: 0.5773 - accuracy: 0.8055\n",
            "Epoch 23/60\n",
            "239/239 [==============================] - 1s 2ms/step - loss: 0.5695 - accuracy: 0.8055\n",
            "Epoch 24/60\n",
            "239/239 [==============================] - 1s 2ms/step - loss: 0.5763 - accuracy: 0.8055\n",
            "Epoch 25/60\n",
            "239/239 [==============================] - 1s 2ms/step - loss: 0.5740 - accuracy: 0.8055\n",
            "Epoch 26/60\n",
            "239/239 [==============================] - 1s 2ms/step - loss: 0.5697 - accuracy: 0.8055\n",
            "Epoch 27/60\n",
            "239/239 [==============================] - 1s 2ms/step - loss: 0.5744 - accuracy: 0.8055\n",
            "Epoch 28/60\n",
            "239/239 [==============================] - 1s 2ms/step - loss: 0.5683 - accuracy: 0.8055\n",
            "Epoch 29/60\n",
            "239/239 [==============================] - 1s 3ms/step - loss: 0.5729 - accuracy: 0.8055\n",
            "Epoch 30/60\n",
            "239/239 [==============================] - 1s 3ms/step - loss: 0.5714 - accuracy: 0.8055\n",
            "Epoch 31/60\n",
            "239/239 [==============================] - 1s 3ms/step - loss: 0.5722 - accuracy: 0.8055\n",
            "Epoch 32/60\n",
            "239/239 [==============================] - 1s 3ms/step - loss: 0.5692 - accuracy: 0.8055\n",
            "Epoch 33/60\n",
            "239/239 [==============================] - 0s 2ms/step - loss: 0.5659 - accuracy: 0.8055\n",
            "Epoch 34/60\n",
            "239/239 [==============================] - 0s 2ms/step - loss: 0.5679 - accuracy: 0.8055\n",
            "Epoch 35/60\n",
            "239/239 [==============================] - 1s 2ms/step - loss: 0.5674 - accuracy: 0.8055\n",
            "Epoch 36/60\n",
            "239/239 [==============================] - 0s 2ms/step - loss: 0.5708 - accuracy: 0.8055\n",
            "Epoch 37/60\n",
            "239/239 [==============================] - 1s 2ms/step - loss: 0.5683 - accuracy: 0.8055\n",
            "Epoch 38/60\n",
            "239/239 [==============================] - 1s 2ms/step - loss: 0.5660 - accuracy: 0.8055\n",
            "Epoch 39/60\n",
            "239/239 [==============================] - 0s 2ms/step - loss: 0.5613 - accuracy: 0.8055\n",
            "Epoch 40/60\n",
            "239/239 [==============================] - 1s 2ms/step - loss: 0.5575 - accuracy: 0.8055\n",
            "Epoch 41/60\n",
            "239/239 [==============================] - 1s 2ms/step - loss: 0.5633 - accuracy: 0.8055\n",
            "Epoch 42/60\n",
            "239/239 [==============================] - 1s 2ms/step - loss: 0.5651 - accuracy: 0.8055\n",
            "Epoch 43/60\n",
            "239/239 [==============================] - 0s 2ms/step - loss: 0.5667 - accuracy: 0.8055\n",
            "Epoch 44/60\n",
            "239/239 [==============================] - 0s 2ms/step - loss: 0.5638 - accuracy: 0.8055\n",
            "Epoch 45/60\n",
            "239/239 [==============================] - 1s 2ms/step - loss: 0.5635 - accuracy: 0.8055\n",
            "Epoch 46/60\n",
            "239/239 [==============================] - 1s 2ms/step - loss: 0.5625 - accuracy: 0.8055\n",
            "Epoch 47/60\n",
            "239/239 [==============================] - 1s 2ms/step - loss: 0.5652 - accuracy: 0.8055\n",
            "Epoch 48/60\n",
            "239/239 [==============================] - 0s 2ms/step - loss: 0.5627 - accuracy: 0.8055\n",
            "Epoch 49/60\n",
            "239/239 [==============================] - 1s 2ms/step - loss: 0.5646 - accuracy: 0.8055\n",
            "Epoch 50/60\n",
            "239/239 [==============================] - 1s 2ms/step - loss: 0.5609 - accuracy: 0.8055\n",
            "Epoch 51/60\n",
            "239/239 [==============================] - 1s 2ms/step - loss: 0.5568 - accuracy: 0.8055\n",
            "Epoch 52/60\n",
            "239/239 [==============================] - 1s 3ms/step - loss: 0.5613 - accuracy: 0.8055\n",
            "Epoch 53/60\n",
            "239/239 [==============================] - 1s 3ms/step - loss: 0.5591 - accuracy: 0.8055\n",
            "Epoch 54/60\n",
            "239/239 [==============================] - 1s 3ms/step - loss: 0.5575 - accuracy: 0.8055\n",
            "Epoch 55/60\n",
            "239/239 [==============================] - 1s 3ms/step - loss: 0.5595 - accuracy: 0.8055\n",
            "Epoch 56/60\n",
            "239/239 [==============================] - 1s 2ms/step - loss: 0.5654 - accuracy: 0.8055\n",
            "Epoch 57/60\n",
            "239/239 [==============================] - 1s 2ms/step - loss: 0.5623 - accuracy: 0.8055\n",
            "Epoch 58/60\n",
            "239/239 [==============================] - 1s 2ms/step - loss: 0.5612 - accuracy: 0.8055\n",
            "Epoch 59/60\n",
            "239/239 [==============================] - 1s 2ms/step - loss: 0.5579 - accuracy: 0.8055\n",
            "Epoch 60/60\n",
            "239/239 [==============================] - 1s 2ms/step - loss: 0.5573 - accuracy: 0.8055\n"
          ]
        },
        {
          "output_type": "execute_result",
          "data": {
            "text/plain": [
              "<keras.src.callbacks.History at 0x7aa01500f580>"
            ]
          },
          "metadata": {},
          "execution_count": 136
        }
      ]
    },
    {
      "cell_type": "markdown",
      "source": [
        "Observation:\n",
        "\n",
        "As we can see in my evaluation for my model it has an accuracy of 0.8055 or 80%\n",
        "a loss of 0.5573 in the Testing data."
      ],
      "metadata": {
        "id": "NwaS0-mlVuv_"
      }
    },
    {
      "cell_type": "markdown",
      "source": [
        "# Summary\n",
        "\n",
        "For this Assignment I had a hardtime at finding the Appropriate dataset for this assignment, because most of the Dataset that I'm finding it is either the file is not supported or it is a Linear dataset. Since for neural networks it is best used for Non linear datasets so that we can utilize the neural networks.\n",
        "First and foremost now that I found a dataset, firstly we need to check first if the datasets if there are null values or what type of data are there in your dataset. In my case my dataset are all integer and there are no null-values in my dataset. After that I quickly did a heatmap to know if my dataset are non linear, you can observe this if your heatmap values are far from 1, which in my case all of my values are very far from the value 1. Now to initialize the modeling I need to drop the column of my target variable in my dataset, after that I need to declare it as my Target variable as shown in my 3rd code cell. After that I now need to do the spliting of data, the x and y train, x and y test for my data split, I divided the training of data to 80/20 hence that is why my test_size is 0.2. After that I presented the Mean and std of the X_train variable in order for it to fit in the Scalar section of the code, it is important to do it since the variables mighe result into a leakage or worse may lead to overfitting. Furthermore after the training of the model, I now did the model.fit in order to know the accuracy of my model for the training data and the result is 0.8115 which is also 81%. Lastly I need to evaluate or verify my model if it has near accuracy percentage to the actual accuracy of the Data which is the Test datas. And true enough the accuracy for that model is 0.8055 or 80%."
      ],
      "metadata": {
        "id": "8feesw0HFuLI"
      }
    }
  ]
}